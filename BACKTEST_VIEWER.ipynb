{
 "cells": [
  {
   "cell_type": "code",
   "execution_count": null,
   "id": "213fd3e8-59e7-42cb-b891-b8e662ba5e45",
   "metadata": {},
   "outputs": [],
   "source": [
    "%run ANNOTATIONS.ipynb"
   ]
  },
  {
   "cell_type": "code",
   "execution_count": null,
   "id": "001d7036-b837-41ef-b416-7eefce8c7b27",
   "metadata": {},
   "outputs": [],
   "source": [
    "%run PATTERN_OBSERVER.ipynb"
   ]
  },
  {
   "cell_type": "code",
   "execution_count": null,
   "id": "09c217db-faaf-419d-9b70-3e4cb6971686",
   "metadata": {},
   "outputs": [],
   "source": [
    "# ability to make backtest checkbox and book checkbox lists\n",
    "%run CHECKBOXES.ipynb"
   ]
  },
  {
   "cell_type": "code",
   "execution_count": null,
   "id": "fc4287c0-403f-45cf-a3a1-2b6456fed2c1",
   "metadata": {},
   "outputs": [],
   "source": [
    "# location of datafiles\n",
    "%run DATA_CONTAINER.ipynb"
   ]
  },
  {
   "cell_type": "code",
   "execution_count": null,
   "id": "fdd5a933-9c6c-418f-9e4f-83186bc20026",
   "metadata": {},
   "outputs": [],
   "source": [
    "# ability to make settings block\n",
    "%run SETTINGS.ipynb"
   ]
  },
  {
   "cell_type": "code",
   "execution_count": null,
   "id": "e93b66e1-bbdc-4e11-9706-4f3005b93c53",
   "metadata": {},
   "outputs": [],
   "source": [
    "# define extraday analysis plots\n",
    "%run VIEWING_TABS_EXTRADAY_ANALYSIS.ipynb"
   ]
  },
  {
   "cell_type": "code",
   "execution_count": null,
   "id": "d14bc988-67c4-4634-b363-eb416cd01af0",
   "metadata": {},
   "outputs": [],
   "source": [
    "# define intraday analysis plots\n",
    "%run VIEWING_TABS_INTRADAY_ANALYSIS.ipynb"
   ]
  },
  {
   "cell_type": "code",
   "execution_count": null,
   "id": "28bfdba4-a87b-4980-b364-5074b06c30aa",
   "metadata": {},
   "outputs": [],
   "source": [
    "# define factor analysis plots\n",
    "%run VIEWING_TABS_FACTOR_ANALYSIS.ipynb"
   ]
  },
  {
   "cell_type": "code",
   "execution_count": null,
   "id": "0404832a-cd06-42cd-a393-edacdd6f6143",
   "metadata": {
    "tags": []
   },
   "outputs": [],
   "source": [
    "class BACKTEST_VIEWER(IObserver):\n",
    "    def __init__(self,\n",
    "        name='BACKTEST_VIEWER'\n",
    "        ):\n",
    "        self.name=name\n",
    "        \n",
    "        # instantiate SETTINGS\n",
    "        self._settings=SETTINGS(\n",
    "            name='SETTINGS',\n",
    "            width='20%',\n",
    "        )\n",
    "        self._view_type=self.applied_view_type\n",
    "\n",
    "        # instantiate BACKTEST_SELECTOR\n",
    "        self._backtests=CHECKBOXES(\n",
    "            name='BACKTEST_SELECTOR',\n",
    "            options=self._settings.reference['all_backtests'],\n",
    "            default=False,\n",
    "            width='60%',\n",
    "        )\n",
    "\n",
    "        # instantiate BOOK_SELECTOR\n",
    "        self._books=CHECKBOXES(\n",
    "            name='BOOK_SELECTOR',\n",
    "            options=self._settings.reference['all_books'],                                                           # TODO `BACKTEST SELECTOR` needs to have `all_books`\n",
    "            default=True,\n",
    "            width='20%',\n",
    "        )\n",
    "        #self._backtests.attach(self._books)                                                                         # TODO `BOOK SELECTOR` needs to observe changes in `BACKTEST SELECTOR|all_backtests`\n",
    "\n",
    "        # instantiate DATA_CONTAINER\n",
    "        self._data_container=DATA_CONTAINER(                                                                                                # TODO needs to observe changes in `self.selected_backtests`, `self.selected_books` and `self.applied_settings`\n",
    "            applied_backtest_path=self._applied_backtest_path,\n",
    "            applied_view_type=self._applied_view_type,\n",
    "            applied_return_type=self._applied_return_type,\n",
    "            applied_date_from=self._applied_date_from,\n",
    "            applied_date_to=self._applied_date_to,\n",
    "            selected_backtests=self._selected_backtests,\n",
    "            selected_books=self._selected_books,\n",
    "        )\n",
    "        \n",
    "        # BACKTEST_SELECTOR observes ...\n",
    "        self._settings.attach(self._backtests)       # `all_backtests` from SETTINGS\n",
    "\n",
    "        # DATA_CONTAINER observes ...\n",
    "        self._settings.attach(self._data_container)  # `backtest_path` from SETTINGS\n",
    "        self._backtests.attach(self._data_container) # `applied_settings` from BACKTEST_SELECTOR, i.e. changes in selected backtests\n",
    "        self._books.attach(self._data_container)     # `applied_settings` from BOOK_SELECTOR, i.e. changes in selected books\n",
    "\n",
    "        # build\n",
    "        self.widget=self._make()                                                                                        # TODO needs to observe changes in self._data_container\n",
    "\n",
    "    ####################################\n",
    "    # observer pattern\n",
    "    ####################################\n",
    "    def react(self,\n",
    "        subject_name : str,\n",
    "        subject_info : object\n",
    "        ) -> None :\n",
    "        print('OBSERVER PATTERN',':',self.name,'REACTS','subject_name',subject_name)\n",
    "        print('OBSERVER PATTERN',':',self.name,'REACTS','subject_info',subject_info)\n",
    "\n",
    "        # SETTINGS changed\n",
    "        if subject_name=='SETTINGS':\n",
    "            if self._view_type!=self.subject_info['view_type']:\n",
    "\n",
    "                # VIEWING TABS observe DATA_CONTAINER\n",
    "                self._data_container.attach(EXTRADAY_TABS)\n",
    "                self._data_container.attach(INTRADAY_TABS)\n",
    "                self._data_container.attach(FACTOR_TABS)\n",
    "\n",
    "    @property\n",
    "    def _applied_backtest_path(self) -> str :\n",
    "        return self._settings.reference['backtest_path']\n",
    "\n",
    "    @property\n",
    "    def _applied_view_type(self) -> str :\n",
    "        return self._settings.reference['view_type']\n",
    "\n",
    "    @property\n",
    "    def _applied_return_type(self) -> str :\n",
    "        return self._settings.reference['return_type']\n",
    "\n",
    "    @property\n",
    "    def _applied_date_from(self) -> object :\n",
    "        return self._settings.reference['date_from']\n",
    "\n",
    "    @property\n",
    "    def _applied_date_to(self) -> object :\n",
    "        return self._settings.reference['date_to']\n",
    "\n",
    "    @property\n",
    "    def _selected_backtests(self) -> OPTIONID_VALUES:\n",
    "        return self._backtests.applied_settings\n",
    "        \n",
    "    @property\n",
    "    def _selected_books(self) -> OPTIONID_VALUES:\n",
    "        return self._books.applied_settings\n",
    "\n",
    "    @property\n",
    "    def _control_widgets(self) -> BUTTONS:\n",
    "        return self.widget.children[0].children\n",
    "    \n",
    "    @property\n",
    "    def _viewing_widgets(self) -> WIDGETS:\n",
    "        return self.widget.children[1].children\n",
    "\n",
    "    ####################################\n",
    "    # GUI\n",
    "    ####################################\n",
    "    def _make(self) -> VBox :\n",
    "        # controls\n",
    "        controls=HBox(\n",
    "            [\n",
    "                self._backtests.widget,\n",
    "                self._books.widget,\n",
    "                self._settings.widget,\n",
    "            ]\n",
    "        )\n",
    "        \n",
    "        # viewing gab\n",
    "        self._make_viewing_tab()\n",
    "\n",
    "        # build screen\n",
    "        return VBox(\n",
    "            [\n",
    "                HBox(controls),\n",
    "                self._viewing_block.widget\n",
    "            ]\n",
    "        )\n",
    "    \n",
    "    def _make_viewing_tab(self) -> TAB_COLLECTION :\n",
    "        # instantiate\n",
    "        self._viewing_tab=make_extraday_tab()\n",
    "        \n",
    "        # VIEWING_TAB observes ...\n",
    "        self._settings.attach(self._viewing_tab)                  # `view_type` from SETTINGS\n",
    "\n",
    "        # register checkboxes\n",
    "        for c in widgets:\n",
    "            c.observe(self._onchange_checkbox,names='value')\n",
    "\n",
    "# example\n",
    "BACKTEST_VIEWER().widget"
   ]
  },
  {
   "cell_type": "code",
   "execution_count": null,
   "id": "8970d6ce-bce8-420b-bdd2-94b5952f53d0",
   "metadata": {},
   "outputs": [],
   "source": [
    "# display\n",
    "a=BACKTEST_VIEWER()\n",
    "a.widget"
   ]
  },
  {
   "cell_type": "code",
   "execution_count": null,
   "id": "17a03b3e-9aee-46a8-97e9-0e418f1d67c9",
   "metadata": {},
   "outputs": [],
   "source": [
    "import pickle\n",
    "a_file = open(\"data.pkl\", \"wb\")\n",
    "pickle.dump(dat,a_file)\n",
    "'''\n",
    "import pickle\n",
    "a_file = open(\"data.pkl\", \"rb\")\n",
    "output = pickle. load(a_file)\n",
    "'''"
   ]
  }
 ],
 "metadata": {
  "kernelspec": {
   "display_name": "Python 3",
   "language": "python",
   "name": "python3"
  },
  "language_info": {
   "codemirror_mode": {
    "name": "ipython",
    "version": 3
   },
   "file_extension": ".py",
   "mimetype": "text/x-python",
   "name": "python",
   "nbconvert_exporter": "python",
   "pygments_lexer": "ipython3",
   "version": "3.8.10"
  }
 },
 "nbformat": 4,
 "nbformat_minor": 5
}
