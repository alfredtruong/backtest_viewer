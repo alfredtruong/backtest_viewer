{
 "cells": [
  {
   "cell_type": "code",
   "execution_count": 12,
   "id": "fc4287c0-403f-45cf-a3a1-2b6456fed2c1",
   "metadata": {},
   "outputs": [],
   "source": [
    "# location of datafiles\n",
    "%run DATA_CONTAINER.ipynb"
   ]
  },
  {
   "cell_type": "code",
   "execution_count": 2,
   "id": "09c217db-faaf-419d-9b70-3e4cb6971686",
   "metadata": {},
   "outputs": [],
   "source": [
    "# ability to make backtest checkbox and book checkbox lists\n",
    "%run CHECKBOXES.ipynb"
   ]
  },
  {
   "cell_type": "code",
   "execution_count": 3,
   "id": "fdd5a933-9c6c-418f-9e4f-83186bc20026",
   "metadata": {},
   "outputs": [],
   "source": [
    "# ability to make settings block\n",
    "%run SETTINGS.ipynb"
   ]
  },
  {
   "cell_type": "code",
   "execution_count": 4,
   "id": "e93b66e1-bbdc-4e11-9706-4f3005b93c53",
   "metadata": {},
   "outputs": [
    {
     "name": "stdout",
     "output_type": "stream",
     "text": [
      "viewing tab = extraday evolution\n"
     ]
    }
   ],
   "source": [
    "# define extraday analysis plots\n",
    "%run VIEWING_TABS_EXTRADAY_ANALYSIS.ipynb"
   ]
  },
  {
   "cell_type": "code",
   "execution_count": 5,
   "id": "d14bc988-67c4-4634-b363-eb416cd01af0",
   "metadata": {},
   "outputs": [
    {
     "name": "stdout",
     "output_type": "stream",
     "text": [
      "viewing tab = intraday evolution\n"
     ]
    }
   ],
   "source": [
    "# define intraday analysis plots\n",
    "%run VIEWING_TABS_INTRADAY_ANALYSIS.ipynb"
   ]
  },
  {
   "cell_type": "code",
   "execution_count": 6,
   "id": "28bfdba4-a87b-4980-b364-5074b06c30aa",
   "metadata": {},
   "outputs": [
    {
     "name": "stdout",
     "output_type": "stream",
     "text": [
      "viewing tab = factor analysis\n"
     ]
    }
   ],
   "source": [
    "# define factor analysis plots\n",
    "%run VIEWING_TABS_FACTOR_ANALYSIS.ipynb"
   ]
  },
  {
   "cell_type": "code",
   "execution_count": 10,
   "id": "0404832a-cd06-42cd-a393-edacdd6f6143",
   "metadata": {
    "tags": []
   },
   "outputs": [
    {
     "name": "stdout",
     "output_type": "stream",
     "text": [
      "SETTINGS : REFERENCE : all_backtests : {'AZUL4.SA': WindowsPath('C:/Users/ahkar/OneDrive/Documents/Data/B3/AZUL4.SA.csv'), 'BEEF3.SA': WindowsPath('C:/Users/ahkar/OneDrive/Documents/Data/B3/BEEF3.SA.csv'), 'BRFS3.SA': WindowsPath('C:/Users/ahkar/OneDrive/Documents/Data/B3/BRFS3.SA.csv'), 'CCRO3.SA': WindowsPath('C:/Users/ahkar/OneDrive/Documents/Data/B3/CCRO3.SA.csv'), 'ECOR3.SA': WindowsPath('C:/Users/ahkar/OneDrive/Documents/Data/B3/ECOR3.SA.csv'), 'EMBR3.SA': WindowsPath('C:/Users/ahkar/OneDrive/Documents/Data/B3/EMBR3.SA.csv'), 'GOLL4.SA': WindowsPath('C:/Users/ahkar/OneDrive/Documents/Data/B3/GOLL4.SA.csv'), 'JBSS3.SA': WindowsPath('C:/Users/ahkar/OneDrive/Documents/Data/B3/JBSS3.SA.csv'), 'MRFG3.SA': WindowsPath('C:/Users/ahkar/OneDrive/Documents/Data/B3/MRFG3.SA.csv'), 'RAIL3.SA': WindowsPath('C:/Users/ahkar/OneDrive/Documents/Data/B3/RAIL3.SA.csv'), 'VALE3.SA': WindowsPath('C:/Users/ahkar/OneDrive/Documents/Data/B3/VALE3.SA.csv'), 'WEGE3.SA': WindowsPath('C:/Users/ahkar/OneDrive/Documents/Data/B3/WEGE3.SA.csv')}\n",
      "SETTINGS : REFERENCE : all_books : {'Trading': 'Trading', 'Quote': 'Quote', 'MM2': 'MM2', 'Hedge': 'Hedge', 'Hit': 'Hit'}\n",
      "SETTINGS : REFERENCE : backtest_path : C:\\Users\\ahkar\\OneDrive\\Documents\\Data\\B3\n",
      "SETTINGS : REFERENCE : date_from : None\n",
      "SETTINGS : REFERENCE : date_to : None\n",
      "SETTINGS : REFERENCE : return_type : Cash + Future\n",
      "DATA_CONTAINER : REFERENCE : DATA_DICO SIZE = 0\n",
      "DATA_CONTAINER : REFERENCE : applied_backtest_path : C:\\Users\\ahkar\\OneDrive\\Documents\\Data\\B3\n",
      "DATA_CONTAINER : REFERENCE : applied_date_from : None\n",
      "DATA_CONTAINER : REFERENCE : applied_date_to : None\n",
      "DATA_CONTAINER : REFERENCE : applied_return_type : Cash + Future\n",
      "DATA_CONTAINER : REFERENCE : selected_backtests : {('AZUL4.SA', WindowsPath('C:/Users/ahkar/OneDrive/Documents/Data/B3/AZUL4.SA.csv')): False, ('BEEF3.SA', WindowsPath('C:/Users/ahkar/OneDrive/Documents/Data/B3/BEEF3.SA.csv')): False, ('BRFS3.SA', WindowsPath('C:/Users/ahkar/OneDrive/Documents/Data/B3/BRFS3.SA.csv')): False, ('CCRO3.SA', WindowsPath('C:/Users/ahkar/OneDrive/Documents/Data/B3/CCRO3.SA.csv')): False, ('ECOR3.SA', WindowsPath('C:/Users/ahkar/OneDrive/Documents/Data/B3/ECOR3.SA.csv')): False, ('EMBR3.SA', WindowsPath('C:/Users/ahkar/OneDrive/Documents/Data/B3/EMBR3.SA.csv')): False, ('GOLL4.SA', WindowsPath('C:/Users/ahkar/OneDrive/Documents/Data/B3/GOLL4.SA.csv')): False, ('JBSS3.SA', WindowsPath('C:/Users/ahkar/OneDrive/Documents/Data/B3/JBSS3.SA.csv')): False, ('MRFG3.SA', WindowsPath('C:/Users/ahkar/OneDrive/Documents/Data/B3/MRFG3.SA.csv')): False, ('RAIL3.SA', WindowsPath('C:/Users/ahkar/OneDrive/Documents/Data/B3/RAIL3.SA.csv')): False, ('VALE3.SA', WindowsPath('C:/Users/ahkar/OneDrive/Documents/Data/B3/VALE3.SA.csv')): False, ('WEGE3.SA', WindowsPath('C:/Users/ahkar/OneDrive/Documents/Data/B3/WEGE3.SA.csv')): False}\n",
      "DATA_CONTAINER : REFERENCE : selected_books : {('Trading', 'Trading'): True, ('Quote', 'Quote'): True, ('MM2', 'MM2'): True, ('Hedge', 'Hedge'): True, ('Hit', 'Hit'): True}\n",
      "OBSERVER PATTERN : BACKTEST_SELECTOR OBSERVES SETTINGS\n",
      "OBSERVER PATTERN : DATA_CONTAINER OBSERVES SETTINGS\n",
      "OBSERVER PATTERN : DATA_CONTAINER OBSERVES BACKTEST_SELECTOR\n",
      "OBSERVER PATTERN : DATA_CONTAINER OBSERVES BOOK_SELECTOR\n",
      "OBSERVER PATTERN : EXTRADAY_ANALYSIS OBSERVES DATA_CONTAINER\n",
      "OBSERVER PATTERN : INTRADAY_ANALYSIS OBSERVES DATA_CONTAINER\n",
      "OBSERVER PATTERN : FACTOR_ANALYSIS OBSERVES DATA_CONTAINER\n"
     ]
    },
    {
     "data": {
      "application/vnd.jupyter.widget-view+json": {
       "model_id": "6b9a4196ceae4e0a966364662d81f404",
       "version_major": 2,
       "version_minor": 0
      },
      "text/plain": [
       "VBox(children=(HBox(children=(VBox(children=(HBox(children=(Button(description='apply', disabled=True, style=B…"
      ]
     },
     "metadata": {},
     "output_type": "display_data"
    }
   ],
   "source": [
    "class BACKTEST_VIEWER:\n",
    "    def __init__(self,\n",
    "        name='BACKTEST_VIEWER'\n",
    "        ):\n",
    "        self.name=name\n",
    "\n",
    "        # instantiate SETTINGS\n",
    "        self._settings=SETTINGS(\n",
    "            name='SETTINGS',\n",
    "            width='20%'\n",
    "        )\n",
    "\n",
    "        # instantiate BACKTEST_SELECTOR\n",
    "        self._backtests=CHECKBOXES(\n",
    "            name='BACKTEST_SELECTOR',\n",
    "            options=self._settings.reference['all_backtests'],\n",
    "            default=False,\n",
    "            width='60%'\n",
    "        )\n",
    "\n",
    "        # instantiate BOOK_SELECTOR\n",
    "        self._books=CHECKBOXES(\n",
    "            name='BOOK_SELECTOR',\n",
    "            options=self._settings.reference['all_books'],                                                           # TODO `BACKTEST SELECTOR` needs to have `all_books`\n",
    "            default=True,\n",
    "            width='20%'\n",
    "        )\n",
    "        #self._backtests.attach(self._books)                                                                         # TODO `BOOK SELECTOR` needs to observe changes in `BACKTEST SELECTOR|all_backtests`\n",
    "\n",
    "        # instantiate DATA_CONTAINER\n",
    "        self._data_container=DATA_CONTAINER(                                                                                                # TODO needs to observe changes in `self.selected_backtests`, `self.selected_books` and `self.applied_settings`\n",
    "            applied_backtest_path=self._applied_backtest_path,\n",
    "            applied_date_from=self._applied_date_from,\n",
    "            applied_date_to=self._applied_date_to,\n",
    "            applied_return_type=self._applied_return_type,\n",
    "            selected_backtests=self._selected_backtests,\n",
    "            selected_books=self._selected_books,\n",
    "        )\n",
    "        \n",
    "        # BACKTEST_SELECTOR observes ...\n",
    "        self._settings.attach(self._backtests) # BACKTEST_SELECTOR looks at `all_backtests` from SETTINGS\n",
    "\n",
    "        # DATA_CONTAINER observes ...\n",
    "        self._settings.attach(self._data_container) # DATA_CONTAINER looks at `backtest_path` from SETTINGS\n",
    "        self._backtests.attach(self._data_container) # DATA_CONTAINER looks at `applied_settings` from BACKTEST_SELECTOR, i.e. changes in selected backtests\n",
    "        self._books.attach(self._data_container) # DATA_CONTAINER looks at `applied_settings` from BOOK_SELECTOR, i.e. changes in selected books\n",
    "\n",
    "        # build\n",
    "        self.widget=self._make()                                                                                        # TODO needs to observe changes in self._data_container\n",
    "\n",
    "    @property\n",
    "    def _applied_backtest_path(self):\n",
    "        return self._settings.reference['backtest_path']\n",
    "\n",
    "    @property\n",
    "    def _applied_date_from(self):\n",
    "        return self._settings.reference['date_from']\n",
    "\n",
    "    @property\n",
    "    def _applied_date_to(self):\n",
    "        return self._settings.reference['date_to']\n",
    "\n",
    "    @property\n",
    "    def _applied_return_type(self):\n",
    "        return self._settings.reference['return_type']\n",
    "\n",
    "    @property\n",
    "    def _selected_backtests(self):\n",
    "        return self._backtests.applied_settings\n",
    "        \n",
    "    @property\n",
    "    def _selected_books(self):\n",
    "        return self._books.applied_settings\n",
    "\n",
    "    @property\n",
    "    def _control_widgets(self):\n",
    "        return self.widget.children[0].children\n",
    "    \n",
    "    @property\n",
    "    def _viewing_widgets(self):\n",
    "        return self.widget.children[1].children\n",
    "    \n",
    "  \n",
    "    def _make(self):\n",
    "        # each tab observes DATA_CONTAINER\n",
    "        self._data_container.attach(EXTRADAY_TABS)\n",
    "        self._data_container.attach(INTRADAY_TABS)\n",
    "        self._data_container.attach(FACTOR_TABS)\n",
    "        \n",
    "        # build viewing block\n",
    "        self._viewing_block=TAB_COLLECTION(\n",
    "            description='all plots',\n",
    "            name='all plots',\n",
    "            tabs=\n",
    "            [\n",
    "                EXTRADAY_TABS,\n",
    "                INTRADAY_TABS,\n",
    "                FACTOR_TABS,\n",
    "            ]\n",
    "        )\n",
    "        \n",
    "        # build screen\n",
    "        return VBox(\n",
    "            [\n",
    "                HBox(\n",
    "                    [\n",
    "                        self._backtests.widget,\n",
    "                        self._books.widget,\n",
    "                        self._settings.widget,\n",
    "                    ]\n",
    "                ),\n",
    "                self._viewing_block.widget\n",
    "            ]\n",
    "        )\n",
    "\n",
    "# example\n",
    "BACKTEST_VIEWER().widget"
   ]
  },
  {
   "cell_type": "code",
   "execution_count": 8,
   "id": "8970d6ce-bce8-420b-bdd2-94b5952f53d0",
   "metadata": {},
   "outputs": [
    {
     "name": "stdout",
     "output_type": "stream",
     "text": [
      "SETTINGS : REFERENCE : all_backtests : {'AZUL4.SA': WindowsPath('C:/Users/ahkar/OneDrive/Documents/Data/B3/AZUL4.SA.csv'), 'BEEF3.SA': WindowsPath('C:/Users/ahkar/OneDrive/Documents/Data/B3/BEEF3.SA.csv'), 'BRFS3.SA': WindowsPath('C:/Users/ahkar/OneDrive/Documents/Data/B3/BRFS3.SA.csv'), 'CCRO3.SA': WindowsPath('C:/Users/ahkar/OneDrive/Documents/Data/B3/CCRO3.SA.csv'), 'ECOR3.SA': WindowsPath('C:/Users/ahkar/OneDrive/Documents/Data/B3/ECOR3.SA.csv'), 'EMBR3.SA': WindowsPath('C:/Users/ahkar/OneDrive/Documents/Data/B3/EMBR3.SA.csv'), 'GOLL4.SA': WindowsPath('C:/Users/ahkar/OneDrive/Documents/Data/B3/GOLL4.SA.csv'), 'JBSS3.SA': WindowsPath('C:/Users/ahkar/OneDrive/Documents/Data/B3/JBSS3.SA.csv'), 'MRFG3.SA': WindowsPath('C:/Users/ahkar/OneDrive/Documents/Data/B3/MRFG3.SA.csv'), 'RAIL3.SA': WindowsPath('C:/Users/ahkar/OneDrive/Documents/Data/B3/RAIL3.SA.csv'), 'VALE3.SA': WindowsPath('C:/Users/ahkar/OneDrive/Documents/Data/B3/VALE3.SA.csv'), 'WEGE3.SA': WindowsPath('C:/Users/ahkar/OneDrive/Documents/Data/B3/WEGE3.SA.csv')}\n",
      "SETTINGS : REFERENCE : all_books : {'Trading': 'Trading', 'Quote': 'Quote', 'MM2': 'MM2', 'Hedge': 'Hedge', 'Hit': 'Hit'}\n",
      "SETTINGS : REFERENCE : backtest_path : C:\\Users\\ahkar\\OneDrive\\Documents\\Data\\B3\n",
      "SETTINGS : REFERENCE : date_from : None\n",
      "SETTINGS : REFERENCE : date_to : None\n",
      "SETTINGS : REFERENCE : return_type : Cash + Future\n",
      "DATA_CONTAINER : REFERENCE : DATA_DICO SIZE = 0\n",
      "DATA_CONTAINER : REFERENCE : applied_backtest_path : C:\\Users\\ahkar\\OneDrive\\Documents\\Data\\B3\n",
      "DATA_CONTAINER : REFERENCE : applied_date_from : None\n",
      "DATA_CONTAINER : REFERENCE : applied_date_to : None\n",
      "DATA_CONTAINER : REFERENCE : applied_return_type : Cash + Future\n",
      "DATA_CONTAINER : REFERENCE : selected_backtests : {('AZUL4.SA', WindowsPath('C:/Users/ahkar/OneDrive/Documents/Data/B3/AZUL4.SA.csv')): False, ('BEEF3.SA', WindowsPath('C:/Users/ahkar/OneDrive/Documents/Data/B3/BEEF3.SA.csv')): False, ('BRFS3.SA', WindowsPath('C:/Users/ahkar/OneDrive/Documents/Data/B3/BRFS3.SA.csv')): False, ('CCRO3.SA', WindowsPath('C:/Users/ahkar/OneDrive/Documents/Data/B3/CCRO3.SA.csv')): False, ('ECOR3.SA', WindowsPath('C:/Users/ahkar/OneDrive/Documents/Data/B3/ECOR3.SA.csv')): False, ('EMBR3.SA', WindowsPath('C:/Users/ahkar/OneDrive/Documents/Data/B3/EMBR3.SA.csv')): False, ('GOLL4.SA', WindowsPath('C:/Users/ahkar/OneDrive/Documents/Data/B3/GOLL4.SA.csv')): False, ('JBSS3.SA', WindowsPath('C:/Users/ahkar/OneDrive/Documents/Data/B3/JBSS3.SA.csv')): False, ('MRFG3.SA', WindowsPath('C:/Users/ahkar/OneDrive/Documents/Data/B3/MRFG3.SA.csv')): False, ('RAIL3.SA', WindowsPath('C:/Users/ahkar/OneDrive/Documents/Data/B3/RAIL3.SA.csv')): False, ('VALE3.SA', WindowsPath('C:/Users/ahkar/OneDrive/Documents/Data/B3/VALE3.SA.csv')): False, ('WEGE3.SA', WindowsPath('C:/Users/ahkar/OneDrive/Documents/Data/B3/WEGE3.SA.csv')): False}\n",
      "DATA_CONTAINER : REFERENCE : selected_books : {('Trading', 'Trading'): True, ('Quote', 'Quote'): True, ('MM2', 'MM2'): True, ('Hedge', 'Hedge'): True, ('Hit', 'Hit'): True}\n",
      "OBSERVER PATTERN : BACKTEST_SELECTOR OBSERVES SETTINGS\n",
      "OBSERVER PATTERN : DATA_CONTAINER OBSERVES SETTINGS\n",
      "OBSERVER PATTERN : DATA_CONTAINER OBSERVES BACKTEST_SELECTOR\n",
      "OBSERVER PATTERN : DATA_CONTAINER OBSERVES BOOK_SELECTOR\n",
      "OBSERVER PATTERN : EXTRADAY_ANALYSIS OBSERVES DATA_CONTAINER\n",
      "OBSERVER PATTERN : INTRADAY_ANALYSIS OBSERVES DATA_CONTAINER\n",
      "OBSERVER PATTERN : FACTOR_ANALYSIS OBSERVES DATA_CONTAINER\n"
     ]
    },
    {
     "data": {
      "application/vnd.jupyter.widget-view+json": {
       "model_id": "7e22ff9f35df471d921b601ed00682dd",
       "version_major": 2,
       "version_minor": 0
      },
      "text/plain": [
       "VBox(children=(HBox(children=(VBox(children=(HBox(children=(Button(description='apply', disabled=True, style=B…"
      ]
     },
     "metadata": {},
     "output_type": "display_data"
    }
   ],
   "source": [
    "# display\n",
    "a=BACKTEST_VIEWER()\n",
    "a.widget"
   ]
  },
  {
   "cell_type": "code",
   "execution_count": 9,
   "id": "61114e99-54b3-438b-a62b-8f39f825aaf9",
   "metadata": {},
   "outputs": [
    {
     "ename": "AttributeError",
     "evalue": "'TAB_COLLECTION' object has no attribute 'is_active'",
     "output_type": "error",
     "traceback": [
      "\u001b[1;31m---------------------------------------------------------------------------\u001b[0m",
      "\u001b[1;31mAttributeError\u001b[0m                            Traceback (most recent call last)",
      "\u001b[1;32m<ipython-input-9-e1d3d83274c6>\u001b[0m in \u001b[0;36m<module>\u001b[1;34m\u001b[0m\n\u001b[1;32m----> 1\u001b[1;33m \u001b[1;33m[\u001b[0m\u001b[0mx\u001b[0m\u001b[1;33m.\u001b[0m\u001b[0mis_active\u001b[0m \u001b[1;32mfor\u001b[0m \u001b[0mx\u001b[0m \u001b[1;32min\u001b[0m \u001b[0ma\u001b[0m\u001b[1;33m.\u001b[0m\u001b[0m_viewing_block\u001b[0m\u001b[1;33m.\u001b[0m\u001b[0mtabs\u001b[0m\u001b[1;33m]\u001b[0m\u001b[1;33m\u001b[0m\u001b[1;33m\u001b[0m\u001b[0m\n\u001b[0m",
      "\u001b[1;32m<ipython-input-9-e1d3d83274c6>\u001b[0m in \u001b[0;36m<listcomp>\u001b[1;34m(.0)\u001b[0m\n\u001b[1;32m----> 1\u001b[1;33m \u001b[1;33m[\u001b[0m\u001b[0mx\u001b[0m\u001b[1;33m.\u001b[0m\u001b[0mis_active\u001b[0m \u001b[1;32mfor\u001b[0m \u001b[0mx\u001b[0m \u001b[1;32min\u001b[0m \u001b[0ma\u001b[0m\u001b[1;33m.\u001b[0m\u001b[0m_viewing_block\u001b[0m\u001b[1;33m.\u001b[0m\u001b[0mtabs\u001b[0m\u001b[1;33m]\u001b[0m\u001b[1;33m\u001b[0m\u001b[1;33m\u001b[0m\u001b[0m\n\u001b[0m",
      "\u001b[1;31mAttributeError\u001b[0m: 'TAB_COLLECTION' object has no attribute 'is_active'"
     ]
    }
   ],
   "source": [
    "[x.is_active for x in a._viewing_block.tabs]"
   ]
  },
  {
   "cell_type": "code",
   "execution_count": null,
   "id": "187773f6-a1a3-4962-a163-b4de38472db0",
   "metadata": {},
   "outputs": [],
   "source": [
    "len(a._control_widgets)"
   ]
  },
  {
   "cell_type": "code",
   "execution_count": null,
   "id": "5e231b31-d039-431e-95fc-a2f7977c52e2",
   "metadata": {},
   "outputs": [],
   "source": [
    "a._viewing_widgets[0]"
   ]
  },
  {
   "cell_type": "code",
   "execution_count": null,
   "id": "e846d448-80d8-4f17-9db2-134f93d326f7",
   "metadata": {},
   "outputs": [],
   "source": [
    "a.widget.children[1]"
   ]
  },
  {
   "cell_type": "code",
   "execution_count": null,
   "id": "e5aa9fda-fc85-4e41-821b-a3090b90e3c8",
   "metadata": {},
   "outputs": [],
   "source": [
    "a.widget"
   ]
  },
  {
   "cell_type": "code",
   "execution_count": null,
   "id": "864dccba-c509-4f48-8eb9-c3310c1cd59f",
   "metadata": {},
   "outputs": [],
   "source": [
    "a._viewing_block.name"
   ]
  },
  {
   "cell_type": "code",
   "execution_count": null,
   "id": "bb572b31-1284-495f-bf8b-b38a8b9325d3",
   "metadata": {},
   "outputs": [],
   "source": [
    "a._viewing_block.description"
   ]
  },
  {
   "cell_type": "code",
   "execution_count": null,
   "id": "36e33f32-df6e-41ae-aa47-aa9b942fad2d",
   "metadata": {},
   "outputs": [],
   "source": [
    "a._viewing_block.widget"
   ]
  },
  {
   "cell_type": "markdown",
   "id": "d2e789c3-b880-49ae-9528-ad2afbcd03f8",
   "metadata": {},
   "source": [
    "# notes"
   ]
  },
  {
   "cell_type": "markdown",
   "id": "9ef9ef33-bcd3-4eb0-b660-2f6c1ef3b80d",
   "metadata": {},
   "source": [
    "settings -> apply\n",
    "\n",
    "\tif path changed\n",
    "\t\tbacktest selector option update\n",
    "\t\tbook selector option update\n",
    "\n",
    "\tif date from OR date to changed\n",
    "\t\tupdate plots with new date filters\n",
    "\n",
    "book selector -> apply\n",
    "\n",
    "\tupdate all plots\n",
    "\n",
    "backtest selector -> apply\n",
    "\n",
    "\tupdate all plots\n",
    "\n",
    "1\tdictionary of raw data that has been read\n",
    "2\tfiltered data to draw given date from and to (or just change the x-axes)"
   ]
  }
 ],
 "metadata": {
  "kernelspec": {
   "display_name": "Python 3",
   "language": "python",
   "name": "python3"
  },
  "language_info": {
   "codemirror_mode": {
    "name": "ipython",
    "version": 3
   },
   "file_extension": ".py",
   "mimetype": "text/x-python",
   "name": "python",
   "nbconvert_exporter": "python",
   "pygments_lexer": "ipython3",
   "version": "3.8.10"
  }
 },
 "nbformat": 4,
 "nbformat_minor": 5
}
