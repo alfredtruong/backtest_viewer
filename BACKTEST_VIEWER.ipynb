{
 "cells": [
  {
   "cell_type": "markdown",
   "id": "6366c084-0326-43e5-95f1-854fa7ea4dac",
   "metadata": {
    "tags": []
   },
   "source": [
    "### modules"
   ]
  },
  {
   "cell_type": "code",
   "execution_count": null,
   "id": "213fd3e8-59e7-42cb-b891-b8e662ba5e45",
   "metadata": {},
   "outputs": [],
   "source": [
    "if globals().get('LOADED_ANNOTATIONS') != True:\n",
    "    %run ANNOTATIONS.ipynb"
   ]
  },
  {
   "cell_type": "code",
   "execution_count": null,
   "id": "001d7036-b837-41ef-b416-7eefce8c7b27",
   "metadata": {},
   "outputs": [],
   "source": [
    "if globals().get('LOADED_PATTERN_OBSERVER') == None:\n",
    "    %run PATTERN_OBSERVER.ipynb"
   ]
  },
  {
   "cell_type": "code",
   "execution_count": null,
   "id": "09c217db-faaf-419d-9b70-3e4cb6971686",
   "metadata": {},
   "outputs": [],
   "source": [
    "if globals().get('LOADED_CHECKBOXES') == None:\n",
    "    %run CHECKBOXES.ipynb"
   ]
  },
  {
   "cell_type": "code",
   "execution_count": null,
   "id": "fc4287c0-403f-45cf-a3a1-2b6456fed2c1",
   "metadata": {},
   "outputs": [],
   "source": [
    "if globals().get('LOADED_DATA_CONTAINER') == None:\n",
    "    %run DATA_CONTAINER.ipynb"
   ]
  },
  {
   "cell_type": "code",
   "execution_count": null,
   "id": "fdd5a933-9c6c-418f-9e4f-83186bc20026",
   "metadata": {},
   "outputs": [],
   "source": [
    "if globals().get('LOADED_SETTINGS') == None:\n",
    "    %run SETTINGS.ipynb"
   ]
  },
  {
   "cell_type": "code",
   "execution_count": null,
   "id": "e93b66e1-bbdc-4e11-9706-4f3005b93c53",
   "metadata": {},
   "outputs": [],
   "source": [
    "if globals().get('LOADED_VIEWING_TABS_EXTRADAY_ANALYSIS') == None:\n",
    "    %run VIEWING_TABS_EXTRADAY_ANALYSIS.ipynb"
   ]
  },
  {
   "cell_type": "code",
   "execution_count": null,
   "id": "d14bc988-67c4-4634-b363-eb416cd01af0",
   "metadata": {},
   "outputs": [],
   "source": [
    "if globals().get('LOADED_VIEWING_TABS_INTRADAY_ANALYSIS') == None:\n",
    "    %run VIEWING_TABS_INTRADAY_ANALYSIS.ipynb"
   ]
  },
  {
   "cell_type": "code",
   "execution_count": null,
   "id": "28bfdba4-a87b-4980-b364-5074b06c30aa",
   "metadata": {},
   "outputs": [],
   "source": [
    "if globals().get('LOADED_VIEWING_TABS_FACTOR_ANALYSIS') == None:\n",
    "    %run VIEWING_TABS_FACTOR_ANALYSIS.ipynb"
   ]
  },
  {
   "cell_type": "markdown",
   "id": "2afbb2e2-8fa6-47cd-acc4-0dc1ff2d1843",
   "metadata": {},
   "source": [
    "### begin"
   ]
  },
  {
   "cell_type": "code",
   "execution_count": null,
   "id": "59542476-1b24-4135-be81-961ab386e437",
   "metadata": {
    "tags": []
   },
   "outputs": [],
   "source": [
    "class BACKTEST_VIEWER(IObserver):\n",
    "    def __init__(self,\n",
    "        name='BACKTEST_VIEWER'\n",
    "        ):\n",
    "        self.name                 = name\n",
    "        \n",
    "        ####################################\n",
    "        # instantiate SETTINGS\n",
    "        ####################################\n",
    "        self._SETTINGS = SETTINGS(\n",
    "            name                  = 'SETTINGS',\n",
    "            width                 = '20%',\n",
    "        )\n",
    "\n",
    "        ####################################\n",
    "        # instantiate BACKTEST_SELECTOR\n",
    "        ####################################\n",
    "        self._BACKTEST_SELECTOR = CHECKBOXES(\n",
    "            name                  = 'BACKTEST_SELECTOR',\n",
    "            options               = self._settings_all_backtests,\n",
    "            default               = False,\n",
    "            width                 = '60%',\n",
    "        )\n",
    "            \n",
    "        ####################################\n",
    "        # instantiate BOOK_SELECTOR\n",
    "        ####################################\n",
    "        self._BOOK_SELECTOR = CHECKBOXES(\n",
    "            name                  = 'BOOK_SELECTOR',\n",
    "            options               = self._settings_all_books, # TODO `BACKTEST SELECTOR` needs to have `all_books`\n",
    "            default               = True,\n",
    "            width                 = '20%',\n",
    "        )\n",
    "\n",
    "        ####################################\n",
    "        # instantiate DATA_CONTAINER\n",
    "        ####################################\n",
    "        self._DATA_CONTAINER = DATA_CONTAINER( # TODO needs to observe changes in `self.selected_backtests`, `self.selected_books` and `self.applied_settings`\n",
    "            applied_backtest_path = self._settings_backtest_path, # RENAME applied_* to *\n",
    "            applied_view_type     = self._settings_view_type,\n",
    "            applied_plot_type     = self._settings_plot_type,\n",
    "            applied_return_type   = self._settings_return_type,\n",
    "            applied_date_from     = self._settings_date_from,\n",
    "            applied_date_to       = self._settings_date_to,\n",
    "            selected_backtests    = self._selected_backtests,\n",
    "            selected_books        = self._selected_books,\n",
    "        )\n",
    "        \n",
    "        ####################################\n",
    "        # build GUI\n",
    "        ####################################\n",
    "        self.reference            = {}\n",
    "        self.widget               = self._make_widget(self._settings_view_type) # TODO needs to observe changes in self._SETTINGS\n",
    "\n",
    "        ###########################\n",
    "        # class linking\n",
    "        ###########################\n",
    "        # BACKTEST_SELECTOR observes ...\n",
    "        self._SETTINGS.attach(self._BACKTEST_SELECTOR)        # `all_backtests` from SETTINGS\n",
    "\n",
    "        # BOOK_SELECTOR observes ...\n",
    "        #self._BACKTEST_SELECTOR.attach(self._BOOK_SELECTOR)  # `all_backtests` from `BACKTEST SELECTOR` # TODO\n",
    "\n",
    "        # DATA_CONTAINER observes ...                         # (must come after BACKTEST_SELECTOR and BOOK_SELECTOR)\n",
    "        self._SETTINGS.attach(self._DATA_CONTAINER)           # `backtest_path` from SETTINGS, i.e. backtest path, etc\n",
    "        self._BACKTEST_SELECTOR.attach(self._DATA_CONTAINER)  # `applied_settings` from BACKTEST_SELECTOR, i.e. changes in selected backtests\n",
    "        self._BOOK_SELECTOR.attach(self._DATA_CONTAINER)      # `applied_settings` from BOOK_SELECTOR, i.e. changes in selected books\n",
    "\n",
    "        # VIEWING_TAB observes ...\n",
    "        self._DATA_CONTAINER.attach(self._TAB_COLLECTION)     # `df` from DATA_CONTAINER\n",
    "        #self._BOOK_SELECTOR.attach(self._TAB_COLLECTION)     # `DATA` from DATA_CONTAINER\n",
    "\n",
    "    ####################################\n",
    "    # observer pattern\n",
    "    ####################################\n",
    "    def react(self,\n",
    "        subject_name : str,\n",
    "        subject_info : object\n",
    "        ) -> None :\n",
    "        print('OBSERVER PATTERN',':',self.name,'REACTS','subject_name',subject_name)\n",
    "        print('OBSERVER PATTERN',':',self.name,'REACTS','subject_info',subject_info)\n",
    "\n",
    "        # SETTINGS changed\n",
    "        if subject_name == 'SETTINGS':\n",
    "            # update viewing tabs if requested to\n",
    "            if self.reference['applied_view_type'] != self.subject_info['view_type']:\n",
    "                # change backend\n",
    "                self._DATA_CONTAINER.detach(self._TAB_COLLECTION) # deregister existing tabs\n",
    "                self._TAB_COLLECTION = self._make_tab_collection(self.subject_info['view_type']) # make new tab collection\n",
    "                self._DATA_CONTAINER.attach(self._TAB_COLLECTION) # register new tabs\n",
    "                \n",
    "                # update frontend\n",
    "                self._tab_widgets = self._TAB_COLLECTION.widget\n",
    "                \n",
    "    ####################################\n",
    "    # build GUI\n",
    "    ####################################\n",
    "    def _make_widget(self,view_type : str) -> VBox :\n",
    "        # controls\n",
    "        controls = HBox(\n",
    "            [\n",
    "                self._BACKTEST_SELECTOR.widget,\n",
    "                self._BOOK_SELECTOR.widget,\n",
    "                self._SETTINGS.widget,\n",
    "            ]\n",
    "        )\n",
    "        \n",
    "        # make viewing tabs\n",
    "        self._TAB_COLLECTION = self._make_tab_collection(view_type)\n",
    "\n",
    "        # build screen\n",
    "        return VBox(\n",
    "            [\n",
    "                controls,\n",
    "                self._TAB_COLLECTION.widget\n",
    "            ]\n",
    "        )\n",
    "    \n",
    "    def _make_tab_collection(self,view_type : str) -> TAB_COLLECTION :\n",
    "        # update reference\n",
    "        self.reference['applied_view_type'] = view_type\n",
    "        \n",
    "        # instantiate\n",
    "        function_name = TAB_COLLECTION._function_dico[view_type]\n",
    "        \n",
    "        # debugging\n",
    "        print(self.name,':','_make_tab_collection',view_type,function_name)\n",
    "        \n",
    "        # make and return\n",
    "        return eval(function_name)\n",
    "\n",
    "    ####################################\n",
    "    # properties\n",
    "    ####################################\n",
    "    # from self._SETTINGS\n",
    "    @property\n",
    "    def _settings_backtest_path(self) -> str :\n",
    "        return self._SETTINGS.reference['backtest_path']\n",
    "\n",
    "    @property\n",
    "    def _settings_view_type(self) -> str :\n",
    "        return self._SETTINGS.reference['view_type']\n",
    "\n",
    "    @property\n",
    "    def _settings_plot_type(self) -> str :\n",
    "        return self._SETTINGS.reference['plot_type']\n",
    "\n",
    "    @property\n",
    "    def _settings_return_type(self) -> str :\n",
    "        return self._SETTINGS.reference['return_type']\n",
    "\n",
    "    @property\n",
    "    def _settings_date_from(self) -> object :\n",
    "        return self._SETTINGS.reference['date_from']\n",
    "\n",
    "    @property\n",
    "    def _settings_date_to(self) -> object :\n",
    "        return self._SETTINGS.reference['date_to']\n",
    "\n",
    "    @property\n",
    "    def _settings_all_backtests(self) -> ID_PATHS :\n",
    "        return self._SETTINGS.reference['all_backtests']\n",
    "\n",
    "    @property\n",
    "    def _settings_all_books(self) -> ID_PATHS :\n",
    "        return self._SETTINGS.reference['all_books']\n",
    "\n",
    "    # from self._BACKTEST_SELECTOR\n",
    "    @property\n",
    "    def _selected_backtests(self) -> OPTIONID_VALUES:\n",
    "        return self._BACKTEST_SELECTOR.applied_settings\n",
    "        \n",
    "    # from self._BOOK_SELECTOR\n",
    "    @property\n",
    "    def _selected_books(self) -> OPTIONID_VALUES:\n",
    "        return self._BOOK_SELECTOR.applied_settings\n",
    "\n",
    "    # from self.widget\n",
    "    @property\n",
    "    def _control_widgets(self) -> BUTTONS:\n",
    "        return self.widget.children[0].children\n",
    "    \n",
    "    @property\n",
    "    def _tab_widgets(self) -> TAB_COLLECTION:\n",
    "        return self.widget.children[1].children\n",
    "\n",
    "    @_tab_widgets.setter\n",
    "    def _tab_widgets(self,new_tab_collection : TAB_COLLECTION) -> None:\n",
    "        self.widget.children[1].children = new_tab_collection"
   ]
  },
  {
   "cell_type": "code",
   "execution_count": null,
   "id": "e5121c86-7286-49e9-b2b3-574f3e7e0691",
   "metadata": {
    "tags": []
   },
   "outputs": [],
   "source": [
    "# example\n",
    "a=BACKTEST_VIEWER()"
   ]
  },
  {
   "cell_type": "code",
   "execution_count": null,
   "id": "0002d8ea-4de5-4e08-ba78-689ed466b2cd",
   "metadata": {},
   "outputs": [],
   "source": [
    "dir(a)"
   ]
  },
  {
   "cell_type": "code",
   "execution_count": null,
   "id": "ef187e5a-c694-4e70-83ce-f71b40b73fdb",
   "metadata": {
    "tags": []
   },
   "outputs": [],
   "source": [
    "a.widget"
   ]
  },
  {
   "cell_type": "code",
   "execution_count": null,
   "id": "e9c31bad-ebff-4f22-9fd1-ce1907c00b38",
   "metadata": {},
   "outputs": [],
   "source": [
    "len(a._tab_widgets) # 10 tabs!"
   ]
  },
  {
   "cell_type": "code",
   "execution_count": null,
   "id": "a9ac5414-d6fd-48dc-9ddb-c095ecc02778",
   "metadata": {},
   "outputs": [],
   "source": [
    "a._tab_widgets[0] # look at 1st tab"
   ]
  },
  {
   "cell_type": "code",
   "execution_count": null,
   "id": "28a123d4-6303-44e5-bf02-73ff36560856",
   "metadata": {},
   "outputs": [],
   "source": [
    "len(a._tab_widgets[0].children) # 1st tab has 9 windows"
   ]
  },
  {
   "cell_type": "code",
   "execution_count": null,
   "id": "e2d89cab-23e2-4c2c-80e3-acdcded275c9",
   "metadata": {},
   "outputs": [],
   "source": [
    "a._tab_widgets[0].children[0] # 1st plot"
   ]
  },
  {
   "cell_type": "code",
   "execution_count": null,
   "id": "28d2688b-212a-439e-8e05-239bb866875e",
   "metadata": {},
   "outputs": [],
   "source": [
    "dir(a._TAB_COLLECTION)"
   ]
  },
  {
   "cell_type": "code",
   "execution_count": null,
   "id": "5cc87922-6112-4368-8f49-e05c60076381",
   "metadata": {},
   "outputs": [],
   "source": [
    "a._TAB_COLLECTION._tabs"
   ]
  },
  {
   "cell_type": "code",
   "execution_count": null,
   "id": "617a78c8-fb1c-46a5-b81b-f51a677b0df1",
   "metadata": {},
   "outputs": [],
   "source": [
    "len(a.widget.children)"
   ]
  },
  {
   "cell_type": "code",
   "execution_count": null,
   "id": "ded3f7c9-68b7-4288-9dbe-832c9cd343fe",
   "metadata": {},
   "outputs": [],
   "source": [
    "a.widget.children[0]"
   ]
  },
  {
   "cell_type": "code",
   "execution_count": null,
   "id": "6b92b222-5c8a-4185-910f-d247edf4c7b6",
   "metadata": {},
   "outputs": [],
   "source": [
    "a.widget.children[1]"
   ]
  },
  {
   "cell_type": "code",
   "execution_count": null,
   "id": "ef928f42-711c-4a3c-955a-4b68feb1f0c0",
   "metadata": {},
   "outputs": [],
   "source": [
    "a._DATA_CONTAINER.reference['df']"
   ]
  },
  {
   "cell_type": "code",
   "execution_count": null,
   "id": "978da324-a15f-4755-95fd-c2f5faae2c67",
   "metadata": {},
   "outputs": [],
   "source": [
    "a._DATA_CONTAINER._data_dico"
   ]
  },
  {
   "cell_type": "markdown",
   "id": "4e613093-4d8c-4b35-81c2-087e054df899",
   "metadata": {},
   "source": [
    "change backtest path\n",
    "\t- kill all plots\n",
    "\t- empty dico\n",
    "\n",
    "backtest\n",
    "\t- no ID, take path from settings\n",
    "\n",
    "days of the week plot\n",
    "\n",
    "apply change view type\n",
    "\t- dont kill backtests\n",
    "\t- doesn't replot\n",
    "\n",
    "apply change plot type\n",
    "\t- doesn't replot\n",
    "\n",
    "min-date / max-date doesn't replot"
   ]
  }
 ],
 "metadata": {
  "kernelspec": {
   "display_name": "Python 3",
   "language": "python",
   "name": "python3"
  },
  "language_info": {
   "codemirror_mode": {
    "name": "ipython",
    "version": 3
   },
   "file_extension": ".py",
   "mimetype": "text/x-python",
   "name": "python",
   "nbconvert_exporter": "python",
   "pygments_lexer": "ipython3",
   "version": "3.8.10"
  }
 },
 "nbformat": 4,
 "nbformat_minor": 5
}
