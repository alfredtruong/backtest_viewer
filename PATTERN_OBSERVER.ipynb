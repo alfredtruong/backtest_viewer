{
 "cells": [
  {
   "cell_type": "code",
   "execution_count": null,
   "id": "6fea5867-febe-46a9-8fe2-1916e3fee5bc",
   "metadata": {},
   "outputs": [],
   "source": [
    "if globals().get('LOADED_PATTERN_OBSERVER') == None:\n",
    "    display('LOADED_PATTERN_OBSERVER')    \n",
    "    LOADED_PATTERN_OBSERVER=True"
   ]
  },
  {
   "cell_type": "code",
   "execution_count": null,
   "id": "f5bd7af3-53a0-4d9e-b96b-8d4fb58fc1b1",
   "metadata": {},
   "outputs": [],
   "source": [
    "#from __future__ import annotations\n",
    "from abc import ABC, abstractmethod"
   ]
  },
  {
   "cell_type": "code",
   "execution_count": null,
   "id": "4e1b97ad-7b1f-49b9-a52d-c22d34015737",
   "metadata": {},
   "outputs": [],
   "source": [
    "###############################################################################\n",
    "# abstract classes\n",
    "###############################################################################\n",
    "class ISubject(ABC):\n",
    "    \"\"\"The Subject interface declares a set of methods for managing subscribers\"\"\"\n",
    "\n",
    "    @abstractmethod\n",
    "#    def attach(self, observer : IObserver) -> None:\n",
    "    def attach(self, observer) -> None :\n",
    "        \"\"\"Attach an observer to the subject\"\"\"\n",
    "\n",
    "    @abstractmethod\n",
    "#    def detach(self, observer : IObserver) -> None:\n",
    "    def detach(self, observer) -> None :\n",
    "        \"\"\"Detach an observer from the subject\"\"\"\n",
    "\n",
    "    @abstractmethod\n",
    "    def notify(self, info) -> None :\n",
    "        \"\"\"Notify all observers about an event\"\"\"\n",
    "    \n",
    "class IObserver(ABC):\n",
    "    \"\"\"The Observer interface declares the update method, used by subjects\"\"\"\n",
    "\n",
    "    @abstractmethod\n",
    "#    def react(self, subject_name : str, subject_info : ISubject) -> None:\n",
    "    def react(self,\n",
    "        subject_name : str,\n",
    "        subject_info : object\n",
    "        ) -> None:\n",
    "        \"\"\"Receive update from subject\"\"\""
   ]
  }
 ],
 "metadata": {
  "kernelspec": {
   "display_name": "Python 3",
   "language": "python",
   "name": "python3"
  },
  "language_info": {
   "codemirror_mode": {
    "name": "ipython",
    "version": 3
   },
   "file_extension": ".py",
   "mimetype": "text/x-python",
   "name": "python",
   "nbconvert_exporter": "python",
   "pygments_lexer": "ipython3",
   "version": "3.8.10"
  }
 },
 "nbformat": 4,
 "nbformat_minor": 5
}
