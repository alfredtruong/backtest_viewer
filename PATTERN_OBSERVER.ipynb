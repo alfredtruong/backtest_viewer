{
 "cells": [
  {
   "cell_type": "markdown",
   "id": "d4f77edf-f634-44c1-97df-2f49a5c72d7c",
   "metadata": {
    "extensions": {
     "jupyter_dashboards": {
      "activeView": "grid_default",
      "views": {
       "grid_default": {
        "col": null,
        "height": 2,
        "hidden": true,
        "row": null,
        "width": 2
       }
      }
     }
    }
   },
   "source": [
    "### modules"
   ]
  },
  {
   "cell_type": "code",
   "execution_count": null,
   "id": "242370d2-67eb-450f-86c1-830df550208b",
   "metadata": {},
   "outputs": [],
   "source": [
    "if globals().get('LOADED_LOGGER') == None:\n",
    "    %run LOGGER.ipynb"
   ]
  },
  {
   "cell_type": "markdown",
   "id": "5a5c80dc-c716-4dc0-8333-c2666554de93",
   "metadata": {
    "extensions": {
     "jupyter_dashboards": {
      "activeView": "grid_default",
      "views": {
       "grid_default": {
        "col": null,
        "height": 2,
        "hidden": true,
        "row": null,
        "width": 2
       }
      }
     }
    }
   },
   "source": [
    "### import protection"
   ]
  },
  {
   "cell_type": "code",
   "execution_count": null,
   "id": "6fea5867-febe-46a9-8fe2-1916e3fee5bc",
   "metadata": {
    "extensions": {
     "jupyter_dashboards": {
      "activeView": "grid_default",
      "views": {
       "grid_default": {
        "col": null,
        "height": 2,
        "hidden": true,
        "row": null,
        "width": 2
       }
      }
     }
    }
   },
   "outputs": [],
   "source": [
    "if globals().get('LOADED_PATTERN_OBSERVER') == None:\n",
    "    logging.info('LOADED_PATTERN_OBSERVER')\n",
    "    LOADED_PATTERN_OBSERVER=True"
   ]
  },
  {
   "cell_type": "markdown",
   "id": "555dd693-8436-438e-af64-bad80aae8262",
   "metadata": {
    "extensions": {
     "jupyter_dashboards": {
      "activeView": "grid_default",
      "views": {
       "grid_default": {
        "col": null,
        "height": 2,
        "hidden": true,
        "row": null,
        "width": 2
       }
      }
     }
    },
    "tags": []
   },
   "source": [
    "### imports"
   ]
  },
  {
   "cell_type": "code",
   "execution_count": null,
   "id": "f5bd7af3-53a0-4d9e-b96b-8d4fb58fc1b1",
   "metadata": {
    "extensions": {
     "jupyter_dashboards": {
      "activeView": "grid_default",
      "views": {
       "grid_default": {
        "col": null,
        "height": 2,
        "hidden": true,
        "row": null,
        "width": 2
       }
      }
     }
    }
   },
   "outputs": [],
   "source": [
    "#from __future__ import annotations\n",
    "from abc import ABC, abstractmethod"
   ]
  },
  {
   "cell_type": "markdown",
   "id": "81b3f704-f265-453b-acd4-086f5615ee61",
   "metadata": {
    "extensions": {
     "jupyter_dashboards": {
      "activeView": "grid_default",
      "views": {
       "grid_default": {
        "col": null,
        "height": 2,
        "hidden": true,
        "row": null,
        "width": 2
       }
      }
     }
    }
   },
   "source": [
    "### begin"
   ]
  },
  {
   "cell_type": "code",
   "execution_count": null,
   "id": "763665a9-bacb-42fa-a808-daf96bc92351",
   "metadata": {
    "extensions": {
     "jupyter_dashboards": {
      "activeView": "grid_default",
      "views": {
       "grid_default": {
        "col": null,
        "height": 2,
        "hidden": true,
        "row": null,
        "width": 2
       }
      }
     }
    }
   },
   "outputs": [],
   "source": [
    "class ISubject(ABC):\n",
    "    \"\"\"The Subject interface declares a set of methods for managing subscribers\"\"\"\n",
    "\n",
    "    @abstractmethod\n",
    "#    def attach(self, observer : IObserver) -> None:\n",
    "    def attach(self, observer) -> None :\n",
    "        \"\"\"Attach an observer to the subject\"\"\"\n",
    "\n",
    "    @abstractmethod\n",
    "#    def detach(self, observer : IObserver) -> None:\n",
    "    def detach(self, observer) -> None :\n",
    "        \"\"\"Detach an observer from the subject\"\"\"\n",
    "\n",
    "    @abstractmethod\n",
    "    def notify(self, info) -> None :\n",
    "        \"\"\"Notify all observers about an event\"\"\"\n",
    "    \n",
    "class IObserver(ABC):\n",
    "    \"\"\"The Observer interface declares the update method, used by subjects\"\"\"\n",
    "\n",
    "    @abstractmethod\n",
    "#    def react(self, subject_name : str, subject_info : ISubject) -> None:\n",
    "    def react(self,\n",
    "        subject_name : str,\n",
    "        subject_info : object\n",
    "        ) -> None:\n",
    "        \"\"\"Receive update from subject\"\"\""
   ]
  }
 ],
 "metadata": {
  "extensions": {
   "jupyter_dashboards": {
    "activeView": "grid_default",
    "version": 1,
    "views": {
     "grid_default": {
      "cellMargin": 2,
      "defaultCellHeight": 60,
      "maxColumns": 12,
      "name": "grid",
      "type": "grid"
     }
    }
   }
  },
  "kernelspec": {
   "display_name": "Python 3",
   "language": "python",
   "name": "python3"
  },
  "language_info": {
   "codemirror_mode": {
    "name": "ipython",
    "version": 3
   },
   "file_extension": ".py",
   "mimetype": "text/x-python",
   "name": "python",
   "nbconvert_exporter": "python",
   "pygments_lexer": "ipython3",
   "version": "3.8.10"
  }
 },
 "nbformat": 4,
 "nbformat_minor": 5
}
