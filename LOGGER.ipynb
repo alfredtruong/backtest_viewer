{
 "cells": [
  {
   "cell_type": "markdown",
   "id": "bc15e445-7c0a-4254-b7ca-dfa806378030",
   "metadata": {},
   "source": [
    "### logging"
   ]
  },
  {
   "cell_type": "code",
   "execution_count": null,
   "id": "3257c62f-cc24-4676-b508-b256e015f853",
   "metadata": {},
   "outputs": [],
   "source": [
    "import logging\n",
    "import ipynbname # name logs with filename\n",
    "from pathlib import Path # direct logs to './logs'\n",
    "from datetime import datetime # name logs with datetime"
   ]
  },
  {
   "cell_type": "code",
   "execution_count": null,
   "id": "649903ce-b5f3-4409-b67a-20204c6cbbc3",
   "metadata": {},
   "outputs": [],
   "source": [
    "# place logs into './logs' subdirectory\n",
    "p  = Path('.') / 'logs'\n",
    "p.mkdir(parents=True, exist_ok=True)"
   ]
  },
  {
   "cell_type": "code",
   "execution_count": null,
   "id": "b35e1ae9-1b93-4450-b412-1db2521534ff",
   "metadata": {},
   "outputs": [],
   "source": [
    "# get filename\n",
    "try:\n",
    "    # get name of calling file\n",
    "    filename=ipynbname.name()\n",
    "except:\n",
    "    # when IPython called via voila, ipynbname can't resolve .name(), dont know why\n",
    "    filename='btv'"
   ]
  },
  {
   "cell_type": "code",
   "execution_count": null,
   "id": "a725ad23-dcc4-43db-a5da-1374dc75be51",
   "metadata": {},
   "outputs": [],
   "source": [
    "# build filepath\n",
    "filepath = p / (filename+'_'+datetime.now().strftime(\"%Y%d%m_%H%M%S\")+'.log')"
   ]
  },
  {
   "cell_type": "code",
   "execution_count": null,
   "id": "14ef33da-da71-40c9-85a3-b1230e51ea17",
   "metadata": {},
   "outputs": [],
   "source": [
    "# instantiate logs\n",
    "logging.basicConfig(\n",
    "    filename = filepath,\n",
    "    level    = logging.DEBUG\n",
    ")"
   ]
  },
  {
   "cell_type": "code",
   "execution_count": null,
   "id": "1c0190de-3f1e-4896-9a1d-34705b196698",
   "metadata": {},
   "outputs": [],
   "source": [
    "logging.info('start')"
   ]
  },
  {
   "cell_type": "markdown",
   "id": "1a99f25c-e219-45f9-9dda-0f7f3be099fb",
   "metadata": {
    "extensions": {
     "jupyter_dashboards": {
      "activeView": "grid_default",
      "views": {
       "grid_default": {
        "col": null,
        "height": 2,
        "hidden": true,
        "row": null,
        "width": 2
       }
      }
     }
    }
   },
   "source": [
    "### import protection"
   ]
  },
  {
   "cell_type": "code",
   "execution_count": null,
   "id": "8db3591b-2e66-43d3-878f-1e2e666cb388",
   "metadata": {},
   "outputs": [],
   "source": [
    "if globals().get('LOADED_LOGGER') == None:\n",
    "    logging.info('LOADED_LOGGER')\n",
    "    LOADED_LOGGER=True"
   ]
  }
 ],
 "metadata": {
  "kernelspec": {
   "display_name": "Python 3",
   "language": "python",
   "name": "python3"
  },
  "language_info": {
   "codemirror_mode": {
    "name": "ipython",
    "version": 3
   },
   "file_extension": ".py",
   "mimetype": "text/x-python",
   "name": "python",
   "nbconvert_exporter": "python",
   "pygments_lexer": "ipython3",
   "version": "3.8.10"
  }
 },
 "nbformat": 4,
 "nbformat_minor": 5
}
