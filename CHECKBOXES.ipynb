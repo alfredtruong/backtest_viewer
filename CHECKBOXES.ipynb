{
 "cells": [
  {
   "cell_type": "markdown",
   "id": "834a0f05-60c0-415f-a8e5-7dae2f6b544b",
   "metadata": {
    "extensions": {
     "jupyter_dashboards": {
      "activeView": "grid_default",
      "views": {
       "grid_default": {
        "col": null,
        "height": 2,
        "hidden": true,
        "row": null,
        "width": 2
       }
      }
     }
    }
   },
   "source": [
    "### modules"
   ]
  },
  {
   "cell_type": "code",
   "execution_count": null,
   "id": "a4a21953-2a81-4cab-8db3-773f21f452a6",
   "metadata": {
    "extensions": {
     "jupyter_dashboards": {
      "activeView": "grid_default",
      "views": {
       "grid_default": {
        "col": null,
        "height": 2,
        "hidden": true,
        "row": null,
        "width": 2
       }
      }
     }
    }
   },
   "outputs": [],
   "source": [
    "if globals().get('LOADED_LOGGER') == None:\n",
    "    %run LOGGER.ipynb"
   ]
  },
  {
   "cell_type": "code",
   "execution_count": null,
   "id": "aa36cad1-8115-4162-8802-003c08720038",
   "metadata": {
    "extensions": {
     "jupyter_dashboards": {
      "activeView": "grid_default",
      "views": {
       "grid_default": {
        "col": null,
        "height": 2,
        "hidden": true,
        "row": null,
        "width": 2
       }
      }
     }
    }
   },
   "outputs": [],
   "source": [
    "if globals().get('LOADED_ANNOTATIONS') == None:\n",
    "    %run ANNOTATIONS.ipynb"
   ]
  },
  {
   "cell_type": "code",
   "execution_count": null,
   "id": "ebd17e86-0530-4a9f-a715-f80d3ed9d597",
   "metadata": {
    "extensions": {
     "jupyter_dashboards": {
      "activeView": "grid_default",
      "views": {
       "grid_default": {
        "col": null,
        "height": 2,
        "hidden": true,
        "row": null,
        "width": 2
       }
      }
     }
    }
   },
   "outputs": [],
   "source": [
    "if globals().get('LOADED_PATTERN_OBSERVER') == None:\n",
    "    %run PATTERN_OBSERVER.ipynb"
   ]
  },
  {
   "cell_type": "markdown",
   "id": "81c7cdfd-30d7-43d2-b2ac-336705976358",
   "metadata": {
    "extensions": {
     "jupyter_dashboards": {
      "activeView": "grid_default",
      "views": {
       "grid_default": {
        "col": null,
        "height": 2,
        "hidden": true,
        "row": null,
        "width": 2
       }
      }
     }
    }
   },
   "source": [
    "### import protection"
   ]
  },
  {
   "cell_type": "code",
   "execution_count": null,
   "id": "3eb6361f-6938-432a-abad-e95fe6f39098",
   "metadata": {
    "extensions": {
     "jupyter_dashboards": {
      "activeView": "grid_default",
      "views": {
       "grid_default": {
        "col": null,
        "height": 2,
        "hidden": true,
        "row": null,
        "width": 2
       }
      }
     }
    }
   },
   "outputs": [],
   "source": [
    "if globals().get('LOADED_CHECKBOXES') == None:\n",
    "    logging.info('LOADED_CHECKBOXES')\n",
    "    LOADED_CHECKBOXES=True"
   ]
  },
  {
   "cell_type": "markdown",
   "id": "64bf01b5-3820-4351-a2b0-14ec1692ae36",
   "metadata": {
    "extensions": {
     "jupyter_dashboards": {
      "activeView": "grid_default",
      "views": {
       "grid_default": {
        "col": null,
        "height": 2,
        "hidden": true,
        "row": null,
        "width": 2
       }
      }
     }
    }
   },
   "source": [
    "### imports"
   ]
  },
  {
   "cell_type": "code",
   "execution_count": null,
   "id": "8e3daf79-34a4-4cfc-a08c-7b26b1508238",
   "metadata": {
    "extensions": {
     "jupyter_dashboards": {
      "activeView": "grid_default",
      "views": {
       "grid_default": {
        "col": null,
        "height": 2,
        "hidden": true,
        "row": null,
        "width": 2
       }
      }
     }
    }
   },
   "outputs": [],
   "source": [
    "# widgets\n",
    "from ipywidgets import Layout,HBox,VBox,Checkbox,Button\n",
    "from ipywidgets import Color # pretty color for apply button"
   ]
  },
  {
   "cell_type": "markdown",
   "id": "6bbb1471-3abe-4ee2-9eab-d9778de57880",
   "metadata": {
    "extensions": {
     "jupyter_dashboards": {
      "activeView": "grid_default",
      "views": {
       "grid_default": {
        "col": null,
        "height": 2,
        "hidden": true,
        "row": null,
        "width": 2
       }
      }
     }
    }
   },
   "source": [
    "### begin"
   ]
  },
  {
   "cell_type": "code",
   "execution_count": null,
   "id": "fc4afa91-8b3f-4791-8cdf-2a2625f272bb",
   "metadata": {
    "extensions": {
     "jupyter_dashboards": {
      "activeView": "grid_default",
      "views": {
       "grid_default": {
        "col": null,
        "height": 2,
        "hidden": true,
        "row": null,
        "width": 2
       }
      }
     }
    }
   },
   "outputs": [],
   "source": [
    "'''\n",
    "SUBJECT\n",
    "- DATA_CONTAINER observes CHECKBOXES to populate itself\n",
    "\n",
    "OBSERVER\n",
    "- CHECKBOXES observes SETTINGS for options\n",
    "'''\n",
    "class CHECKBOXES(ISubject):\n",
    "\n",
    "    ####################################\n",
    "    # constructor\n",
    "    ####################################\n",
    "    def __init__(self,\n",
    "        name                  : str         = 'CHECKBOXES',\n",
    "        options               : OPTIONS     = {},                          # key = name of object, value = unique ID\n",
    "        default               : bool        = False,                       # default value of checkboxes\n",
    "        width                 : str         = 'auto',\n",
    "        ):\n",
    "        \n",
    "        self._default                       = default\n",
    "        self._width                         = width\n",
    "        self._options                       = self._populate_options(options)\n",
    "        \n",
    "        self.name                           = name\n",
    "        self.widget                         = self._make_widget(self._options)\n",
    "        \n",
    "        self.applied_settings               = self._current_settings       # update reference\n",
    "        self._observers                     = []\n",
    "\n",
    "    ####################################\n",
    "    # populate defaults\n",
    "    ####################################\n",
    "    def _populate_options(self,options : List[str] = list('abcd')) -> OPTIONS :\n",
    "        if bool(options):\n",
    "            return options\n",
    "        else:\n",
    "            return {'option ' + x : x*5 for x in options}\n",
    "        \n",
    "    ####################################\n",
    "    # observer pattern\n",
    "    ####################################\n",
    "    # subject\n",
    "    def attach(self,observer : IObserver) -> None :\n",
    "        logging.info(f'OBSERVER PATTERN : {observer.name} : OBSERVES {self.name}')\n",
    "        self._observers.append(observer)\n",
    "        \n",
    "    def detach(self,observer : IObserver) -> None :\n",
    "        logging.info(f'OBSERVER PATTERN : {observer.name} : STOPS OBSERVING {self.name}')\n",
    "        self._observers.remove(observer)\n",
    "        \n",
    "    def notify(self,info) -> None :\n",
    "        logging.info(f'OBSERVER PATTERN : {self.name} : {len(self._observers)} OBSERVERS')\n",
    "        \n",
    "        for observer in self._observers:\n",
    "            logging.info(f'OBSERVER PATTERN : {self.name} : NOTIFIES {observer.name}')\n",
    "            observer.react(self.name,info)\n",
    "            \n",
    "    ####################################\n",
    "    # button state\n",
    "    ####################################\n",
    "    def _button_inactive(self,button : Button) -> None :\n",
    "        button.style.button_color=Color(None).name\n",
    "        button.disabled = True\n",
    "        \n",
    "    def _button_active(self,button : Button,color : str = 'pink') -> None :\n",
    "        button.style.button_color=color\n",
    "        button.disabled = False\n",
    "        \n",
    "    def _update_button_state(self) -> None :\n",
    "        if self.applied_settings == self._current_settings:\n",
    "            # if nothing changed\n",
    "            self._button_inactive(self._control_widgets[0])\n",
    "            self._button_inactive(self._control_widgets[1])\n",
    "        else:\n",
    "            # if something changed\n",
    "            self._button_active(self._control_widgets[0],color = 'lightgreen')\n",
    "            self._button_active(self._control_widgets[1],color = 'pink')\n",
    "\n",
    "    ####################################\n",
    "    # button click\n",
    "    ####################################\n",
    "    '''NB - need apply button to trigger a change, if use checkbox change to trigger plotting then clicking \"all/none/invert\" causes multiple sequential intra plots'''\n",
    "    def _click_apply(self,change) -> None :\n",
    "        logging.debug(f'{self.name} : CLICKED {change.description}')\n",
    "        self.applied_settings=self._current_settings   # update checkpoint\n",
    "        self._update_button_state()                    # update button state\n",
    "        self._logging()                                # show internals\n",
    "        self.notify(self.applied_settings)             # notify observers\n",
    "\n",
    "    '''reset to last applied values'''\n",
    "    def _click_cancel(self,change) -> None :\n",
    "        logging.debug(f'{self.name} : CLICKED {change.description}')\n",
    "        for widget,value in zip(self._option_widgets,self.applied_settings.values()):\n",
    "            widget.value = value\n",
    "\n",
    "    '''uncheck all'''\n",
    "    def _click_none(self,change) -> None :\n",
    "        logging.debug(f'{self.name} : CLICKED {change.description}')\n",
    "        for c in self._option_widgets:\n",
    "            c.value = False\n",
    "\n",
    "    '''check all'''\n",
    "    def _click_all(self,change) -> None :\n",
    "        logging.info(f'{self.name} : CLICKED {change.description}')\n",
    "        for c in self._option_widgets:\n",
    "            c.value = True\n",
    "\n",
    "    '''flip all'''\n",
    "    def _click_invert(self,change) -> None :\n",
    "        logging.debug(f'{self.name} : CLICKED {change.description}')\n",
    "        for c in self._option_widgets:\n",
    "            c.value=not c.value\n",
    "\n",
    "    ####################################\n",
    "    # widget onchange\n",
    "    ####################################\n",
    "    def _onchange_checkbox(self,change) -> None :\n",
    "        logging.debug(f'{self.name} : CHANGED {change.owner.description} = {change.new}')\n",
    "        self._update_button_state() # update button state\n",
    "    \n",
    "    ####################################\n",
    "    # build GUI\n",
    "    ####################################\n",
    "    def _make_widget(self,options : OPTIONS) -> VBox :\n",
    "        # controls\n",
    "        controls = HBox(self._make_controls())\n",
    "        \n",
    "        # options\n",
    "        options = VBox(\n",
    "            children    = self._make_options(options),\n",
    "            layout      = Layout(height='300px')\n",
    "        )\n",
    "        \n",
    "        # return\n",
    "        return VBox(\n",
    "            children    = [controls,options],\n",
    "            layout      = Layout(border='1px solid black',width=self._width,overflow_x='scroll')\n",
    "        )\n",
    "    \n",
    "    def _make_controls(self) -> BUTTONS :\n",
    "        button_apply = Button(\n",
    "            description = 'apply',\n",
    "            disabled    = True,\n",
    "            tooltip     = 'apply changes',\n",
    "        )\n",
    "        button_apply.on_click(self._click_apply)\n",
    "\n",
    "        button_cancel = Button(\n",
    "            description = 'cancel',\n",
    "            disabled    = True,\n",
    "            tooltip     = 'retrieve last applied values',\n",
    "        )\n",
    "        button_cancel.on_click(self._click_cancel)\n",
    "        \n",
    "        button_all = Button(\n",
    "            description = 'all',\n",
    "            tooltip     = 'select all',\n",
    "        )\n",
    "        button_all.on_click(self._click_all)\n",
    "        \n",
    "        button_none = Button(\n",
    "            description = 'none',\n",
    "            tooltip     = 'clear selection',\n",
    "        )\n",
    "        button_none.on_click(self._click_none)\n",
    "        \n",
    "        button_invert = Button(\n",
    "            description = 'invert',\n",
    "            tooltip     = 'invert selection',\n",
    "        )\n",
    "        button_invert.on_click(self._click_invert)\n",
    "\n",
    "        return [\n",
    "            button_apply,\n",
    "            button_cancel,\n",
    "            button_all,\n",
    "            button_none,\n",
    "            button_invert,\n",
    "        ]\n",
    "\n",
    "    def _make_options(self,options : OPTIONS) -> CHECKBOXES :\n",
    "        # checkboxes\n",
    "        widgets=[\n",
    "            Checkbox(\n",
    "                description=option,\n",
    "                layout=Layout(height='15px'),\n",
    "                indent=False,\n",
    "                value=self._default\n",
    "            ) for option in options\n",
    "        ]\n",
    "        \n",
    "        # register checkboxes\n",
    "        for c in widgets:\n",
    "            c.observe(self._onchange_checkbox,names='value')\n",
    "\n",
    "        # return\n",
    "        return widgets\n",
    "    \n",
    "    ####################################\n",
    "    # properties\n",
    "    ####################################\n",
    "    @property\n",
    "    def _control_widgets(self) -> BUTTONS :\n",
    "        return self.widget.children[0].children\n",
    "    \n",
    "    @property\n",
    "    def _option_widgets(self) -> CHECKBOXES :\n",
    "        return self.widget.children[1].children\n",
    "    \n",
    "    @_option_widgets.setter\n",
    "    def _option_widgets(self,new_options : CHECKBOXES) -> None:\n",
    "        self.widget.children[1].children=new_options\n",
    "        \n",
    "    @property\n",
    "    def _current_settings(self) -> OPTIONID_VALUES :\n",
    "        return self._option_identifier_vs_option_value(self._option_widgets,self._options)\n",
    "    \n",
    "    ####################################\n",
    "    # functions\n",
    "    ####################################\n",
    "    '''\n",
    "    a=CHECKBOXES({'option '+str(x):str(x)*10 for x in range(0,10)})\n",
    "    display(a.widget)\n",
    "    a.update_options({'option '+str(x):str(x)*10 for x in range(5,20)})\n",
    "    '''\n",
    "    def update_options(self,new_options : OPTIONS) -> None:\n",
    "        logging.info(f'{self.name} : update_options')\n",
    "\n",
    "        ################################################################\n",
    "        # if existing option exists, replace newly created widget with existing one\n",
    "        ################################################################\n",
    "        # unique identifier for _options\n",
    "        new_options_list      = self._dict2list(new_options)\n",
    "        old_options_list      = self._dict2list(self._options)\n",
    "\n",
    "        # create new widgets from recently provided new_options\n",
    "        new_option_widgets    = self._make_options(new_options)\n",
    "        new_applied_settings  = self._option_identifier_vs_option_value(new_option_widgets,new_options) # build dictionary to enable easy identifying/overwriting\n",
    "        \n",
    "        # update duplicated new widgets with existing ones\n",
    "        for i,x in enumerate(old_options_list):\n",
    "            loc = self._location_in_list(new_options_list,x)\n",
    "            if loc != None:                                       # if old option exists in new list\n",
    "                new_option_widgets[loc] = self._option_widgets[i] # replace new widget with existing one\n",
    "\n",
    "        # update self.applied_settings to align with new widgets\n",
    "        for k,v in self.applied_settings.items():\n",
    "            if k in new_applied_settings:                         # if old option exists in new list\n",
    "                new_applied_settings[k] = v                       # replace new applied_settings with existing ones\n",
    "\n",
    "        # finalize\n",
    "        self._option_widgets  = new_option_widgets                # new widgets\n",
    "        self._options         = new_options                       # new option referential\n",
    "        self.applied_settings = new_applied_settings              # new applied settings\n",
    "\n",
    "        # pretty\n",
    "        self._update_button_state()                               # update button state\n",
    "        self._logging()                                           # show internals\n",
    "        \n",
    "    '''list-ify a dict'''\n",
    "    def _dict2list(self,d : Dict[X,Y]) -> List[Tuple[X,Y]] :\n",
    "        return [(k,v) for k,v in d.items()]\n",
    "    \n",
    "    '''make key-value keyed dico with values = widget.values '''\n",
    "    def _option_identifier_vs_option_value(self,\n",
    "        widgets : WIDGETS,\n",
    "        options : OPTIONS,\n",
    "        ) -> OPTIONID_VALUES :\n",
    "        return {(k,v):w.value for w,(k,v) in zip(widgets,options.items())}\n",
    "    \n",
    "    '''locate position of x in l returning None if not found'''\n",
    "    def _location_in_list(self,\n",
    "        l : List[X],\n",
    "        x : X\n",
    "        ) -> int :\n",
    "        try:\n",
    "            return l.index(x) \n",
    "        except ValueError:\n",
    "            return None\n",
    "        \n",
    "    def _logging(self) -> None :\n",
    "        for k,v in self.applied_settings.items():\n",
    "            if v:\n",
    "                logging.debug(f'{self.name} : REFERENCE {k} = True')"
   ]
  },
  {
   "cell_type": "code",
   "execution_count": null,
   "id": "0c719d28-a757-4153-8843-26129e24ee79",
   "metadata": {
    "extensions": {
     "jupyter_dashboards": {
      "activeView": "grid_default",
      "views": {
       "grid_default": {
        "col": null,
        "height": 2,
        "hidden": true,
        "row": null,
        "width": 2
       }
      }
     }
    },
    "tags": []
   },
   "outputs": [],
   "source": [
    "# __file__ exists if notebook called with %run but doesnt it called manually\n",
    "# e.g. I only wish to run the example when calling this notebook directly\n",
    "try:\n",
    "    __file__\n",
    "except NameError:\n",
    "    # example\n",
    "    a=CHECKBOXES()\n",
    "    display(dir(a))\n",
    "    display(a.widget)"
   ]
  },
  {
   "cell_type": "code",
   "execution_count": null,
   "id": "8e595a32-b531-4694-82b1-17d70f090c61",
   "metadata": {},
   "outputs": [],
   "source": [
    "'''\n",
    "a._options\n",
    "\n",
    "new_options=a._populate_options(list('xyz'))\n",
    "new_options\n",
    "\n",
    "a.update_options(new_options)\n",
    "'''\n",
    "None"
   ]
  }
 ],
 "metadata": {
  "extensions": {
   "jupyter_dashboards": {
    "activeView": "grid_default",
    "version": 1,
    "views": {
     "grid_default": {
      "cellMargin": 2,
      "defaultCellHeight": 60,
      "maxColumns": 12,
      "name": "grid",
      "type": "grid"
     }
    }
   }
  },
  "kernelspec": {
   "display_name": "Python 3",
   "language": "python",
   "name": "python3"
  },
  "language_info": {
   "codemirror_mode": {
    "name": "ipython",
    "version": 3
   },
   "file_extension": ".py",
   "mimetype": "text/x-python",
   "name": "python",
   "nbconvert_exporter": "python",
   "pygments_lexer": "ipython3",
   "version": "3.8.10"
  }
 },
 "nbformat": 4,
 "nbformat_minor": 5
}
