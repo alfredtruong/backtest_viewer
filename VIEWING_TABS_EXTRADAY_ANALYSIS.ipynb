{
 "cells": [
  {
   "cell_type": "markdown",
   "id": "9f6803d1-7773-44ba-8374-cc7e740e95c7",
   "metadata": {
    "extensions": {
     "jupyter_dashboards": {
      "activeView": "grid_default",
      "views": {
       "grid_default": {
        "col": null,
        "height": 2,
        "hidden": true,
        "row": null,
        "width": 2
       }
      }
     }
    }
   },
   "source": [
    "### modules"
   ]
  },
  {
   "cell_type": "code",
   "execution_count": null,
   "id": "b9921775-7e71-4635-ae7b-91e8e083d977",
   "metadata": {
    "extensions": {
     "jupyter_dashboards": {
      "activeView": "grid_default",
      "views": {
       "grid_default": {
        "col": null,
        "height": 2,
        "hidden": true,
        "row": null,
        "width": 2
       }
      }
     }
    }
   },
   "outputs": [],
   "source": [
    "if globals().get('LOADED_LOGGER') == None:\n",
    "    %run LOGGER.ipynb"
   ]
  },
  {
   "cell_type": "code",
   "execution_count": null,
   "id": "9e26408e-9047-4fe5-a766-2c9ef76bf204",
   "metadata": {
    "extensions": {
     "jupyter_dashboards": {
      "activeView": "grid_default",
      "views": {
       "grid_default": {
        "col": null,
        "height": 2,
        "hidden": true,
        "row": null,
        "width": 2
       }
      }
     }
    }
   },
   "outputs": [],
   "source": [
    "if globals().get('LOADED_ANNOTATIONS') == None:\n",
    "    %run ANNOTATIONS.ipynb"
   ]
  },
  {
   "cell_type": "code",
   "execution_count": null,
   "id": "d79b2d0e-41fc-4c7c-91c1-4a301ab4ae47",
   "metadata": {
    "extensions": {
     "jupyter_dashboards": {
      "activeView": "grid_default",
      "views": {
       "grid_default": {
        "col": null,
        "height": 2,
        "hidden": true,
        "row": null,
        "width": 2
       }
      }
     }
    }
   },
   "outputs": [],
   "source": [
    "if globals().get('LOADED_VIEWING_TABS') == None:\n",
    "    %run VIEWING_TABS.ipynb"
   ]
  },
  {
   "cell_type": "markdown",
   "id": "4d18761c-102f-4570-b433-662db453e15a",
   "metadata": {
    "extensions": {
     "jupyter_dashboards": {
      "activeView": "grid_default",
      "views": {
       "grid_default": {
        "col": null,
        "height": 2,
        "hidden": true,
        "row": null,
        "width": 2
       }
      }
     }
    },
    "tags": []
   },
   "source": [
    "### import protection"
   ]
  },
  {
   "cell_type": "code",
   "execution_count": null,
   "id": "66bac44f-09bc-40b2-a2a2-2dcdfff04dc4",
   "metadata": {
    "extensions": {
     "jupyter_dashboards": {
      "activeView": "grid_default",
      "views": {
       "grid_default": {
        "col": null,
        "height": 2,
        "hidden": true,
        "row": null,
        "width": 2
       }
      }
     }
    },
    "tags": []
   },
   "outputs": [],
   "source": [
    "if globals().get('LOADED_VIEWING_TABS_EXTRADAY_ANALYSIS') == None:\n",
    "    logging.info('LOADED_VIEWING_TABS_EXTRADAY_ANALYSIS')\n",
    "    LOADED_VIEWING_TABS_EXTRADAY=True"
   ]
  },
  {
   "cell_type": "markdown",
   "id": "21e1c518-750f-4c87-965c-3769aafeccc2",
   "metadata": {
    "extensions": {
     "jupyter_dashboards": {
      "activeView": "grid_default",
      "views": {
       "grid_default": {
        "col": null,
        "height": 2,
        "hidden": true,
        "row": null,
        "width": 2
       }
      }
     }
    }
   },
   "source": [
    "### begin"
   ]
  },
  {
   "cell_type": "code",
   "execution_count": null,
   "id": "6b8be55a-8883-44a9-9d67-233f78e473c9",
   "metadata": {
    "extensions": {
     "jupyter_dashboards": {
      "activeView": "grid_default",
      "views": {
       "grid_default": {
        "col": null,
        "height": 2,
        "hidden": true,
        "row": null,
        "width": 2
       }
      }
     }
    }
   },
   "outputs": [],
   "source": [
    "def EXTRADAY_TAB_PNL() -> SINGLE_TAB :\n",
    "    '''\n",
    "    summary grid showing summary statistics of selected backtests\n",
    "    - backtest return\n",
    "    - backtest sharpe\n",
    "    - daily cash volume\n",
    "    - daily future volume\n",
    "    - daily pnl\n",
    "    - max drawdown\n",
    "    - daily fee bps\n",
    "    - etc\n",
    "    '''\n",
    "    return SINGLE_TAB('Pnl','Pnl',queries=['open','high','low','close','adjusted_close','volume'])"
   ]
  },
  {
   "cell_type": "code",
   "execution_count": null,
   "id": "5dac67b5-c6df-460c-a7e2-3ad0f5efa140",
   "metadata": {
    "extensions": {
     "jupyter_dashboards": {
      "activeView": "grid_default",
      "views": {
       "grid_default": {
        "col": null,
        "height": 2,
        "hidden": true,
        "row": null,
        "width": 2
       }
      }
     }
    }
   },
   "outputs": [],
   "source": [
    "def EXTRADAY_TAB_SUMMARY() -> SINGLE_TAB :\n",
    "    '''\n",
    "    evolution of cumulative pnl\n",
    "    daily traded cash volumes\n",
    "    daily traded future volumes\n",
    "    '''\n",
    "    return SINGLE_TAB('Summary','Summary')"
   ]
  },
  {
   "cell_type": "code",
   "execution_count": null,
   "id": "245adc1e-de02-4702-a73c-46d83e391469",
   "metadata": {
    "extensions": {
     "jupyter_dashboards": {
      "activeView": "grid_default",
      "views": {
       "grid_default": {
        "col": null,
        "height": 2,
        "hidden": true,
        "row": null,
        "width": 2
       }
      }
     }
    }
   },
   "outputs": [],
   "source": [
    "def EXTRADAY_TAB_EXEC_NOMINAL() -> SINGLE_TAB :\n",
    "    '''\n",
    "    evolution of executions = exec nominal\n",
    "\n",
    "    lhs (in aggregate)\n",
    "    - total exec nom             = executed nominal in aggregate\n",
    "    - total exec nom bid         = executed nominal on bid in aggregate\n",
    "    - total exec nom ask         = executed nominal on ask in aggregate\n",
    "\n",
    "    rhs (symbol level)\n",
    "    - max sym exec nom           = max executed nominal at symbol level\n",
    "    - max sym exec nom bid       = max executed nominal on bid at symbol level\n",
    "    - max sym exec nom ask       = max executed nominal on ask at symbol level\n",
    "    '''\n",
    "    return SINGLE_TAB('ExecNom','Executed Nominal')"
   ]
  },
  {
   "cell_type": "code",
   "execution_count": null,
   "id": "7df0f0ba-290e-4ffc-8029-c60287537cb2",
   "metadata": {
    "extensions": {
     "jupyter_dashboards": {
      "activeView": "grid_default",
      "views": {
       "grid_default": {
        "col": null,
        "height": 2,
        "hidden": true,
        "row": null,
        "width": 2
       }
      }
     }
    }
   },
   "outputs": [],
   "source": [
    "def EXTRADAY_TAB_OPEN_ORDER_COUNT() -> SINGLE_TAB :\n",
    "    '''\n",
    "    evolution of max open risk over days = max open order count\n",
    "\n",
    "    lhs (in aggregate)\n",
    "    - max total open ord cnt     = max open order count in aggregate\n",
    "    - max total open ord cnt bid = max open order count on bid in aggregate\n",
    "    - max total open ord cnt ask = max open order count on ask in aggregate\n",
    "\n",
    "    rhs (symbol level)\n",
    "    - max sym open ord cnt       = max open order count at symbol level\n",
    "    - max sym open ord cnt bid   = max open order count on bid at symbol level\n",
    "    - max sym open ord cnt ask   = max open order count on ask at symbol level\n",
    "    '''\n",
    "    return SINGLE_TAB('OpenOrdCnt','Open Order Count')"
   ]
  },
  {
   "cell_type": "code",
   "execution_count": null,
   "id": "24ce48b0-5f73-4850-9061-37550fad4605",
   "metadata": {
    "extensions": {
     "jupyter_dashboards": {
      "activeView": "grid_default",
      "views": {
       "grid_default": {
        "col": null,
        "height": 2,
        "hidden": true,
        "row": null,
        "width": 2
       }
      }
     }
    }
   },
   "outputs": [],
   "source": [
    "def EXTRADAY_TAB_OPEN_ORDER_NOMINAL() -> SINGLE_TAB :\n",
    "    '''\n",
    "    evolution of max open risk over days = max open nominal\n",
    "\n",
    "    lhs (in aggregate)\n",
    "    - max total open nom         = max open nominal in aggregate\n",
    "    - max total open nom bid     = max open nominal bid in aggregate\n",
    "    - max total open nom ask     = max open nominal ask in aggregate\n",
    "\n",
    "    rhs (symbol level)\n",
    "    - max sym open nom           = max open nominal at symbol level\n",
    "    - max sym open nom bid       = max open nominal on bid at symbol level\n",
    "    - max sym open nom ask       = max open nominal on ask at symbol level\n",
    "    '''\n",
    "    return SINGLE_TAB('OpenOrdNom','Open Order Nominal')"
   ]
  },
  {
   "cell_type": "code",
   "execution_count": null,
   "id": "8a4d2d3d-d256-4c39-9cd6-9f5bf8e93174",
   "metadata": {
    "extensions": {
     "jupyter_dashboards": {
      "activeView": "grid_default",
      "views": {
       "grid_default": {
        "col": null,
        "height": 2,
        "hidden": true,
        "row": null,
        "width": 2
       }
      }
     }
    }
   },
   "outputs": [],
   "source": [
    "def EXTRADAY_TAB_HIST_ORDER_COUNT() -> SINGLE_TAB :\n",
    "    '''\n",
    "    evolution of order count = new / cxl / exec / rjt\n",
    "\n",
    "    lhs (in aggregate)\n",
    "    - total new cnt              = sent count in aggregate\n",
    "    - total cxl cnt              = cancel count in aggregate\n",
    "    - total exec cnt             = exec count in aggregate\n",
    "    - total rjt cnt              = reject count in aggregate\n",
    "\n",
    "    rhs (symbol level)\n",
    "    - max sym new cnt            = max sent count at symbol level\n",
    "    - max sym cxl cnt            = max cancel count at symbol level\n",
    "    - max sym exec cnt           = max exec count at symbol level\n",
    "    - max sym rjt cnt            = max reject count at symbol level\n",
    "    '''\n",
    "    return SINGLE_TAB('HistOrdCnt','Total Order Count')"
   ]
  },
  {
   "cell_type": "code",
   "execution_count": null,
   "id": "39789251-6fa5-4e36-b148-8ab769f0f33c",
   "metadata": {
    "extensions": {
     "jupyter_dashboards": {
      "activeView": "grid_default",
      "views": {
       "grid_default": {
        "col": null,
        "height": 2,
        "hidden": true,
        "row": null,
        "width": 2
       }
      }
     }
    }
   },
   "outputs": [],
   "source": [
    "def EXTRADAY_TAB_HIST_ORDER_NOMINAL() -> SINGLE_TAB :\n",
    "    '''\n",
    "    evolution of order nominal = new / cxl / exec / rjt\n",
    "\n",
    "    lhs (in aggregate)\n",
    "    - total new nom              = sent nominal in aggregate\n",
    "    - total cxl nom              = cancel nominal in aggregate\n",
    "    - total exec nom             = exec nominal in aggregate\n",
    "    - total rjt nom              = reject nominal in aggregate\n",
    "\n",
    "    rhs (symbol level)\n",
    "    - max sym new nom            = max sent nominal at symbol level\n",
    "    - max sym cxl nom            = max cancel nominal at symbol level\n",
    "    - max sym exec nom           = max exec nominal at symbol level\n",
    "    - max sym rjt nom            = max reject nominal at symbol level\n",
    "    '''\n",
    "    return SINGLE_TAB('HistOrdNom','Total Order Nominal')"
   ]
  },
  {
   "cell_type": "code",
   "execution_count": null,
   "id": "869975b3-d9cd-4099-9f36-81e8332cfffa",
   "metadata": {
    "extensions": {
     "jupyter_dashboards": {
      "activeView": "grid_default",
      "views": {
       "grid_default": {
        "col": null,
        "height": 2,
        "hidden": true,
        "row": null,
        "width": 2
       }
      }
     }
    }
   },
   "outputs": [],
   "source": [
    "def EXTRADAY_TAB_INTENSITY_ORDER_COUNT() -> SINGLE_TAB :\n",
    "    '''\n",
    "    evolution of order count intensities = new / cxl / exec / rjt\n",
    "\n",
    "    lhs (in aggregate)\n",
    "    - max 5m intensity of total new cnt  = max 5m sent count intensity in aggregate\n",
    "    - max 5m intensity of total cxl cnt  = max 5m cancel count intensity in aggregate\n",
    "    - max 5m intensity of total exec cnt = max 5m exec count intensity in aggregate\n",
    "    - max 5m intensity of total rjt cnt  = max 5m reject count intensity in aggregate\n",
    "\n",
    "    rhs (symbol level)\n",
    "    - max 5m intensity of sym new cnt    = max 5m sent count intensity at symbol level\n",
    "    - max 5m intensity of sym cxl cnt    = max 5m cancel count intensity at symbol level\n",
    "    - max 5m intensity of sym exec cnt   = max 5m exec count intensity at symbol level\n",
    "    - max 5m intensity of sym rjt cnt    = max 5m reject count intensity at symbol level\n",
    "    '''\n",
    "    return SINGLE_TAB('IntensityOrdCnt','Order Count Intensity')"
   ]
  },
  {
   "cell_type": "code",
   "execution_count": null,
   "id": "8476a779-0ee0-4a57-a0d1-64fe099ac933",
   "metadata": {
    "extensions": {
     "jupyter_dashboards": {
      "activeView": "grid_default",
      "views": {
       "grid_default": {
        "col": null,
        "height": 2,
        "hidden": true,
        "row": null,
        "width": 2
       }
      }
     }
    }
   },
   "outputs": [],
   "source": [
    "def EXTRADAY_TAB_INTENSITY_ORDER_NOMINAL() -> SINGLE_TAB :\n",
    "    '''\n",
    "    evolution of order nominal intensities = new / cxl / exec / rjt\n",
    "\n",
    "    lhs (in aggregate)\n",
    "    - max 5m intensity of total new nom  = max 5m sent nominal intensity in aggregate\n",
    "    - max 5m intensity of total cxl nom  = max 5m cancel nominal intensity in aggregate\n",
    "    - max 5m intensity of total exec nom = max 5m exec nominal intensity in aggregate\n",
    "    - max 5m intensity of total rjt nom  = max 5m reject nominal intensity in aggregate\n",
    "\n",
    "    rhs (symbol level)\n",
    "    - max 5m intensity of sym new nom    = max 5m sent nominal intensity at symbol level\n",
    "    - max 5m intensity of sym cxl nom    = max 5m cancel nominal intensity at symbol level\n",
    "    - max 5m intensity of sym exec nom   = max 5m exec nominal intensity at symbol level\n",
    "    - max 5m intensity of sym rjt nom    = max 5m reject nominal intensity at symbol level\n",
    "    '''\n",
    "    return SINGLE_TAB('IntensityOrdNom','Order Nominal Intensity')"
   ]
  },
  {
   "cell_type": "code",
   "execution_count": null,
   "id": "6add7135-a2f7-474c-a0c0-23fb72040e85",
   "metadata": {
    "extensions": {
     "jupyter_dashboards": {
      "activeView": "grid_default",
      "views": {
       "grid_default": {
        "col": null,
        "height": 2,
        "hidden": true,
        "row": null,
        "width": 2
       }
      }
     }
    }
   },
   "outputs": [],
   "source": [
    "def EXTRADAY_TAB_MARKET_SHARE() -> SINGLE_TAB :\n",
    "    '''\n",
    "    evolution of market share\n",
    "\n",
    "    lhs (cash)\n",
    "    - total market volume\n",
    "    - total market share\n",
    "    - max recent market share\n",
    "\n",
    "    rhs (fut)\n",
    "    - total market volume\n",
    "    - total market share\n",
    "    - max recent market share\n",
    "    '''\n",
    "    return SINGLE_TAB('Market Share','Market Share')"
   ]
  },
  {
   "cell_type": "code",
   "execution_count": null,
   "id": "aeda8a6f-c34d-4eba-8ba6-611b79e1bfe2",
   "metadata": {
    "extensions": {
     "jupyter_dashboards": {
      "activeView": "grid_default",
      "views": {
       "grid_default": {
        "col": null,
        "height": 2,
        "hidden": true,
        "row": null,
        "width": 2
       }
      }
     }
    }
   },
   "outputs": [],
   "source": [
    "def EXTRADAY_TAB_BEHAVIOUR_RATES() -> SINGLE_TAB :\n",
    "    '''\n",
    "    evolution of activity rates = exec / cxl / rjt\n",
    "\n",
    "    lhs (cash)\n",
    "    - exec rate across all symbols\n",
    "    - cxl rate across all symbols\n",
    "    - rjt rate across all symbols\n",
    "\n",
    "    rhs (fut)\n",
    "    - exec rate across all symbols\n",
    "    - cxl rate across all symbols\n",
    "    - rjt rate across all symbols\n",
    "    '''\n",
    "    return SINGLE_TAB('Behaviour Rates','Behaviour Rates')"
   ]
  },
  {
   "cell_type": "code",
   "execution_count": null,
   "id": "db4f8991-7f6c-45b7-ae92-42e925e24ee4",
   "metadata": {
    "extensions": {
     "jupyter_dashboards": {
      "activeView": "grid_default",
      "views": {
       "grid_default": {
        "col": null,
        "height": 2,
        "hidden": true,
        "row": null,
        "width": 2
       }
      }
     }
    }
   },
   "outputs": [],
   "source": [
    "def EXTRADAY_TAB_COLLECTION() -> TAB_COLLECTION :\n",
    "    return TAB_COLLECTION(\n",
    "        name='EXTRADAY_ANALYSIS',\n",
    "        description='viewing tab = extraday evolution',\n",
    "        tabs=\n",
    "        [\n",
    "            EXTRADAY_TAB_PNL(),\n",
    "            EXTRADAY_TAB_SUMMARY(),\n",
    "            EXTRADAY_TAB_EXEC_NOMINAL(),\n",
    "            EXTRADAY_TAB_OPEN_ORDER_COUNT(),\n",
    "            EXTRADAY_TAB_OPEN_ORDER_NOMINAL(),\n",
    "            EXTRADAY_TAB_HIST_ORDER_COUNT(),\n",
    "            EXTRADAY_TAB_HIST_ORDER_NOMINAL(),\n",
    "            EXTRADAY_TAB_INTENSITY_ORDER_COUNT(),\n",
    "            EXTRADAY_TAB_INTENSITY_ORDER_NOMINAL(),\n",
    "            EXTRADAY_TAB_MARKET_SHARE(),\n",
    "        ]\n",
    "    )"
   ]
  },
  {
   "cell_type": "code",
   "execution_count": null,
   "id": "7c88a223-1849-4e54-ad9b-b1761f976ca2",
   "metadata": {
    "extensions": {
     "jupyter_dashboards": {
      "activeView": "grid_default",
      "views": {
       "grid_default": {
        "col": null,
        "height": 2,
        "hidden": true,
        "row": null,
        "width": 2
       }
      }
     }
    }
   },
   "outputs": [],
   "source": [
    "# __file__ exists if notebook called with %run\n",
    "# e.g. only do example if called directly\n",
    "try:\n",
    "    __file__\n",
    "except NameError:\n",
    "    display(EXTRADAY_TAB_COLLECTION().widget)"
   ]
  }
 ],
 "metadata": {
  "extensions": {
   "jupyter_dashboards": {
    "activeView": "grid_default",
    "version": 1,
    "views": {
     "grid_default": {
      "cellMargin": 2,
      "defaultCellHeight": 60,
      "maxColumns": 12,
      "name": "grid",
      "type": "grid"
     }
    }
   }
  },
  "kernelspec": {
   "display_name": "Python 3",
   "language": "python",
   "name": "python3"
  },
  "language_info": {
   "codemirror_mode": {
    "name": "ipython",
    "version": 3
   },
   "file_extension": ".py",
   "mimetype": "text/x-python",
   "name": "python",
   "nbconvert_exporter": "python",
   "pygments_lexer": "ipython3",
   "version": "3.8.10"
  }
 },
 "nbformat": 4,
 "nbformat_minor": 5
}
