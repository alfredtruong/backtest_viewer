{
 "cells": [
  {
   "cell_type": "code",
   "execution_count": 1,
   "id": "d79b2d0e-41fc-4c7c-91c1-4a301ab4ae47",
   "metadata": {},
   "outputs": [
    {
     "ename": "NameError",
     "evalue": "name 'xxx' is not defined",
     "output_type": "error",
     "traceback": [
      "\u001b[1;31m---------------------------------------------------------------------------\u001b[0m",
      "\u001b[1;31mNameError\u001b[0m                                 Traceback (most recent call last)",
      "\u001b[1;32m~\\OneDrive\\Documents\\GitHub\\backtest_viewer\\VIEWING_TABS.ipynb\u001b[0m in \u001b[0;36m<module>\u001b[1;34m\u001b[0m\n\u001b[0;32m      1\u001b[0m pd.DataFrame.from_dict(\n\u001b[1;32m----> 2\u001b[1;33m     \u001b[0mxxx\u001b[0m\u001b[1;33m,\u001b[0m\u001b[1;33m\u001b[0m\u001b[1;33m\u001b[0m\u001b[0m\n\u001b[0m\u001b[0;32m      3\u001b[0m     \u001b[0morient\u001b[0m\u001b[1;33m=\u001b[0m\u001b[1;34m'index'\u001b[0m\u001b[1;33m,\u001b[0m\u001b[1;33m\u001b[0m\u001b[1;33m\u001b[0m\u001b[0m\n\u001b[0;32m      4\u001b[0m     columns=output['AZUL4.SA'].keys())\n",
      "\u001b[1;31mNameError\u001b[0m: name 'xxx' is not defined"
     ]
    },
    {
     "ename": "NameError",
     "evalue": "name 'xxx' is not defined",
     "output_type": "error",
     "traceback": [
      "\u001b[1;31m---------------------------------------------------------------------------\u001b[0m",
      "\u001b[1;31mNameError\u001b[0m                                 Traceback (most recent call last)",
      "\u001b[1;32m<ipython-input-1-3e5c0853fa58>\u001b[0m in \u001b[0;36m<module>\u001b[1;34m\u001b[0m\n\u001b[1;32m----> 1\u001b[1;33m \u001b[0mget_ipython\u001b[0m\u001b[1;33m(\u001b[0m\u001b[1;33m)\u001b[0m\u001b[1;33m.\u001b[0m\u001b[0mrun_line_magic\u001b[0m\u001b[1;33m(\u001b[0m\u001b[1;34m'run'\u001b[0m\u001b[1;33m,\u001b[0m \u001b[1;34m'VIEWING_TABS.ipynb'\u001b[0m\u001b[1;33m)\u001b[0m\u001b[1;33m\u001b[0m\u001b[1;33m\u001b[0m\u001b[0m\n\u001b[0m",
      "\u001b[1;32mC:\\ProgramData\\Anaconda3\\lib\\site-packages\\IPython\\core\\interactiveshell.py\u001b[0m in \u001b[0;36mrun_line_magic\u001b[1;34m(self, magic_name, line, _stack_depth)\u001b[0m\n\u001b[0;32m   2342\u001b[0m                 \u001b[0mkwargs\u001b[0m\u001b[1;33m[\u001b[0m\u001b[1;34m'local_ns'\u001b[0m\u001b[1;33m]\u001b[0m \u001b[1;33m=\u001b[0m \u001b[0mself\u001b[0m\u001b[1;33m.\u001b[0m\u001b[0mget_local_scope\u001b[0m\u001b[1;33m(\u001b[0m\u001b[0mstack_depth\u001b[0m\u001b[1;33m)\u001b[0m\u001b[1;33m\u001b[0m\u001b[1;33m\u001b[0m\u001b[0m\n\u001b[0;32m   2343\u001b[0m             \u001b[1;32mwith\u001b[0m \u001b[0mself\u001b[0m\u001b[1;33m.\u001b[0m\u001b[0mbuiltin_trap\u001b[0m\u001b[1;33m:\u001b[0m\u001b[1;33m\u001b[0m\u001b[1;33m\u001b[0m\u001b[0m\n\u001b[1;32m-> 2344\u001b[1;33m                 \u001b[0mresult\u001b[0m \u001b[1;33m=\u001b[0m \u001b[0mfn\u001b[0m\u001b[1;33m(\u001b[0m\u001b[1;33m*\u001b[0m\u001b[0margs\u001b[0m\u001b[1;33m,\u001b[0m \u001b[1;33m**\u001b[0m\u001b[0mkwargs\u001b[0m\u001b[1;33m)\u001b[0m\u001b[1;33m\u001b[0m\u001b[1;33m\u001b[0m\u001b[0m\n\u001b[0m\u001b[0;32m   2345\u001b[0m             \u001b[1;32mreturn\u001b[0m \u001b[0mresult\u001b[0m\u001b[1;33m\u001b[0m\u001b[1;33m\u001b[0m\u001b[0m\n\u001b[0;32m   2346\u001b[0m \u001b[1;33m\u001b[0m\u001b[0m\n",
      "\u001b[1;32m<decorator-gen-53>\u001b[0m in \u001b[0;36mrun\u001b[1;34m(self, parameter_s, runner, file_finder)\u001b[0m\n",
      "\u001b[1;32mC:\\ProgramData\\Anaconda3\\lib\\site-packages\\IPython\\core\\magic.py\u001b[0m in \u001b[0;36m<lambda>\u001b[1;34m(f, *a, **k)\u001b[0m\n\u001b[0;32m    185\u001b[0m     \u001b[1;31m# but it's overkill for just that one bit of state.\u001b[0m\u001b[1;33m\u001b[0m\u001b[1;33m\u001b[0m\u001b[1;33m\u001b[0m\u001b[0m\n\u001b[0;32m    186\u001b[0m     \u001b[1;32mdef\u001b[0m \u001b[0mmagic_deco\u001b[0m\u001b[1;33m(\u001b[0m\u001b[0marg\u001b[0m\u001b[1;33m)\u001b[0m\u001b[1;33m:\u001b[0m\u001b[1;33m\u001b[0m\u001b[1;33m\u001b[0m\u001b[0m\n\u001b[1;32m--> 187\u001b[1;33m         \u001b[0mcall\u001b[0m \u001b[1;33m=\u001b[0m \u001b[1;32mlambda\u001b[0m \u001b[0mf\u001b[0m\u001b[1;33m,\u001b[0m \u001b[1;33m*\u001b[0m\u001b[0ma\u001b[0m\u001b[1;33m,\u001b[0m \u001b[1;33m**\u001b[0m\u001b[0mk\u001b[0m\u001b[1;33m:\u001b[0m \u001b[0mf\u001b[0m\u001b[1;33m(\u001b[0m\u001b[1;33m*\u001b[0m\u001b[0ma\u001b[0m\u001b[1;33m,\u001b[0m \u001b[1;33m**\u001b[0m\u001b[0mk\u001b[0m\u001b[1;33m)\u001b[0m\u001b[1;33m\u001b[0m\u001b[1;33m\u001b[0m\u001b[0m\n\u001b[0m\u001b[0;32m    188\u001b[0m \u001b[1;33m\u001b[0m\u001b[0m\n\u001b[0;32m    189\u001b[0m         \u001b[1;32mif\u001b[0m \u001b[0mcallable\u001b[0m\u001b[1;33m(\u001b[0m\u001b[0marg\u001b[0m\u001b[1;33m)\u001b[0m\u001b[1;33m:\u001b[0m\u001b[1;33m\u001b[0m\u001b[1;33m\u001b[0m\u001b[0m\n",
      "\u001b[1;32mC:\\ProgramData\\Anaconda3\\lib\\site-packages\\IPython\\core\\magics\\execution.py\u001b[0m in \u001b[0;36mrun\u001b[1;34m(self, parameter_s, runner, file_finder)\u001b[0m\n\u001b[0;32m    722\u001b[0m             \u001b[1;32mwith\u001b[0m \u001b[0mpreserve_keys\u001b[0m\u001b[1;33m(\u001b[0m\u001b[0mself\u001b[0m\u001b[1;33m.\u001b[0m\u001b[0mshell\u001b[0m\u001b[1;33m.\u001b[0m\u001b[0muser_ns\u001b[0m\u001b[1;33m,\u001b[0m \u001b[1;34m'__file__'\u001b[0m\u001b[1;33m)\u001b[0m\u001b[1;33m:\u001b[0m\u001b[1;33m\u001b[0m\u001b[1;33m\u001b[0m\u001b[0m\n\u001b[0;32m    723\u001b[0m                 \u001b[0mself\u001b[0m\u001b[1;33m.\u001b[0m\u001b[0mshell\u001b[0m\u001b[1;33m.\u001b[0m\u001b[0muser_ns\u001b[0m\u001b[1;33m[\u001b[0m\u001b[1;34m'__file__'\u001b[0m\u001b[1;33m]\u001b[0m \u001b[1;33m=\u001b[0m \u001b[0mfilename\u001b[0m\u001b[1;33m\u001b[0m\u001b[1;33m\u001b[0m\u001b[0m\n\u001b[1;32m--> 724\u001b[1;33m                 \u001b[0mself\u001b[0m\u001b[1;33m.\u001b[0m\u001b[0mshell\u001b[0m\u001b[1;33m.\u001b[0m\u001b[0msafe_execfile_ipy\u001b[0m\u001b[1;33m(\u001b[0m\u001b[0mfilename\u001b[0m\u001b[1;33m,\u001b[0m \u001b[0mraise_exceptions\u001b[0m\u001b[1;33m=\u001b[0m\u001b[1;32mTrue\u001b[0m\u001b[1;33m)\u001b[0m\u001b[1;33m\u001b[0m\u001b[1;33m\u001b[0m\u001b[0m\n\u001b[0m\u001b[0;32m    725\u001b[0m             \u001b[1;32mreturn\u001b[0m\u001b[1;33m\u001b[0m\u001b[1;33m\u001b[0m\u001b[0m\n\u001b[0;32m    726\u001b[0m \u001b[1;33m\u001b[0m\u001b[0m\n",
      "\u001b[1;32mC:\\ProgramData\\Anaconda3\\lib\\site-packages\\IPython\\core\\interactiveshell.py\u001b[0m in \u001b[0;36msafe_execfile_ipy\u001b[1;34m(self, fname, shell_futures, raise_exceptions)\u001b[0m\n\u001b[0;32m   2829\u001b[0m                     \u001b[0mresult\u001b[0m \u001b[1;33m=\u001b[0m \u001b[0mself\u001b[0m\u001b[1;33m.\u001b[0m\u001b[0mrun_cell\u001b[0m\u001b[1;33m(\u001b[0m\u001b[0mcell\u001b[0m\u001b[1;33m,\u001b[0m \u001b[0msilent\u001b[0m\u001b[1;33m=\u001b[0m\u001b[1;32mTrue\u001b[0m\u001b[1;33m,\u001b[0m \u001b[0mshell_futures\u001b[0m\u001b[1;33m=\u001b[0m\u001b[0mshell_futures\u001b[0m\u001b[1;33m)\u001b[0m\u001b[1;33m\u001b[0m\u001b[1;33m\u001b[0m\u001b[0m\n\u001b[0;32m   2830\u001b[0m                     \u001b[1;32mif\u001b[0m \u001b[0mraise_exceptions\u001b[0m\u001b[1;33m:\u001b[0m\u001b[1;33m\u001b[0m\u001b[1;33m\u001b[0m\u001b[0m\n\u001b[1;32m-> 2831\u001b[1;33m                         \u001b[0mresult\u001b[0m\u001b[1;33m.\u001b[0m\u001b[0mraise_error\u001b[0m\u001b[1;33m(\u001b[0m\u001b[1;33m)\u001b[0m\u001b[1;33m\u001b[0m\u001b[1;33m\u001b[0m\u001b[0m\n\u001b[0m\u001b[0;32m   2832\u001b[0m                     \u001b[1;32melif\u001b[0m \u001b[1;32mnot\u001b[0m \u001b[0mresult\u001b[0m\u001b[1;33m.\u001b[0m\u001b[0msuccess\u001b[0m\u001b[1;33m:\u001b[0m\u001b[1;33m\u001b[0m\u001b[1;33m\u001b[0m\u001b[0m\n\u001b[0;32m   2833\u001b[0m                         \u001b[1;32mbreak\u001b[0m\u001b[1;33m\u001b[0m\u001b[1;33m\u001b[0m\u001b[0m\n",
      "\u001b[1;32mC:\\ProgramData\\Anaconda3\\lib\\site-packages\\IPython\\core\\interactiveshell.py\u001b[0m in \u001b[0;36mraise_error\u001b[1;34m(self)\u001b[0m\n\u001b[0;32m    329\u001b[0m             \u001b[1;32mraise\u001b[0m \u001b[0mself\u001b[0m\u001b[1;33m.\u001b[0m\u001b[0merror_before_exec\u001b[0m\u001b[1;33m\u001b[0m\u001b[1;33m\u001b[0m\u001b[0m\n\u001b[0;32m    330\u001b[0m         \u001b[1;32mif\u001b[0m \u001b[0mself\u001b[0m\u001b[1;33m.\u001b[0m\u001b[0merror_in_exec\u001b[0m \u001b[1;32mis\u001b[0m \u001b[1;32mnot\u001b[0m \u001b[1;32mNone\u001b[0m\u001b[1;33m:\u001b[0m\u001b[1;33m\u001b[0m\u001b[1;33m\u001b[0m\u001b[0m\n\u001b[1;32m--> 331\u001b[1;33m             \u001b[1;32mraise\u001b[0m \u001b[0mself\u001b[0m\u001b[1;33m.\u001b[0m\u001b[0merror_in_exec\u001b[0m\u001b[1;33m\u001b[0m\u001b[1;33m\u001b[0m\u001b[0m\n\u001b[0m\u001b[0;32m    332\u001b[0m \u001b[1;33m\u001b[0m\u001b[0m\n\u001b[0;32m    333\u001b[0m     \u001b[1;32mdef\u001b[0m \u001b[0m__repr__\u001b[0m\u001b[1;33m(\u001b[0m\u001b[0mself\u001b[0m\u001b[1;33m)\u001b[0m\u001b[1;33m:\u001b[0m\u001b[1;33m\u001b[0m\u001b[1;33m\u001b[0m\u001b[0m\n",
      "    \u001b[1;31m[... skipping hidden 1 frame]\u001b[0m\n",
      "\u001b[1;32m<ipython-input-1-23b9df5286fe>\u001b[0m in \u001b[0;36m<module>\u001b[1;34m\u001b[0m\n\u001b[0;32m      1\u001b[0m pd.DataFrame.from_dict(\n\u001b[1;32m----> 2\u001b[1;33m     \u001b[0mxxx\u001b[0m\u001b[1;33m,\u001b[0m\u001b[1;33m\u001b[0m\u001b[1;33m\u001b[0m\u001b[0m\n\u001b[0m\u001b[0;32m      3\u001b[0m     \u001b[0morient\u001b[0m\u001b[1;33m=\u001b[0m\u001b[1;34m'index'\u001b[0m\u001b[1;33m,\u001b[0m\u001b[1;33m\u001b[0m\u001b[1;33m\u001b[0m\u001b[0m\n\u001b[0;32m      4\u001b[0m     columns=output['AZUL4.SA'].keys())\n",
      "\u001b[1;31mNameError\u001b[0m: name 'xxx' is not defined"
     ]
    }
   ],
   "source": [
    "%run VIEWING_TABS.ipynb"
   ]
  },
  {
   "cell_type": "code",
   "execution_count": null,
   "id": "6b8be55a-8883-44a9-9d67-233f78e473c9",
   "metadata": {},
   "outputs": [],
   "source": [
    "def EXTRADAY_TAB_PNL():\n",
    "    '''\n",
    "    summary grid showing summary statistics of selected backtests\n",
    "    - backtest return\n",
    "    - backtest sharpe\n",
    "    - daily cash volume\n",
    "    - daily future volume\n",
    "    - daily pnl\n",
    "    - max drawdown\n",
    "    - daily fee bps\n",
    "    - etc\n",
    "    '''\n",
    "    return SINGLE_TAB('Pnl','Pnl')"
   ]
  },
  {
   "cell_type": "code",
   "execution_count": null,
   "id": "5dac67b5-c6df-460c-a7e2-3ad0f5efa140",
   "metadata": {},
   "outputs": [],
   "source": [
    "def EXTRADAY_TAB_SUMMARY():\n",
    "    '''\n",
    "    evolution of cumulative pnl\n",
    "    daily traded cash volumes\n",
    "    daily traded future volumes\n",
    "    '''\n",
    "    return SINGLE_TAB('Summary','Summary')"
   ]
  },
  {
   "cell_type": "code",
   "execution_count": null,
   "id": "245adc1e-de02-4702-a73c-46d83e391469",
   "metadata": {},
   "outputs": [],
   "source": [
    "def EXTRADAY_TAB_EXEC_NOMINAL():\n",
    "    '''\n",
    "    evolution of executions = exec nominal\n",
    "\n",
    "    lhs (in aggregate)\n",
    "    - total exec nom             = executed nominal in aggregate\n",
    "    - total exec nom bid         = executed nominal on bid in aggregate\n",
    "    - total exec nom ask         = executed nominal on ask in aggregate\n",
    "\n",
    "    rhs (symbol level)\n",
    "    - max sym exec nom           = max executed nominal at symbol level\n",
    "    - max sym exec nom bid       = max executed nominal on bid at symbol level\n",
    "    - max sym exec nom ask       = max executed nominal on ask at symbol level\n",
    "    '''\n",
    "    return SINGLE_TAB('ExecNom','Executed Nominal')"
   ]
  },
  {
   "cell_type": "code",
   "execution_count": null,
   "id": "7df0f0ba-290e-4ffc-8029-c60287537cb2",
   "metadata": {},
   "outputs": [],
   "source": [
    "def EXTRADAY_TAB_OPEN_ORDER_COUNT():\n",
    "    '''\n",
    "    evolution of max open risk over days = max open order count\n",
    "\n",
    "    lhs (in aggregate)\n",
    "    - max total open ord cnt     = max open order count in aggregate\n",
    "    - max total open ord cnt bid = max open order count on bid in aggregate\n",
    "    - max total open ord cnt ask = max open order count on ask in aggregate\n",
    "\n",
    "    rhs (symbol level)\n",
    "    - max sym open ord cnt       = max open order count at symbol level\n",
    "    - max sym open ord cnt bid   = max open order count on bid at symbol level\n",
    "    - max sym open ord cnt ask   = max open order count on ask at symbol level\n",
    "    '''\n",
    "    return SINGLE_TAB('OpenOrdCnt','Open Order Count')"
   ]
  },
  {
   "cell_type": "code",
   "execution_count": null,
   "id": "24ce48b0-5f73-4850-9061-37550fad4605",
   "metadata": {},
   "outputs": [],
   "source": [
    "def EXTRADAY_TAB_OPEN_ORDER_NOMINAL():\n",
    "    '''\n",
    "    evolution of max open risk over days = max open nominal\n",
    "\n",
    "    lhs (in aggregate)\n",
    "    - max total open nom         = max open nominal in aggregate\n",
    "    - max total open nom bid     = max open nominal bid in aggregate\n",
    "    - max total open nom ask     = max open nominal ask in aggregate\n",
    "\n",
    "    rhs (symbol level)\n",
    "    - max sym open nom           = max open nominal at symbol level\n",
    "    - max sym open nom bid       = max open nominal on bid at symbol level\n",
    "    - max sym open nom ask       = max open nominal on ask at symbol level\n",
    "    '''\n",
    "    return SINGLE_TAB('OpenOrdNom','Open Order Nominal')"
   ]
  },
  {
   "cell_type": "code",
   "execution_count": null,
   "id": "8a4d2d3d-d256-4c39-9cd6-9f5bf8e93174",
   "metadata": {},
   "outputs": [],
   "source": [
    "def EXTRADAY_TAB_HIST_ORDER_COUNT():\n",
    "    '''\n",
    "    evolution of order count = new / cxl / exec / rjt\n",
    "\n",
    "    lhs (in aggregate)\n",
    "    - total new cnt              = sent count in aggregate\n",
    "    - total cxl cnt              = cancel count in aggregate\n",
    "    - total exec cnt             = exec count in aggregate\n",
    "    - total rjt cnt              = reject count in aggregate\n",
    "\n",
    "    rhs (symbol level)\n",
    "    - max sym new cnt            = max sent count at symbol level\n",
    "    - max sym cxl cnt            = max cancel count at symbol level\n",
    "    - max sym exec cnt           = max exec count at symbol level\n",
    "    - max sym rjt cnt            = max reject count at symbol level\n",
    "    '''\n",
    "    return SINGLE_TAB('HistOrdCnt','Total Order Count')"
   ]
  },
  {
   "cell_type": "code",
   "execution_count": null,
   "id": "39789251-6fa5-4e36-b148-8ab769f0f33c",
   "metadata": {},
   "outputs": [],
   "source": [
    "def EXTRADAY_TAB_HIST_ORDER_NOMINAL():\n",
    "    '''\n",
    "    evolution of order nominal = new / cxl / exec / rjt\n",
    "\n",
    "    lhs (in aggregate)\n",
    "    - total new nom              = sent nominal in aggregate\n",
    "    - total cxl nom              = cancel nominal in aggregate\n",
    "    - total exec nom             = exec nominal in aggregate\n",
    "    - total rjt nom              = reject nominal in aggregate\n",
    "\n",
    "    rhs (symbol level)\n",
    "    - max sym new nom            = max sent nominal at symbol level\n",
    "    - max sym cxl nom            = max cancel nominal at symbol level\n",
    "    - max sym exec nom           = max exec nominal at symbol level\n",
    "    - max sym rjt nom            = max reject nominal at symbol level\n",
    "    '''\n",
    "    return SINGLE_TAB('HistOrdNom','Total Order Nominal')"
   ]
  },
  {
   "cell_type": "code",
   "execution_count": null,
   "id": "869975b3-d9cd-4099-9f36-81e8332cfffa",
   "metadata": {},
   "outputs": [],
   "source": [
    "def EXTRADAY_TAB_INTENSITY_ORDER_COUNT():\n",
    "    '''\n",
    "    evolution of order count intensities = new / cxl / exec / rjt\n",
    "\n",
    "    lhs (in aggregate)\n",
    "    - max 5m intensity of total new cnt  = max 5m sent count intensity in aggregate\n",
    "    - max 5m intensity of total cxl cnt  = max 5m cancel count intensity in aggregate\n",
    "    - max 5m intensity of total exec cnt = max 5m exec count intensity in aggregate\n",
    "    - max 5m intensity of total rjt cnt  = max 5m reject count intensity in aggregate\n",
    "\n",
    "    rhs (symbol level)\n",
    "    - max 5m intensity of sym new cnt    = max 5m sent count intensity at symbol level\n",
    "    - max 5m intensity of sym cxl cnt    = max 5m cancel count intensity at symbol level\n",
    "    - max 5m intensity of sym exec cnt   = max 5m exec count intensity at symbol level\n",
    "    - max 5m intensity of sym rjt cnt    = max 5m reject count intensity at symbol level\n",
    "    '''\n",
    "    return SINGLE_TAB('IntensityOrdCnt','Order Count Intensity')"
   ]
  },
  {
   "cell_type": "code",
   "execution_count": null,
   "id": "8476a779-0ee0-4a57-a0d1-64fe099ac933",
   "metadata": {},
   "outputs": [],
   "source": [
    "def EXTRADAY_TAB_INTENSITY_ORDER_NOMINAL():\n",
    "    '''\n",
    "    evolution of order nominal intensities = new / cxl / exec / rjt\n",
    "\n",
    "    lhs (in aggregate)\n",
    "    - max 5m intensity of total new nom  = max 5m sent nominal intensity in aggregate\n",
    "    - max 5m intensity of total cxl nom  = max 5m cancel nominal intensity in aggregate\n",
    "    - max 5m intensity of total exec nom = max 5m exec nominal intensity in aggregate\n",
    "    - max 5m intensity of total rjt nom  = max 5m reject nominal intensity in aggregate\n",
    "\n",
    "    rhs (symbol level)\n",
    "    - max 5m intensity of sym new nom    = max 5m sent nominal intensity at symbol level\n",
    "    - max 5m intensity of sym cxl nom    = max 5m cancel nominal intensity at symbol level\n",
    "    - max 5m intensity of sym exec nom   = max 5m exec nominal intensity at symbol level\n",
    "    - max 5m intensity of sym rjt nom    = max 5m reject nominal intensity at symbol level\n",
    "    '''\n",
    "    return SINGLE_TAB('IntensityOrdNom','Order Nominal Intensity')"
   ]
  },
  {
   "cell_type": "code",
   "execution_count": null,
   "id": "6add7135-a2f7-474c-a0c0-23fb72040e85",
   "metadata": {},
   "outputs": [],
   "source": [
    "def EXTRADAY_TAB_MARKET_SHARE():\n",
    "    '''\n",
    "    evolution of market share\n",
    "\n",
    "    lhs (cash)\n",
    "    - total market volume\n",
    "    - total market share\n",
    "    - max recent market share\n",
    "\n",
    "    rhs (fut)\n",
    "    - total market volume\n",
    "    - total market share\n",
    "    - max recent market share\n",
    "    '''\n",
    "    return SINGLE_TAB('Market Share','Market Share')"
   ]
  },
  {
   "cell_type": "code",
   "execution_count": null,
   "id": "aeda8a6f-c34d-4eba-8ba6-611b79e1bfe2",
   "metadata": {},
   "outputs": [],
   "source": [
    "def EXTRADAY_TAB_BEHAVIOUR_RATES():\n",
    "    '''\n",
    "    evolution of activity rates = exec / cxl / rjt\n",
    "\n",
    "    lhs (cash)\n",
    "    - exec rate across all symbols\n",
    "    - cxl rate across all symbols\n",
    "    - rjt rate across all symbols\n",
    "\n",
    "    rhs (fut)\n",
    "    - exec rate across all symbols\n",
    "    - cxl rate across all symbols\n",
    "    - rjt rate across all symbols\n",
    "    '''\n",
    "    return SINGLE_TAB('Behaviour Rates','Behaviour Rates')"
   ]
  },
  {
   "cell_type": "code",
   "execution_count": null,
   "id": "db4f8991-7f6c-45b7-ae92-42e925e24ee4",
   "metadata": {},
   "outputs": [],
   "source": [
    "def EXTRADAY_TAB_COLLECTION():\n",
    "    return TAB_COLLECTION(\n",
    "        name='EXTRADAY_ANALYSIS',\n",
    "        description='viewing tab = extraday evolution',\n",
    "        tabs=\n",
    "        [\n",
    "            EXTRADAY_TAB_PNL(),\n",
    "            EXTRADAY_TAB_SUMMARY(),\n",
    "            EXTRADAY_TAB_EXEC_NOMINAL(),\n",
    "            EXTRADAY_TAB_OPEN_ORDER_COUNT(),\n",
    "            EXTRADAY_TAB_OPEN_ORDER_NOMINAL(),\n",
    "            EXTRADAY_TAB_HIST_ORDER_COUNT(),\n",
    "            EXTRADAY_TAB_HIST_ORDER_NOMINAL(),\n",
    "            EXTRADAY_TAB_INTENSITY_ORDER_COUNT(),\n",
    "            EXTRADAY_TAB_INTENSITY_ORDER_NOMINAL(),\n",
    "            EXTRADAY_TAB_MARKET_SHARE(),\n",
    "        ]\n",
    "    )"
   ]
  },
  {
   "cell_type": "code",
   "execution_count": null,
   "id": "7c88a223-1849-4e54-ad9b-b1761f976ca2",
   "metadata": {},
   "outputs": [],
   "source": [
    "EXTRADAY_TAB_COLLECTION().widget"
   ]
  }
 ],
 "metadata": {
  "kernelspec": {
   "display_name": "Python 3",
   "language": "python",
   "name": "python3"
  },
  "language_info": {
   "codemirror_mode": {
    "name": "ipython",
    "version": 3
   },
   "file_extension": ".py",
   "mimetype": "text/x-python",
   "name": "python",
   "nbconvert_exporter": "python",
   "pygments_lexer": "ipython3",
   "version": "3.8.10"
  }
 },
 "nbformat": 4,
 "nbformat_minor": 5
}
