{
 "cells": [
  {
   "cell_type": "code",
   "execution_count": null,
   "id": "01c0b2e7-0b9d-4d8b-ba83-a1cd2f04771f",
   "metadata": {},
   "outputs": [],
   "source": [
    "# 3rd party\n",
    "from ipywidgets import HBox,VBox,Checkbox,Button # ipywidgets\n",
    "from pathlib import Path # pathlib\n",
    "\n",
    "# annotation\n",
    "from typing import TypeVar,List,Dict,Tuple\n",
    "from ipywidgets import Widget"
   ]
  },
  {
   "cell_type": "code",
   "execution_count": null,
   "id": "82d501c0-8ef8-4c18-9d70-75e90df26aae",
   "metadata": {},
   "outputs": [],
   "source": [
    "# generic types\n",
    "X = TypeVar('X')\n",
    "Y = TypeVar('Y')\n",
    "Z = TypeVar('Z')\n",
    "SINGLE_TAB = TypeVar('SINGLE_TAB')\n",
    "\n",
    "# ipywidget types\n",
    "WIDGETS = List[Widget]\n",
    "CHECKBOXES = List[Checkbox]\n",
    "BUTTONS = List[Button]\n",
    "\n",
    "# backtest viewer types\n",
    "ID_PATHS = Dict[str,Path]\n",
    "OPTIONS = Dict[str,object]\n",
    "OPTIONID_VALUES = Dict[Tuple[str,object],bool]\n",
    "QUERIES = Dict[Tuple[int,int],object]\n",
    "TABS = List[SINGLE_TAB]"
   ]
  }
 ],
 "metadata": {
  "kernelspec": {
   "display_name": "Python 3",
   "language": "python",
   "name": "python3"
  },
  "language_info": {
   "codemirror_mode": {
    "name": "ipython",
    "version": 3
   },
   "file_extension": ".py",
   "mimetype": "text/x-python",
   "name": "python",
   "nbconvert_exporter": "python",
   "pygments_lexer": "ipython3",
   "version": "3.8.10"
  }
 },
 "nbformat": 4,
 "nbformat_minor": 5
}
