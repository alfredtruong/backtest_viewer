{
 "cells": [
  {
   "cell_type": "markdown",
   "id": "e4474592-530d-4d27-9a87-5849b177de9f",
   "metadata": {
    "extensions": {
     "jupyter_dashboards": {
      "activeView": "grid_default",
      "views": {
       "grid_default": {
        "col": null,
        "height": 2,
        "hidden": true,
        "row": null,
        "width": 2
       }
      }
     }
    }
   },
   "source": [
    "### modules"
   ]
  },
  {
   "cell_type": "code",
   "execution_count": null,
   "id": "c402a9e0-808a-40db-9b51-4feb536709ac",
   "metadata": {},
   "outputs": [],
   "source": [
    "if globals().get('LOADED_LOGGER') == None:\n",
    "    %run LOGGER.ipynb"
   ]
  },
  {
   "cell_type": "markdown",
   "id": "4877e528-04d8-40eb-b732-07f18a03f5db",
   "metadata": {
    "extensions": {
     "jupyter_dashboards": {
      "activeView": "grid_default",
      "views": {
       "grid_default": {
        "col": null,
        "height": 2,
        "hidden": true,
        "row": null,
        "width": 2
       }
      }
     }
    }
   },
   "source": [
    "### import protection"
   ]
  },
  {
   "cell_type": "code",
   "execution_count": null,
   "id": "aa3b1d7d-9212-4ed4-b125-8eb17ffb6963",
   "metadata": {},
   "outputs": [],
   "source": [
    "if globals().get('LOADED_ANNOTATIONS') == None:\n",
    "    logging.info('LOADED_ANNOTATIONS')\n",
    "    LOADED_ANNOTATIONS=True"
   ]
  },
  {
   "cell_type": "markdown",
   "id": "7cda2f4c-7693-48df-b4cd-38b81d4e5b98",
   "metadata": {},
   "source": [
    "### imports"
   ]
  },
  {
   "cell_type": "code",
   "execution_count": null,
   "id": "2da2d6ef-82bf-4a6d-b52f-85e77ae07d1f",
   "metadata": {
    "tags": []
   },
   "outputs": [],
   "source": [
    "from ipywidgets import HBox,VBox,Checkbox,Button,Widget\n",
    "from pathlib import Path\n",
    "from datetime import date,time,datetime\n",
    "import pandas as pd\n",
    "import numpy as np\n",
    "from __future__ import annotations\n",
    "from typing import Union,TypeVar,List,Dict,Tuple,Set"
   ]
  },
  {
   "cell_type": "markdown",
   "id": "8efaa9db-7533-421d-9b00-4b2dfacb9919",
   "metadata": {},
   "source": [
    "### begin"
   ]
  },
  {
   "cell_type": "code",
   "execution_count": null,
   "id": "82d501c0-8ef8-4c18-9d70-75e90df26aae",
   "metadata": {
    "tags": []
   },
   "outputs": [],
   "source": [
    "# generic types\n",
    "X                = TypeVar('X')\n",
    "Y                = TypeVar('Y')\n",
    "Z                = TypeVar('Z')\n",
    "\n",
    "SINGLE_PLOT      = TypeVar('SINGLE_PLOT')\n",
    "SINGLE_TAB       = TypeVar('SINGLE_TAB')\n",
    "\n",
    "# widget types\n",
    "WIDGETS          = List[Widget]\n",
    "CHECKBOXES       = List[Checkbox]\n",
    "BUTTONS          = List[Button]\n",
    "\n",
    "# backtest viewer types\n",
    "ID_PATHS         = Dict[str,Path]\n",
    "OPTIONS          = Dict[str,X]\n",
    "OPTIONID_VALUES  = Dict[Tuple[str,X],bool]\n",
    "\n",
    "# gui types\n",
    "QUERY            = Union[str,Tuple[str],List[str]]     # simple column extracts (single=[str] or multiple columns=[tuple,list]), ratio (x/y)=[str], quantiles (qtile(x)=[str])\n",
    "QUERIES          = List[QUERY]\n",
    "LOCATIONED_PLOTS = Dict[Tuple[int,int],SINGLE_PLOT]\n",
    "TABS             = List[SINGLE_TAB]"
   ]
  }
 ],
 "metadata": {
  "kernelspec": {
   "display_name": "Python 3",
   "language": "python",
   "name": "python3"
  },
  "language_info": {
   "codemirror_mode": {
    "name": "ipython",
    "version": 3
   },
   "file_extension": ".py",
   "mimetype": "text/x-python",
   "name": "python",
   "nbconvert_exporter": "python",
   "pygments_lexer": "ipython3",
   "version": "3.8.10"
  }
 },
 "nbformat": 4,
 "nbformat_minor": 5
}
