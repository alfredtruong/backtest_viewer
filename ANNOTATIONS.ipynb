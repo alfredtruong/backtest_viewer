{
 "cells": [
  {
   "cell_type": "markdown",
   "id": "c879950d-a18e-4b3a-ace9-2f4c804357bd",
   "metadata": {},
   "source": [
    "### module import protection"
   ]
  },
  {
   "cell_type": "code",
   "execution_count": null,
   "id": "b844d557-ecf7-407f-93cb-d1d46386eb7c",
   "metadata": {},
   "outputs": [],
   "source": [
    "if globals().get('LOADED_ANNOTATIONS') == None:\n",
    "    display('LOADED_ANNOTATIONS')\n",
    "    LOADED_ANNOTATIONS=True"
   ]
  },
  {
   "cell_type": "markdown",
   "id": "7cda2f4c-7693-48df-b4cd-38b81d4e5b98",
   "metadata": {},
   "source": [
    "### imports"
   ]
  },
  {
   "cell_type": "code",
   "execution_count": null,
   "id": "01c0b2e7-0b9d-4d8b-ba83-a1cd2f04771f",
   "metadata": {
    "tags": []
   },
   "outputs": [],
   "source": [
    "# 3rd party\n",
    "from ipywidgets import HBox,VBox,Checkbox,Button # ipywidgets\n",
    "from pathlib import Path # pathlib\n",
    "\n",
    "# annotation\n",
    "from __future__ import annotations\n",
    "from typing import TypeVar,List,Dict,Tuple\n",
    "from ipywidgets import Widget\n",
    "import pandas as pd"
   ]
  },
  {
   "cell_type": "markdown",
   "id": "8efaa9db-7533-421d-9b00-4b2dfacb9919",
   "metadata": {},
   "source": [
    "### begin"
   ]
  },
  {
   "cell_type": "code",
   "execution_count": null,
   "id": "82d501c0-8ef8-4c18-9d70-75e90df26aae",
   "metadata": {
    "tags": []
   },
   "outputs": [],
   "source": [
    "# generic types\n",
    "X                = TypeVar('X')\n",
    "Y                = TypeVar('Y')\n",
    "Z                = TypeVar('Z')\n",
    "\n",
    "SINGLE_PLOT      = TypeVar('SINGLE_PLOT')\n",
    "SINGLE_TAB       = TypeVar('SINGLE_TAB')\n",
    "\n",
    "# widget types\n",
    "WIDGETS          = List[Widget]\n",
    "CHECKBOXES       = List[Checkbox]\n",
    "BUTTONS          = List[Button]\n",
    "\n",
    "# backtest viewer types\n",
    "ID_PATHS         = Dict[str,Path]\n",
    "OPTIONS          = Dict[str,X]\n",
    "OPTIONID_VALUES  = Dict[Tuple[str,X],bool]\n",
    "\n",
    "# gui types\n",
    "LOCATIONED_PLOTS = Dict[Tuple[int,int],SINGLE_PLOT]\n",
    "TABS             = List[SINGLE_TAB]"
   ]
  }
 ],
 "metadata": {
  "kernelspec": {
   "display_name": "Python 3",
   "language": "python",
   "name": "python3"
  },
  "language_info": {
   "codemirror_mode": {
    "name": "ipython",
    "version": 3
   },
   "file_extension": ".py",
   "mimetype": "text/x-python",
   "name": "python",
   "nbconvert_exporter": "python",
   "pygments_lexer": "ipython3",
   "version": "3.8.10"
  }
 },
 "nbformat": 4,
 "nbformat_minor": 5
}
