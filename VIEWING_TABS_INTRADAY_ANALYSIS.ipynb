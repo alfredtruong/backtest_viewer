{
 "cells": [
  {
   "cell_type": "code",
   "execution_count": 1,
   "id": "147b9b10-8446-432f-a48e-bd69ab13f74c",
   "metadata": {},
   "outputs": [],
   "source": [
    "%run VIEWING_TABS.ipynb"
   ]
  },
  {
   "cell_type": "code",
   "execution_count": 5,
   "id": "45d99e3e-b05c-49c7-8e18-d04762b3c97c",
   "metadata": {},
   "outputs": [],
   "source": [
    "'''\n",
    "asdf\n",
    "'''\n",
    "INTRADAY_TAB_PNL                        = SINGLE_TAB('Pnl','Pnl')\n",
    "INTRADAY_TAB_EXEC_NOMINAL               = SINGLE_TAB('ExecNom','Executed Nominal')\n",
    "INTRADAY_TAB_OPEN_ORDER_COUNT           = SINGLE_TAB('OpenOrdCnt','Open Order Count')\n",
    "INTRADAY_TAB_OPEN_ORDER_NOMINAL         = SINGLE_TAB('OpenOrdNom','Open Order Nominal')\n",
    "INTRADAY_TAB_HIST_ORDER_COUNT           = SINGLE_TAB('HistOrdCnt','Historical Order Count')\n",
    "INTRADAY_TAB_HIST_ORDER_NOMINAL         = SINGLE_TAB('HistOrdNom','Historical Order Nominal')\n",
    "INTRADAY_TAB_INTENSITY_ORDER_COUNT      = SINGLE_TAB('IntOrdCnt','Intensity Order Count')\n",
    "INTRADAY_TAB_INTENSITY_ORDER_NOMINAL    = SINGLE_TAB('IntOrdNom','Intensity Order Nominal')"
   ]
  },
  {
   "cell_type": "code",
   "execution_count": 1,
   "id": "66f0fa33-5394-40a3-9884-13f83a4a11ed",
   "metadata": {},
   "outputs": [
    {
     "ename": "NameError",
     "evalue": "name 'TAB_COLLECTION' is not defined",
     "output_type": "error",
     "traceback": [
      "\u001b[1;31m---------------------------------------------------------------------------\u001b[0m",
      "\u001b[1;31mNameError\u001b[0m                                 Traceback (most recent call last)",
      "\u001b[1;32m<ipython-input-1-704fd7b18cf2>\u001b[0m in \u001b[0;36m<module>\u001b[1;34m\u001b[0m\n\u001b[1;32m----> 1\u001b[1;33m INTRADAY_TABS=TAB_COLLECTION(\n\u001b[0m\u001b[0;32m      2\u001b[0m     \u001b[0mdescription\u001b[0m\u001b[1;33m=\u001b[0m\u001b[1;34m'viewing tab = intraday evolution'\u001b[0m\u001b[1;33m,\u001b[0m\u001b[1;33m\u001b[0m\u001b[1;33m\u001b[0m\u001b[0m\n\u001b[0;32m      3\u001b[0m     \u001b[0mname\u001b[0m\u001b[1;33m=\u001b[0m\u001b[1;34m'INTRADAY_ANALYSIS'\u001b[0m\u001b[1;33m,\u001b[0m\u001b[1;33m\u001b[0m\u001b[1;33m\u001b[0m\u001b[0m\n\u001b[0;32m      4\u001b[0m     \u001b[0mtabs\u001b[0m\u001b[1;33m=\u001b[0m\u001b[1;33m\u001b[0m\u001b[1;33m\u001b[0m\u001b[0m\n\u001b[0;32m      5\u001b[0m     [\n",
      "\u001b[1;31mNameError\u001b[0m: name 'TAB_COLLECTION' is not defined"
     ]
    }
   ],
   "source": [
    "INTRADAY_TABS=TAB_COLLECTION(\n",
    "    description='viewing tab = intraday evolution',\n",
    "    name='INTRADAY_ANALYSIS',\n",
    "    tabs=\n",
    "    [\n",
    "        INTRADAY_TAB_PNL,\n",
    "        INTRADAY_TAB_EXEC_NOMINAL,\n",
    "        INTRADAY_TAB_OPEN_ORDER_COUNT,\n",
    "        INTRADAY_TAB_OPEN_ORDER_NOMINAL,\n",
    "        INTRADAY_TAB_HIST_ORDER_COUNT,\n",
    "        INTRADAY_TAB_HIST_ORDER_NOMINAL,\n",
    "        INTRADAY_TAB_INTENSITY_ORDER_COUNT,\n",
    "        INTRADAY_TAB_INTENSITY_ORDER_NOMINAL,\n",
    "    ]\n",
    ")\n",
    "print(INTRADAY_TABS.description)"
   ]
  },
  {
   "cell_type": "code",
   "execution_count": 4,
   "id": "3324a89e-0551-41de-9e90-03503bbf8002",
   "metadata": {},
   "outputs": [],
   "source": [
    "# INTRADAY_TABS.widget"
   ]
  }
 ],
 "metadata": {
  "kernelspec": {
   "display_name": "Python 3",
   "language": "python",
   "name": "python3"
  },
  "language_info": {
   "codemirror_mode": {
    "name": "ipython",
    "version": 3
   },
   "file_extension": ".py",
   "mimetype": "text/x-python",
   "name": "python",
   "nbconvert_exporter": "python",
   "pygments_lexer": "ipython3",
   "version": "3.8.10"
  }
 },
 "nbformat": 4,
 "nbformat_minor": 5
}
