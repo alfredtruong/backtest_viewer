{
 "cells": [
  {
   "cell_type": "code",
   "execution_count": null,
   "id": "147b9b10-8446-432f-a48e-bd69ab13f74c",
   "metadata": {},
   "outputs": [],
   "source": [
    "%run VIEWING_TABS.ipynb"
   ]
  },
  {
   "cell_type": "code",
   "execution_count": 5,
   "id": "45d99e3e-b05c-49c7-8e18-d04762b3c97c",
   "metadata": {},
   "outputs": [],
   "source": [
    "def INTRADAY_TAB_PNL():\n",
    "    return SINGLE_TAB('Pnl','Pnl')\n",
    "\n",
    "def INTRADAY_TAB_EXEC_NOMINAL():\n",
    "    return SINGLE_TAB('ExecNom','Executed Nominal')\n",
    "\n",
    "def INTRADAY_TAB_OPEN_ORDER_COUNT():\n",
    "    return SINGLE_TAB('OpenOrdCnt','Open Order Count')\n",
    "\n",
    "def INTRADAY_TAB_OPEN_ORDER_NOMINAL():\n",
    "    return SINGLE_TAB('OpenOrdNom','Open Order Nominal')\n",
    "\n",
    "def INTRADAY_TAB_HIST_ORDER_COUNT():\n",
    "    return SINGLE_TAB('HistOrdCnt','Historical Order Count')\n",
    "\n",
    "def INTRADAY_TAB_HIST_ORDER_NOMINAL():\n",
    "    return SINGLE_TAB('HistOrdNom','Historical Order Nominal')\n",
    "\n",
    "def INTRADAY_TAB_INTENSITY_ORDER_COUNT():\n",
    "    return SINGLE_TAB('IntOrdCnt','Intensity Order Count')\n",
    "\n",
    "def INTRADAY_TAB_INTENSITY_ORDER_NOMINAL():\n",
    "    return SINGLE_TAB('IntOrdNom','Intensity Order Nominal')"
   ]
  },
  {
   "cell_type": "code",
   "execution_count": null,
   "id": "66f0fa33-5394-40a3-9884-13f83a4a11ed",
   "metadata": {},
   "outputs": [],
   "source": [
    "def INTRADAY_TAB_COLLECTION():\n",
    "    return TAB_COLLECTION(\n",
    "    name='INTRADAY_ANALYSIS',\n",
    "    description='viewing tab = intraday evolution',\n",
    "    tabs=\n",
    "    [\n",
    "        INTRADAY_TAB_PNL,\n",
    "        INTRADAY_TAB_EXEC_NOMINAL,\n",
    "        INTRADAY_TAB_OPEN_ORDER_COUNT,\n",
    "        INTRADAY_TAB_OPEN_ORDER_NOMINAL,\n",
    "        INTRADAY_TAB_HIST_ORDER_COUNT,\n",
    "        INTRADAY_TAB_HIST_ORDER_NOMINAL,\n",
    "        INTRADAY_TAB_INTENSITY_ORDER_COUNT,\n",
    "        INTRADAY_TAB_INTENSITY_ORDER_NOMINAL,\n",
    "    ]"
   ]
  },
  {
   "cell_type": "code",
   "execution_count": null,
   "id": "04e48c5f-0a8d-453c-97c3-0ce04402c512",
   "metadata": {},
   "outputs": [],
   "source": [
    "INTRADAY_TAB_COLLECTION().widget"
   ]
  }
 ],
 "metadata": {
  "kernelspec": {
   "display_name": "Python 3",
   "language": "python",
   "name": "python3"
  },
  "language_info": {
   "codemirror_mode": {
    "name": "ipython",
    "version": 3
   },
   "file_extension": ".py",
   "mimetype": "text/x-python",
   "name": "python",
   "nbconvert_exporter": "python",
   "pygments_lexer": "ipython3",
   "version": "3.8.10"
  }
 },
 "nbformat": 4,
 "nbformat_minor": 5
}
