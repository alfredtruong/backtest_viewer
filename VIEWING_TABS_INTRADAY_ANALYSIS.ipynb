{
 "cells": [
  {
   "cell_type": "code",
   "execution_count": null,
   "id": "147b9b10-8446-432f-a48e-bd69ab13f74c",
   "metadata": {},
   "outputs": [],
   "source": [
    "%run VIEWING_TABS.ipynb"
   ]
  },
  {
   "cell_type": "code",
   "execution_count": null,
   "id": "45d99e3e-b05c-49c7-8e18-d04762b3c97c",
   "metadata": {},
   "outputs": [],
   "source": [
    "INTRADAY_TAB_PNL                        = SINGLE_TAB('Pnl','Pnl')\n",
    "INTRADAY_TAB_EXEC_NOMINAL               = SINGLE_TAB('ExecNom','Executed Nominal')\n",
    "INTRADAY_TAB_OPEN_ORDER_COUNT           = SINGLE_TAB('OpenOrdCnt','Open Order Count')\n",
    "INTRADAY_TAB_OPEN_ORDER_NOMINAL         = SINGLE_TAB('OpenOrdNom','Open Order Nominal')\n",
    "INTRADAY_TAB_HIST_ORDER_COUNT           = SINGLE_TAB('HistOrdCnt','Historical Order Count')\n",
    "INTRADAY_TAB_HIST_ORDER_NOMINAL         = SINGLE_TAB('HistOrdNom','Historical Order Nominal')\n",
    "INTRADAY_TAB_INTENSITY_ORDER_COUNT      = SINGLE_TAB('IntOrdCnt','Intensity Order Count')\n",
    "INTRADAY_TAB_INTENSITY_ORDER_NOMINAL    = SINGLE_TAB('IntOrdNom','Intensity Order Nominal')"
   ]
  },
  {
   "cell_type": "code",
   "execution_count": null,
   "id": "66f0fa33-5394-40a3-9884-13f83a4a11ed",
   "metadata": {},
   "outputs": [],
   "source": [
    "INTRADAY_TABS=TAB_COLLECTION(\n",
    "    name='INTRADAY_ANALYSIS',\n",
    "    description='viewing tab = intraday evolution',\n",
    "    tabs=\n",
    "    [\n",
    "        INTRADAY_TAB_PNL,\n",
    "        INTRADAY_TAB_EXEC_NOMINAL,\n",
    "        INTRADAY_TAB_OPEN_ORDER_COUNT,\n",
    "        INTRADAY_TAB_OPEN_ORDER_NOMINAL,\n",
    "        INTRADAY_TAB_HIST_ORDER_COUNT,\n",
    "        INTRADAY_TAB_HIST_ORDER_NOMINAL,\n",
    "        INTRADAY_TAB_INTENSITY_ORDER_COUNT,\n",
    "        INTRADAY_TAB_INTENSITY_ORDER_NOMINAL,\n",
    "    ]\n",
    ")\n",
    "print(INTRADAY_TABS.description)"
   ]
  },
  {
   "cell_type": "code",
   "execution_count": null,
   "id": "3324a89e-0551-41de-9e90-03503bbf8002",
   "metadata": {},
   "outputs": [],
   "source": [
    "# INTRADAY_TABS.widget"
   ]
  }
 ],
 "metadata": {
  "kernelspec": {
   "display_name": "Python 3",
   "language": "python",
   "name": "python3"
  },
  "language_info": {
   "codemirror_mode": {
    "name": "ipython",
    "version": 3
   },
   "file_extension": ".py",
   "mimetype": "text/x-python",
   "name": "python",
   "nbconvert_exporter": "python",
   "pygments_lexer": "ipython3",
   "version": "3.8.10"
  }
 },
 "nbformat": 4,
 "nbformat_minor": 5
}
