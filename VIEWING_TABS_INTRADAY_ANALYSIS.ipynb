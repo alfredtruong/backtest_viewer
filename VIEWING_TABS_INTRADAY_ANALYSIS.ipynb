{
 "cells": [
  {
   "cell_type": "markdown",
   "id": "91a5cce1-0d6b-41b3-a92b-5731bdfbaf3c",
   "metadata": {
    "extensions": {
     "jupyter_dashboards": {
      "activeView": "grid_default",
      "views": {
       "grid_default": {
        "col": null,
        "height": 2,
        "hidden": true,
        "row": null,
        "width": 2
       }
      }
     }
    },
    "tags": []
   },
   "source": [
    "### modules"
   ]
  },
  {
   "cell_type": "code",
   "execution_count": null,
   "id": "0f4a9727-6326-4aa4-b3bb-df98528f5553",
   "metadata": {
    "extensions": {
     "jupyter_dashboards": {
      "activeView": "grid_default",
      "views": {
       "grid_default": {
        "col": null,
        "height": 2,
        "hidden": true,
        "row": null,
        "width": 2
       }
      }
     }
    }
   },
   "outputs": [],
   "source": [
    "if globals().get('LOADED_LOGGER') == None:\n",
    "    %run LOGGER.ipynb"
   ]
  },
  {
   "cell_type": "code",
   "execution_count": null,
   "id": "b141ae4b-224a-43f0-bb9e-19cdf5b08a4d",
   "metadata": {
    "extensions": {
     "jupyter_dashboards": {
      "activeView": "grid_default",
      "views": {
       "grid_default": {
        "col": null,
        "height": 2,
        "hidden": true,
        "row": null,
        "width": 2
       }
      }
     }
    },
    "tags": []
   },
   "outputs": [],
   "source": [
    "if globals().get('LOADED_ANNOTATIONS') == None:\n",
    "    %run ANNOTATIONS.ipynb"
   ]
  },
  {
   "cell_type": "code",
   "execution_count": null,
   "id": "147b9b10-8446-432f-a48e-bd69ab13f74c",
   "metadata": {
    "extensions": {
     "jupyter_dashboards": {
      "activeView": "grid_default",
      "views": {
       "grid_default": {
        "col": null,
        "height": 2,
        "hidden": true,
        "row": null,
        "width": 2
       }
      }
     }
    }
   },
   "outputs": [],
   "source": [
    "if globals().get('LOADED_VIEWING_TABS') == None:\n",
    "    %run VIEWING_TABS.ipynb"
   ]
  },
  {
   "cell_type": "markdown",
   "id": "e09a5a16-751f-4c32-ace4-d9a4740cb72f",
   "metadata": {
    "extensions": {
     "jupyter_dashboards": {
      "activeView": "grid_default",
      "views": {
       "grid_default": {
        "col": null,
        "height": 2,
        "hidden": true,
        "row": null,
        "width": 2
       }
      }
     }
    },
    "tags": []
   },
   "source": [
    "### import protection"
   ]
  },
  {
   "cell_type": "code",
   "execution_count": null,
   "id": "acd843b7-50b1-4949-964d-7fc11fbe1ad9",
   "metadata": {
    "extensions": {
     "jupyter_dashboards": {
      "activeView": "grid_default",
      "views": {
       "grid_default": {
        "col": null,
        "height": 2,
        "hidden": true,
        "row": null,
        "width": 2
       }
      }
     }
    },
    "tags": []
   },
   "outputs": [],
   "source": [
    "if globals().get('LOADED_VIEWING_TABS_INTRADAY_ANALYSIS') == None:\n",
    "    logging.info('LOADED_VIEWING_TABS_INTRADAY_ANALYSIS')\n",
    "    LOADED_VIEWING_TABS_INTRADAY=True"
   ]
  },
  {
   "cell_type": "markdown",
   "id": "2a734311-6df2-43d5-9f45-1a286866359e",
   "metadata": {
    "extensions": {
     "jupyter_dashboards": {
      "activeView": "grid_default",
      "views": {
       "grid_default": {
        "col": null,
        "height": 2,
        "hidden": true,
        "row": null,
        "width": 2
       }
      }
     }
    }
   },
   "source": [
    "### begin"
   ]
  },
  {
   "cell_type": "code",
   "execution_count": null,
   "id": "45d99e3e-b05c-49c7-8e18-d04762b3c97c",
   "metadata": {
    "extensions": {
     "jupyter_dashboards": {
      "activeView": "grid_default",
      "views": {
       "grid_default": {
        "col": null,
        "height": 2,
        "hidden": true,
        "row": null,
        "width": 2
       }
      }
     }
    }
   },
   "outputs": [],
   "source": [
    "def INTRADAY_TAB_PNL() -> SINGLE_TAB :\n",
    "    return SINGLE_TAB('Pnl','Pnl',queries=['open','high','low','close','adjusted_close','volume',['open','close'],'high/low','adjusted_close/close'],view_type='Intraday')\n",
    "\n",
    "def INTRADAY_TAB_EXEC_NOMINAL() -> SINGLE_TAB :\n",
    "    return SINGLE_TAB('ExecNom','Executed Nominal')\n",
    "\n",
    "def INTRADAY_TAB_OPEN_ORDER_COUNT() -> SINGLE_TAB :\n",
    "    return SINGLE_TAB('OpenOrdCnt','Open Order Count')\n",
    "\n",
    "def INTRADAY_TAB_OPEN_ORDER_NOMINAL() -> SINGLE_TAB :\n",
    "    return SINGLE_TAB('OpenOrdNom','Open Order Nominal')\n",
    "\n",
    "def INTRADAY_TAB_HIST_ORDER_COUNT() -> SINGLE_TAB :\n",
    "    return SINGLE_TAB('HistOrdCnt','Historical Order Count')\n",
    "\n",
    "def INTRADAY_TAB_HIST_ORDER_NOMINAL() -> SINGLE_TAB :\n",
    "    return SINGLE_TAB('HistOrdNom','Historical Order Nominal')\n",
    "\n",
    "def INTRADAY_TAB_INTENSITY_ORDER_COUNT() -> SINGLE_TAB :\n",
    "    return SINGLE_TAB('IntOrdCnt','Intensity Order Count')\n",
    "\n",
    "def INTRADAY_TAB_INTENSITY_ORDER_NOMINAL() -> SINGLE_TAB :\n",
    "    return SINGLE_TAB('IntOrdNom','Intensity Order Nominal')"
   ]
  },
  {
   "cell_type": "code",
   "execution_count": null,
   "id": "66f0fa33-5394-40a3-9884-13f83a4a11ed",
   "metadata": {
    "extensions": {
     "jupyter_dashboards": {
      "activeView": "grid_default",
      "views": {
       "grid_default": {
        "col": null,
        "height": 2,
        "hidden": true,
        "row": null,
        "width": 2
       }
      }
     }
    }
   },
   "outputs": [],
   "source": [
    "def INTRADAY_TAB_COLLECTION() -> TAB_COLLECTION :\n",
    "    return TAB_COLLECTION(\n",
    "        name='INTRADAY_ANALYSIS',\n",
    "        description='viewing tab = intraday evolution',\n",
    "        tabs=\n",
    "        [\n",
    "            INTRADAY_TAB_PNL(),\n",
    "            INTRADAY_TAB_EXEC_NOMINAL(),\n",
    "            INTRADAY_TAB_OPEN_ORDER_COUNT(),\n",
    "            INTRADAY_TAB_OPEN_ORDER_NOMINAL(),\n",
    "            INTRADAY_TAB_HIST_ORDER_COUNT(),\n",
    "            INTRADAY_TAB_HIST_ORDER_NOMINAL(),\n",
    "            INTRADAY_TAB_INTENSITY_ORDER_COUNT(),\n",
    "            INTRADAY_TAB_INTENSITY_ORDER_NOMINAL(),\n",
    "        ]\n",
    "    )"
   ]
  },
  {
   "cell_type": "code",
   "execution_count": null,
   "id": "04e48c5f-0a8d-453c-97c3-0ce04402c512",
   "metadata": {
    "extensions": {
     "jupyter_dashboards": {
      "activeView": "grid_default",
      "views": {
       "grid_default": {
        "col": null,
        "height": 2,
        "hidden": true,
        "row": null,
        "width": 2
       }
      }
     }
    }
   },
   "outputs": [],
   "source": [
    "# __file__ exists if notebook called with %run\n",
    "# e.g. only do example if called directly\n",
    "try:\n",
    "    __file__\n",
    "except NameError:\n",
    "    display(INTRADAY_TAB_COLLECTION().widget)"
   ]
  }
 ],
 "metadata": {
  "extensions": {
   "jupyter_dashboards": {
    "activeView": "grid_default",
    "version": 1,
    "views": {
     "grid_default": {
      "cellMargin": 2,
      "defaultCellHeight": 60,
      "maxColumns": 12,
      "name": "grid",
      "type": "grid"
     }
    }
   }
  },
  "kernelspec": {
   "display_name": "Python 3",
   "language": "python",
   "name": "python3"
  },
  "language_info": {
   "codemirror_mode": {
    "name": "ipython",
    "version": 3
   },
   "file_extension": ".py",
   "mimetype": "text/x-python",
   "name": "python",
   "nbconvert_exporter": "python",
   "pygments_lexer": "ipython3",
   "version": "3.8.10"
  }
 },
 "nbformat": 4,
 "nbformat_minor": 5
}
