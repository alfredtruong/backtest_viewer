{
 "cells": [
  {
   "cell_type": "markdown",
   "id": "32d00e98-f142-4af5-8169-f459e5081425",
   "metadata": {},
   "source": [
    "### module import protection"
   ]
  },
  {
   "cell_type": "code",
   "execution_count": null,
   "id": "cad9cdee-fbff-48bf-a14c-31e90cd68c5c",
   "metadata": {},
   "outputs": [],
   "source": [
    "if globals().get('LOADED_VIEWING_TABS_FACTOR_ANALYSIS') == None:\n",
    "    display('LOADED_VIEWING_TABS_FACTOR_ANALYSIS')\n",
    "    LOADED_VIEWING_TABS_FACTOR=True"
   ]
  },
  {
   "cell_type": "markdown",
   "id": "7122c294-d287-4ad5-aeb2-85cd3027aa2b",
   "metadata": {},
   "source": [
    "### modules"
   ]
  },
  {
   "cell_type": "code",
   "execution_count": null,
   "id": "e74dcad5-71a9-4211-993a-2430088797d1",
   "metadata": {},
   "outputs": [],
   "source": [
    "if globals().get('LOADED_ANNOTATIONS') == None:\n",
    "    %run ANNOTATIONS.ipynb"
   ]
  },
  {
   "cell_type": "code",
   "execution_count": null,
   "id": "20065b53-fd5c-431c-86bb-59bdd2aa61b3",
   "metadata": {},
   "outputs": [],
   "source": [
    "if globals().get('VIEWING_TABS') == None:\n",
    "    %run VIEWING_TABS.ipynb"
   ]
  },
  {
   "cell_type": "markdown",
   "id": "d14c8ea7-88c2-446b-8163-18974e517a2b",
   "metadata": {},
   "source": [
    "### begin"
   ]
  },
  {
   "cell_type": "code",
   "execution_count": null,
   "id": "d8e16254-778a-4cf9-a92f-4c286a025ac2",
   "metadata": {},
   "outputs": [],
   "source": [
    "'''\n",
    "e.g. for capiweight tab\n",
    "[0,0] return vs capiweight = (avg total pnl / avg traded volume)\n",
    "[1,0] avg total pnl vs capiweight\n",
    "[0,1] avg traded volume vs capiweight\n",
    "[0,1] avg market share vs capiweight\n",
    "[0,1] avg max open risk vs capiweight\n",
    "[0,1] avg max nominal position vs capiweight\n",
    "[1,1] avg jour pnl vs capiweight\n",
    "[1,2] avg veille pnl vs capiweight\n",
    "[1,2] avg book lots vs capiweight\n",
    "[1,2] avg book nominal vs capiweight\n",
    "etc\n",
    "\n",
    "y-axis = attribute of interest\n",
    "x-axis = factor\n",
    "'''\n",
    "\n",
    "def FACTOR_TAB_CAPIWEIGHT() -> SINGLE_TAB :\n",
    "    return SINGLE_TAB('CapiWeight','CapiWeight')\n",
    "\n",
    "def FACTOR_TAB_TICKBPS() -> SINGLE_TAB :\n",
    "    return SINGLE_TAB('TickBps','TickBps')\n",
    "\n",
    "def FACTOR_TAB_SPREADBPS() -> SINGLE_TAB :\n",
    "    return SINGLE_TAB('SpreadBps','SpreadBps')\n",
    "\n",
    "def FACTOR_TAB_BOOKNOM() -> SINGLE_TAB :\n",
    "    return SINGLE_TAB('BookNom','Book Nominal')\n",
    "\n",
    "def FACTOR_TAB_STOCKVOL() -> SINGLE_TAB :\n",
    "    return SINGLE_TAB('StockVol','Stock Volatility')\n",
    "\n",
    "def FACTOR_TAB_EXECNOM() -> SINGLE_TAB :\n",
    "    return SINGLE_TAB('ExecNom','Executed Nominal')\n",
    "\n",
    "def FACTOR_TAB_MKTNOM() -> SINGLE_TAB :\n",
    "    return SINGLE_TAB('MktNom','Market Nominal')"
   ]
  },
  {
   "cell_type": "code",
   "execution_count": null,
   "id": "fb3c797f-680f-45ba-b427-126a40d350fb",
   "metadata": {},
   "outputs": [],
   "source": [
    "def FACTOR_TAB_COLLECTION() -> TAB_COLLECTION :\n",
    "    return TAB_COLLECTION(\n",
    "        name='FACTOR_ANALYSIS',\n",
    "        description='viewing tab = factor analysis',\n",
    "        tabs=\n",
    "        [\n",
    "            FACTOR_TAB_CAPIWEIGHT(),\n",
    "            FACTOR_TAB_TICKBPS(),\n",
    "            FACTOR_TAB_SPREADBPS(),\n",
    "            FACTOR_TAB_BOOKNOM(),\n",
    "            FACTOR_TAB_STOCKVOL(),\n",
    "            FACTOR_TAB_EXECNOM(),\n",
    "            FACTOR_TAB_MKTNOM(),\n",
    "        ]\n",
    "    )"
   ]
  },
  {
   "cell_type": "code",
   "execution_count": null,
   "id": "527395c7-d84a-4077-b285-4209242609e0",
   "metadata": {},
   "outputs": [],
   "source": [
    "FACTOR_TAB_COLLECTION().widget"
   ]
  }
 ],
 "metadata": {
  "kernelspec": {
   "display_name": "Python 3",
   "language": "python",
   "name": "python3"
  },
  "language_info": {
   "codemirror_mode": {
    "name": "ipython",
    "version": 3
   },
   "file_extension": ".py",
   "mimetype": "text/x-python",
   "name": "python",
   "nbconvert_exporter": "python",
   "pygments_lexer": "ipython3",
   "version": "3.8.10"
  }
 },
 "nbformat": 4,
 "nbformat_minor": 5
}
