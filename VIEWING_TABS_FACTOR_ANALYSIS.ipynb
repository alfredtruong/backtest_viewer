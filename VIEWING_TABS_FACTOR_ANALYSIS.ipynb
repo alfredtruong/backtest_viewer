{
 "cells": [
  {
   "cell_type": "code",
   "execution_count": 8,
   "id": "20065b53-fd5c-431c-86bb-59bdd2aa61b3",
   "metadata": {},
   "outputs": [],
   "source": [
    "%run VIEWING_TABS.ipynb"
   ]
  },
  {
   "cell_type": "code",
   "execution_count": 9,
   "id": "d8e16254-778a-4cf9-a92f-4c286a025ac2",
   "metadata": {},
   "outputs": [],
   "source": [
    "'''\n",
    "e.g. for capiweight tab\n",
    "[0,0] return vs capiweight = (avg total pnl / avg traded volume)\n",
    "[1,0] avg total pnl vs capiweight\n",
    "[0,1] avg traded volume vs capiweight\n",
    "[0,1] avg market share vs capiweight\n",
    "[0,1] avg max open risk vs capiweight\n",
    "[0,1] avg max nominal position vs capiweight\n",
    "[1,1] avg jour pnl vs capiweight\n",
    "[1,2] avg veille pnl vs capiweight\n",
    "[1,2] avg book lots vs capiweight\n",
    "[1,2] avg book nominal vs capiweight\n",
    "etc\n",
    "\n",
    "y-axis = attribute of interest\n",
    "x-axis = factor\n",
    "'''\n",
    "\n",
    "FACTOR_TAB_CAPIWEIGHT                    = SINGLE_TAB('CapiWeight','CapiWeight')\n",
    "FACTOR_TAB_TICKBPS                       = SINGLE_TAB('TickBps','TickBps')\n",
    "FACTOR_TAB_SPREADBPS                     = SINGLE_TAB('SpreadBps','SpreadBps')\n",
    "FACTOR_TAB_BOOKNOM                       = SINGLE_TAB('BookNom','Book Nominal')\n",
    "FACTOR_TAB_STOCKVOL                      = SINGLE_TAB('StockVol','Stock Volatility')\n",
    "FACTOR_TAB_EXECNOM                       = SINGLE_TAB('ExecNom','Executed Nominal')\n",
    "FACTOR_TAB_MKTNOM                        = SINGLE_TAB('MktNom','Market Nominal')"
   ]
  },
  {
   "cell_type": "code",
   "execution_count": 10,
   "id": "fb3c797f-680f-45ba-b427-126a40d350fb",
   "metadata": {},
   "outputs": [
    {
     "name": "stdout",
     "output_type": "stream",
     "text": [
      "viewing tab = factor analysis\n"
     ]
    }
   ],
   "source": [
    "FACTOR_TABS=TAB_COLLECTION(\n",
    "    description='viewing tab = factor analysis',\n",
    "    name='FACTOR_ANALYSIS',\n",
    "    tabs=\n",
    "    [\n",
    "        FACTOR_TAB_CAPIWEIGHT,\n",
    "        FACTOR_TAB_TICKBPS,\n",
    "        FACTOR_TAB_SPREADBPS,\n",
    "        FACTOR_TAB_BOOKNOM,\n",
    "        FACTOR_TAB_STOCKVOL,\n",
    "        FACTOR_TAB_EXECNOM,\n",
    "        FACTOR_TAB_MKTNOM,\n",
    "    ]\n",
    ")\n",
    "print(FACTOR_TABS.description)"
   ]
  },
  {
   "cell_type": "code",
   "execution_count": 11,
   "id": "527395c7-d84a-4077-b285-4209242609e0",
   "metadata": {},
   "outputs": [],
   "source": [
    "# FACTOR_TABS.widget"
   ]
  }
 ],
 "metadata": {
  "kernelspec": {
   "display_name": "Python 3",
   "language": "python",
   "name": "python3"
  },
  "language_info": {
   "codemirror_mode": {
    "name": "ipython",
    "version": 3
   },
   "file_extension": ".py",
   "mimetype": "text/x-python",
   "name": "python",
   "nbconvert_exporter": "python",
   "pygments_lexer": "ipython3",
   "version": "3.8.10"
  }
 },
 "nbformat": 4,
 "nbformat_minor": 5
}
