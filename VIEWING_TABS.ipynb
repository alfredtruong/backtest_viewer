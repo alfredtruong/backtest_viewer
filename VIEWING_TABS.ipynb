{
 "cells": [
  {
   "cell_type": "code",
   "execution_count": null,
   "id": "8baea180-350d-4f54-8ccd-8f3940b60bd1",
   "metadata": {},
   "outputs": [],
   "source": [
    "%run ANNOTATIONS.ipynb"
   ]
  },
  {
   "cell_type": "code",
   "execution_count": null,
   "id": "1f0504c8-ce74-4ce7-9cec-9c68325b339e",
   "metadata": {},
   "outputs": [],
   "source": [
    "%run PATTERN_OBSERVER.ipynb"
   ]
  },
  {
   "cell_type": "code",
   "execution_count": null,
   "id": "a070d3e5-13f0-4901-b16f-bb0d2bc62cec",
   "metadata": {},
   "outputs": [],
   "source": [
    "from ipywidgets import Text,Output,GridspecLayout # for SINGLE_TAB\n",
    "from ipywidgets import Tab,Layout # for TAB_COLLECTION"
   ]
  },
  {
   "cell_type": "code",
   "execution_count": null,
   "id": "e4c83706-c237-4b9d-805f-5af053abe5da",
   "metadata": {},
   "outputs": [],
   "source": [
    "import pickle\n",
    "a_file = open(\"data.pkl\", \"rb\")\n",
    "output = pickle.load(a_file)"
   ]
  },
  {
   "cell_type": "code",
   "execution_count": null,
   "id": "48bc0e20-580e-4511-a046-6c47cc7c199f",
   "metadata": {},
   "outputs": [],
   "source": [
    "print(len(output))\n",
    "print(list(output.keys()))"
   ]
  },
  {
   "cell_type": "code",
   "execution_count": null,
   "id": "8037b3e8-c28a-4a73-ac4e-b98e468d14b9",
   "metadata": {},
   "outputs": [],
   "source": [
    "import pandas as pd"
   ]
  },
  {
   "cell_type": "code",
   "execution_count": null,
   "id": "5933528c-740a-4007-8de5-7990ffd4c0da",
   "metadata": {},
   "outputs": [],
   "source": [
    "output['AZUL4.SA']"
   ]
  },
  {
   "cell_type": "code",
   "execution_count": null,
   "id": "7df03949-ed49-4100-ae5c-fc8f0100e5b3",
   "metadata": {},
   "outputs": [],
   "source": [
    "def set_index_extraday(df):\n",
    "    return df.set_index('timestamp')"
   ]
  },
  {
   "cell_type": "code",
   "execution_count": null,
   "id": "ce28874e-9a63-48ff-920e-e5481a9862eb",
   "metadata": {},
   "outputs": [],
   "source": [
    "xxx=pd.concat(map(set_index_extraday,output.values()),keys=list(output.keys()))\n",
    "xxx"
   ]
  },
  {
   "cell_type": "code",
   "execution_count": null,
   "id": "10e011ad-2fa0-4fa8-aa0c-c4739d7e84a6",
   "metadata": {},
   "outputs": [],
   "source": [
    "pd.concat([output['AZUL4.SA'].set_index(['timestamp','split_coefficient'])],keys='ab')"
   ]
  },
  {
   "cell_type": "code",
   "execution_count": null,
   "id": "b0043f0e-1665-428f-8ac7-f2aa5f657f65",
   "metadata": {},
   "outputs": [],
   "source": [
    "multi_index=pd.MultiIndex.from_product([['AZUL4.SA'],output['AZUL4.SA'].timestamp], names=['backtest_name','timestamp'])\n",
    "out2=output['AZUL4.SA'].set_index(multi_index)\n",
    "out2"
   ]
  },
  {
   "cell_type": "code",
   "execution_count": null,
   "id": "13cbc8f9-9c97-42a5-b1e4-c92e95641560",
   "metadata": {},
   "outputs": [],
   "source": [
    "out2.loc['AZUL4.SA']"
   ]
  },
  {
   "cell_type": "code",
   "execution_count": null,
   "id": "906bff4f-0c5c-4d0a-8b73-ec0a7b0bae73",
   "metadata": {},
   "outputs": [],
   "source": [
    "'''\n",
    "doesnt contain data\n",
    "only explains how to generate a plot off a pd.DataFrame\n",
    "'''\n",
    "class SINGLE_PLOT:\n",
    "    def __init__(self,\n",
    "        name        : str              = 'SINGLE_PLOT',\n",
    "        description : str              = 'SINGLE_PLOT_DESCRIPTION',\n",
    "        query      = None,\n",
    "        ):\n",
    "        self.name=name\n",
    "        self._query=query\n",
    "        self._times_drawn=0\n",
    "\n",
    "        # build widget\n",
    "        #self.widget=Output(layout=Layout(height='300px',width='10.5%'))\n",
    "        self.widget=Output()\n",
    "        self._draw()\n",
    "    \n",
    "    # draw\n",
    "    def _draw(self,data='init') -> None :\n",
    "        with self.widget:\n",
    "            # plot stuff here using self._query\n",
    "            out=Text(self.name+'-'+str(data)+'-'+str(self._times_drawn))\n",
    "            display(out)\n",
    "            \n",
    "    # clear and draw with given data\n",
    "    def update_plot(self,data) -> None :\n",
    "        self._times_drawn+=1 # increment counter\n",
    "        self.widget.clear_output() # clear image\n",
    "        self._draw(data)\n",
    "        #print(self.name,'update_plot',self._times_drawn)\n",
    "        \n",
    "# example\n",
    "SINGLE_PLOT('plotname').widget"
   ]
  },
  {
   "cell_type": "code",
   "execution_count": null,
   "id": "9e8cb8dc-cd18-43c5-bf60-5fafb57ed008",
   "metadata": {},
   "outputs": [],
   "source": [
    "'''\n",
    "\n",
    "a=SINGLE_PLOT()\n",
    "\n",
    "display(a.widget)\n",
    "\n",
    "a.update_plot('abc')\n",
    "\n",
    "a.update_plot('fdsa')\n",
    "\n",
    "'''\n",
    "None"
   ]
  },
  {
   "cell_type": "code",
   "execution_count": null,
   "id": "62469cbd-dd1a-4653-9a24-1c36e6156d20",
   "metadata": {},
   "outputs": [],
   "source": [
    "'''\n",
    "doesnt contain data\n",
    "only explains how to plots within it generate plots off a pd.DataFrame\n",
    "'''\n",
    "class SINGLE_TAB:\n",
    "    def __init__(self,\n",
    "        name        : str              = 'SINGLE_TAB',\n",
    "        description : str              = 'SINGLE_TAB_DESCRIPTION',\n",
    "        cols        : int              = 3,\n",
    "        rows        : int              = 3,\n",
    "        plots       : LOCATIONED_PLOTS = None,\n",
    "        ):\n",
    "        self.name         = name\n",
    "        self.description  = description\n",
    "        self._cols        = cols\n",
    "        self._rows        = rows\n",
    "        self._plots       = plots if not plots==None else self._populate_defaults_plots() # populate default\n",
    "        self._times_drawn = 0\n",
    "        self.widget       = self._make()\n",
    "        \n",
    "    ####################################\n",
    "    # populate defaults\n",
    "    ####################################\n",
    "    def _populate_defaults_plots(self):\n",
    "        out={}\n",
    "        for r in range(self._rows):\n",
    "            for c in range(self._cols):\n",
    "                out[(r,c)]=SINGLE_PLOT(name=self.name+'['+str(r)+str(c)+']')\n",
    "        return out\n",
    "\n",
    "    def _make(self) -> GridspecLayout :\n",
    "        # instantiate\n",
    "        gridspec=GridspecLayout(n_rows=self._rows,n_columns=self._cols)\n",
    "        \n",
    "        # populate gridspec\n",
    "        for r in range(self._rows):\n",
    "            for c in range(self._cols):\n",
    "                gridspec[r,c]=self._plots[(r,c)].widget\n",
    "        \n",
    "        # return\n",
    "        return gridspec\n",
    "    \n",
    "    # clear and draw with given data\n",
    "    def update_tab(self,data) -> None :\n",
    "        self._times_drawn+=1\n",
    "        for x in self._plots.values(): x.update_plot(data)\n",
    "        #print(self.name,'update_tab',self._times_drawn)\n",
    "\n",
    "# example\n",
    "SINGLE_TAB('tabname').widget"
   ]
  },
  {
   "cell_type": "code",
   "execution_count": null,
   "id": "66385e85-04f7-42cb-84e8-0108c9eb7909",
   "metadata": {},
   "outputs": [],
   "source": [
    "'''\n",
    "\n",
    "b=SINGLE_TAB()\n",
    "\n",
    "b.widget\n",
    "\n",
    "b.update_tab('asdf')\n",
    "\n",
    "b.update_tab('alfred')\n",
    "\n",
    "'''\n",
    "None"
   ]
  },
  {
   "cell_type": "code",
   "execution_count": null,
   "id": "0819f5c4-0706-41ac-a964-0b9460028757",
   "metadata": {},
   "outputs": [],
   "source": [
    "'''\n",
    "doesnt contain data\n",
    "only explains how to tabs within it generate plots off a pd.DataFrame\n",
    "'''\n",
    "class TAB_COLLECTION(IObserver,ISubject):\n",
    "    def __init__(self,\n",
    "        name        : str          = 'TAB_COLLECTION',\n",
    "        description : str          = 'TAB_COLLECTION_DESCRIPTION',\n",
    "        tabs        : TABS         = None,\n",
    "        ):\n",
    "        self.name=name\n",
    "        self.description=description\n",
    "        \n",
    "        self._tabs=tabs if tabs!=None else self._populate_defaults_tabs() # contents of tab collection\n",
    "        self._is_up_to_date=[True]*len(self._tabs) # nothing selected by default, all tabs up to date by default\n",
    "        \n",
    "        self.widget=self._make()\n",
    "\n",
    "    ####################################\n",
    "    # populate defaults\n",
    "    ####################################\n",
    "    def _populate_defaults_tabs(self):\n",
    "        return [\n",
    "            SINGLE_TAB('tab1'),\n",
    "            SINGLE_TAB('tab2'),\n",
    "            SINGLE_TAB('tab3'),\n",
    "            SINGLE_TAB('tab4'),\n",
    "        ]\n",
    "    \n",
    "    ####################################\n",
    "    # observer pattern\n",
    "    ####################################\n",
    "    # subject\n",
    "    def attach(self,observer : IObserver) -> None :\n",
    "        print('OBSERVER PATTERN',':',observer.name,'OBSERVES',self.name)\n",
    "        self._observers.add(observer)\n",
    "        \n",
    "    def detach(self,observer : IObserver) -> None :\n",
    "        print('OBSERVER PATTERN',':',observer.name,'STOPS OBSERVING',self.name)\n",
    "        self._observers.remove(observer)\n",
    "        \n",
    "    def notify(self,info) -> None :\n",
    "        print('OBSERVER PATTERN',':',self.name,'NOTIFIES',len(self._observers),'OBSERVERS')\n",
    "        \n",
    "        # print receivers\n",
    "        for observer in self._observers:\n",
    "            print('OBSERVER PATTERN',':',self.name,'NOTIFIES',observer.name)\n",
    "            observer.react(self.name,info)\n",
    "            \n",
    "    # observer\n",
    "    def react(self,\n",
    "        subject_name : str,\n",
    "        subject_info : object\n",
    "        ) -> None :\n",
    "        print('OBSERVER PATTERN',':',self.name,'REACTS','subject_name',subject_name)\n",
    "        print('OBSERVER PATTERN',':',self.name,'REACTS','subject_info',subject_info)\n",
    "        \n",
    "        if subject_name=='DATA_CONTAINER':\n",
    "            self.update(subject_info['data'])\n",
    "\n",
    "    ####################################\n",
    "    # buttons\n",
    "    ####################################\n",
    "    '''change active tab, update as needed'''\n",
    "    def _onchange_tab(self,change) -> None :\n",
    "        print(self.name,':','CLICK','NAME[',self._active_tab.name,'] INDEX[',self._active_tab_index,']')\n",
    "\n",
    "        # handle delayed update\n",
    "        if not self._is_up_to_date[self._active_tab_index]:\n",
    "            print(self.name,':','UPDATE[DELAYED]','NAME[',self._active_tab.name,'] INDEX[',self._active_tab_index,']')\n",
    "            self._active_tab.update_tab(self._data) # update this tab\n",
    "            self._is_up_to_date[self._active_tab_index]=True # flag tab as up to date\n",
    "            \n",
    "        # logging\n",
    "        self._logging()\n",
    "        \n",
    "    ####################################\n",
    "    # GUI\n",
    "    ####################################\n",
    "    '''build tab collection'''\n",
    "    def _make(self) -> None :\n",
    "        # make tab collection\n",
    "        out=Tab(\n",
    "            children=[x.widget for x in self._tabs],\n",
    "            layout=Layout(width='100%',height='auto',min_height='500px')\n",
    "        )\n",
    "\n",
    "        # name tabs\n",
    "        for i,tab_name in enumerate(x.name for x in self._tabs):\n",
    "            out.set_title(index=i,title=tab_name)\n",
    "            \n",
    "        # observe active tab\n",
    "        out.observe(self._onchange_tab,names='selected_index')\n",
    "\n",
    "        # return\n",
    "        return out\n",
    "\n",
    "    '''delayed update of tab collection, update active tab immediate, delay update of non-active tabs till when they are viewed'''\n",
    "    def delayed_full_update(self,data : pd.DataFrame) -> None:\n",
    "        # only update active tab, delay update of inactive tabs till they become active\n",
    "        for i,tab in enumerate(self._tabs):\n",
    "            if self._active_tab_index==i:\n",
    "                print(self.name,':','UPDATE[INSTANT]','NAME[',self._active_tab.name,'] INDEX[',self._active_tab_index,']')\n",
    "                tab.update_tab(data) # update this particular tab\n",
    "                self._is_up_to_date[i]=True # flag is up to do date\n",
    "            else:\n",
    "                self._is_up_to_date[i]=False # flag these tabs as out of date, update when viewed\n",
    "            \n",
    "        # logging\n",
    "        self._logging()\n",
    "    \n",
    "    @property\n",
    "    def _active_tab_index(self) -> int :\n",
    "        return self.widget.selected_index\n",
    "    \n",
    "    @property\n",
    "    def _active_tab(self) -> str :\n",
    "        return self._tabs[self._active_tab_index]\n",
    "    \n",
    "    @property\n",
    "    def _times_drawn(self) -> List[int]:\n",
    "        return [x._times_drawn for x in self._tabs]\n",
    "    \n",
    "    def _logging(self) -> None:\n",
    "        # delayed updating\n",
    "        print(self.name,':','compute times',self._times_drawn)\n",
    "        print(self.name,':','is up to date',self._is_up_to_date)\n",
    "\n",
    "# example\n",
    "TAB_COLLECTION().widget"
   ]
  },
  {
   "cell_type": "code",
   "execution_count": null,
   "id": "4400d769-6729-44b4-8c95-f18d93846e74",
   "metadata": {},
   "outputs": [],
   "source": [
    "# example\n",
    "a=TAB_COLLECTION(tabs=\n",
    "    [\n",
    "        SINGLE_TAB('a'),\n",
    "        SINGLE_TAB('b'),\n",
    "        SINGLE_TAB('c'),\n",
    "        SINGLE_TAB('d'),\n",
    "    ]\n",
    ")\n",
    "a.widget"
   ]
  },
  {
   "cell_type": "code",
   "execution_count": null,
   "id": "257c6e0a-290b-4dcf-970c-2ef1e06f0447",
   "metadata": {},
   "outputs": [],
   "source": [
    "# global delayed update\n",
    "a.delayed_full_update('abc')"
   ]
  },
  {
   "cell_type": "code",
   "execution_count": null,
   "id": "208daa56-f493-4a85-82d8-6d3b81b9f453",
   "metadata": {},
   "outputs": [],
   "source": [
    "# request immediate update of specific tab\n",
    "a._tabs[0].update_tab('asdf')"
   ]
  },
  {
   "cell_type": "code",
   "execution_count": null,
   "id": "4b3ed757-2311-4f11-8967-74cc89898d92",
   "metadata": {},
   "outputs": [],
   "source": [
    "a._tabs[0].update_tab('1')"
   ]
  },
  {
   "cell_type": "code",
   "execution_count": null,
   "id": "bedeacbe-1cf5-468e-b75c-b380d99ef35b",
   "metadata": {},
   "outputs": [],
   "source": [
    "a._tabs[2].update_tab('2')"
   ]
  },
  {
   "cell_type": "code",
   "execution_count": null,
   "id": "c29c4349-dae1-4470-b1c3-b7795d85607d",
   "metadata": {},
   "outputs": [],
   "source": [
    "a._tabs[2].update_tab('3')"
   ]
  },
  {
   "cell_type": "code",
   "execution_count": null,
   "id": "64df7abb-4560-437d-b417-cc4837026376",
   "metadata": {},
   "outputs": [],
   "source": [
    "a._tabs[3].update_tab('4')"
   ]
  },
  {
   "cell_type": "code",
   "execution_count": null,
   "id": "498b12c8-bc48-4e87-aa39-312364fb9d9c",
   "metadata": {},
   "outputs": [],
   "source": [
    "a._times_drawn"
   ]
  }
 ],
 "metadata": {
  "kernelspec": {
   "display_name": "Python 3",
   "language": "python",
   "name": "python3"
  },
  "language_info": {
   "codemirror_mode": {
    "name": "ipython",
    "version": 3
   },
   "file_extension": ".py",
   "mimetype": "text/x-python",
   "name": "python",
   "nbconvert_exporter": "python",
   "pygments_lexer": "ipython3",
   "version": "3.8.10"
  }
 },
 "nbformat": 4,
 "nbformat_minor": 5
}
