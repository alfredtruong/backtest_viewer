{
 "cells": [
  {
   "cell_type": "code",
   "execution_count": 1,
   "id": "1f0504c8-ce74-4ce7-9cec-9c68325b339e",
   "metadata": {},
   "outputs": [],
   "source": [
    "%run PATTERN_OBSERVER.ipynb"
   ]
  },
  {
   "cell_type": "code",
   "execution_count": 2,
   "id": "a070d3e5-13f0-4901-b16f-bb0d2bc62cec",
   "metadata": {},
   "outputs": [],
   "source": [
    "from ipywidgets import Text,Output,GridspecLayout # for SINGLE_TAB\n",
    "from ipywidgets import Tab,Layout # for TAB_COLLECTION"
   ]
  },
  {
   "cell_type": "code",
   "execution_count": 3,
   "id": "72077d93-dc26-46cb-8838-89c039d7ab25",
   "metadata": {},
   "outputs": [
    {
     "data": {
      "application/vnd.jupyter.widget-view+json": {
       "model_id": "62ef2a75a2f54ab88859ab9055cc34df",
       "version_major": 2,
       "version_minor": 0
      },
      "text/plain": [
       "GridspecLayout(children=(Output(layout=Layout(grid_area='widget001')), Output(layout=Layout(grid_area='widget0…"
      ]
     },
     "metadata": {},
     "output_type": "display_data"
    }
   ],
   "source": [
    "class SINGLE_TAB:\n",
    "    def __init__(self,\n",
    "        name='SINGLE_TAB',\n",
    "        description='SINGLE_TAB_DESCRIPTION',\n",
    "        cols=3,\n",
    "        rows=4,\n",
    "        ):\n",
    "        self._cols=cols\n",
    "        self._rows=rows\n",
    "        self._times_computed=0\n",
    "        \n",
    "        self.name=name\n",
    "        self.description=description\n",
    "        self.widget=GridspecLayout(n_rows=self._rows,n_columns=self._cols)\n",
    "        \n",
    "        # instantiate\n",
    "        for r in range(self._rows):\n",
    "            for c in range(self._cols):\n",
    "                self.widget[r,c]=Output()\n",
    "\n",
    "        # draw/redraw all plots in grid\n",
    "        self.update()\n",
    "\n",
    "    '''update all plots in grid'''\n",
    "    def update(self):\n",
    "        self._times_computed+=1\n",
    "        \n",
    "        for r in range(self._rows):\n",
    "            for c in range(self._cols):\n",
    "                self.widget[r,c].clear_output()\n",
    "                with self.widget[r,c]:\n",
    "                    display(Text('row'+str(r)+' vs '+'col'+str(c)+' = '+str(self._times_computed)))\n",
    "                \n",
    "SINGLE_TAB().widget"
   ]
  },
  {
   "cell_type": "code",
   "execution_count": 4,
   "id": "9d8202c2-bcb5-4812-9156-7585339614ee",
   "metadata": {},
   "outputs": [],
   "source": [
    "'''\n",
    "# example\n",
    "a=SINGLE_TAB()\n",
    "a.widget\n",
    "a.update()\n",
    "'''\n",
    "None"
   ]
  },
  {
   "cell_type": "code",
   "execution_count": 5,
   "id": "0819f5c4-0706-41ac-a964-0b9460028757",
   "metadata": {},
   "outputs": [
    {
     "data": {
      "application/vnd.jupyter.widget-view+json": {
       "model_id": "23b0cfcd52bb45d0a05eb02322dde8b2",
       "version_major": 2,
       "version_minor": 0
      },
      "text/plain": [
       "Tab(children=(GridspecLayout(children=(Output(layout=Layout(grid_area='widget001')), Output(layout=Layout(grid…"
      ]
     },
     "metadata": {},
     "output_type": "display_data"
    }
   ],
   "source": [
    "class TAB_COLLECTION(IObserver):\n",
    "    def __init__(self,\n",
    "        name='TAB_COLLECTION',\n",
    "        description='TAB_COLLECTION_DESCRIPTION',\n",
    "        tabs=\n",
    "        [\n",
    "            SINGLE_TAB('tab1'),\n",
    "            SINGLE_TAB('tab2'),\n",
    "            SINGLE_TAB('tab3'),\n",
    "            SINGLE_TAB('tab4'),\n",
    "        ],\n",
    "        ):\n",
    "        self.tabs=tabs # contents of tab collection\n",
    "        self.active_tab=0 # root tab selected by default\n",
    "        self._is_up_to_date=[True]*len(self.tabs) # nothing selected by default, all tabs up to date by default\n",
    "        \n",
    "        self.name=name\n",
    "        self.description=description\n",
    "        self.widget=self._make()\n",
    "        \n",
    "    ####################################\n",
    "    # observer pattern\n",
    "    ####################################\n",
    "    # observer\n",
    "    def react(self,subject_name,subject_info):\n",
    "        print('OBSERVER PATTERN',':',self.name,'REACTS','subject_name',subject_name)\n",
    "        print('OBSERVER PATTERN',':',self.name,'REACTS','subject_info',subject_info)\n",
    "        \n",
    "        if subject_name=='DATA_CONTAINER':\n",
    "            print(1)\n",
    "            #self._refresh_options(subject_info['all_backtests'])\n",
    "\n",
    "    ####################################\n",
    "    # own stuff\n",
    "    ####################################\n",
    "    '''change active tab, update as required'''\n",
    "    def _onchange_tab(self,change):\n",
    "        print(self.name,':','SELECTED_INDEX',change.new)\n",
    "        self.active_tab=change.new # change active tab\n",
    "        \n",
    "        # handle delayed update\n",
    "        if not self._is_up_to_date[self.active_tab]:\n",
    "            print(self.name,':','UPDATE','TAB',self.active_tab)\n",
    "            self.tabs[self.active_tab].update() # update this particular tab\n",
    "            self._is_up_to_date[self.active_tab]=True # flag is up to do date\n",
    "            \n",
    "        # logging\n",
    "        self._logging_delayed_updating()\n",
    "        \n",
    "    '''build tab collection'''\n",
    "    def _make(self):\n",
    "        # make tab collection\n",
    "        out=Tab(\n",
    "            children=[x.widget for x in self.tabs],\n",
    "            layout=Layout(width='100%',height='auto',min_height='500px')\n",
    "        )\n",
    "\n",
    "        # name tabs\n",
    "        for i,tab_name in enumerate([x.name for x in self.tabs]):\n",
    "            out.set_title(index=i,title=tab_name)\n",
    "            \n",
    "        # observe active tab\n",
    "        out.observe(self._onchange_tab,names='selected_index')\n",
    "\n",
    "        # set default\n",
    "        #out.selected_index=2\n",
    "        #out.selected_index=3\n",
    "\n",
    "        # return it\n",
    "        return out\n",
    "\n",
    "    def _logging(self):\n",
    "        # delayed updating\n",
    "        print(self.name,':','TIMES_COMPUTED',self._times_computed)\n",
    "        print(self.name,':','IS_UP_TO_DATE',self._is_up_to_date)\n",
    "\n",
    "    '''delayed update of tab collection, update active tab immediate, delay update of non-active tabs till when they are viewed'''\n",
    "    def update(self):\n",
    "        # delayed update\n",
    "        for i,x in enumerate(self.tabs):\n",
    "            if self.active_tab==i:\n",
    "                print(self.name,':','UPDATE','TAB',self.active_tab)\n",
    "                x.update() # update this particular tab\n",
    "                self._is_up_to_date[i]=True # flag is up to do date\n",
    "                \n",
    "            else:\n",
    "                self._is_up_to_date[i]=False # flag these tabs as out of date, update when viewed\n",
    "            \n",
    "        # logging\n",
    "        self._logging()\n",
    "        \n",
    "    @property\n",
    "    def _times_computed(self):\n",
    "        return [x._times_computed for x in self.tabs]\n",
    "\n",
    "# example\n",
    "TAB_COLLECTION().widget"
   ]
  },
  {
   "cell_type": "code",
   "execution_count": 6,
   "id": "00da46aa-6483-4547-a169-825492471c9d",
   "metadata": {},
   "outputs": [],
   "source": [
    "'''\n",
    "# example\n",
    "a=TAB_COLLECTION(tabs=\n",
    "    [\n",
    "        SINGLE_TAB('a'),\n",
    "        SINGLE_TAB('b'),\n",
    "        SINGLE_TAB('c'),\n",
    "        SINGLE_TAB('d'),\n",
    "    ]\n",
    ")\n",
    "a.widget\n",
    "\n",
    "# global delayed update\n",
    "a.update()\n",
    "\n",
    "# request immediate update of specific tab\n",
    "a.tabs[0].update()\n",
    "a.tabs[0].update()\n",
    "a.tabs[2].update()\n",
    "a.tabs[2].update()\n",
    "a.tabs[3].update()\n",
    "'''\n",
    "None"
   ]
  }
 ],
 "metadata": {
  "kernelspec": {
   "display_name": "Python 3",
   "language": "python",
   "name": "python3"
  },
  "language_info": {
   "codemirror_mode": {
    "name": "ipython",
    "version": 3
   },
   "file_extension": ".py",
   "mimetype": "text/x-python",
   "name": "python",
   "nbconvert_exporter": "python",
   "pygments_lexer": "ipython3",
   "version": "3.8.10"
  }
 },
 "nbformat": 4,
 "nbformat_minor": 5
}
