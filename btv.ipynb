{
 "cells": [
  {
   "cell_type": "code",
   "execution_count": null,
   "id": "0d6cb989-60bf-4398-bf2b-664ec678817b",
   "metadata": {},
   "outputs": [],
   "source": [
    "%run LOGGER.ipynb"
   ]
  },
  {
   "cell_type": "code",
   "execution_count": null,
   "id": "0dc2e5a6-7da3-4d49-acf2-20034e875b6d",
   "metadata": {},
   "outputs": [],
   "source": [
    "%run BACKTEST_VIEWER.ipynb"
   ]
  },
  {
   "cell_type": "code",
   "execution_count": null,
   "id": "cb66d38d-1e35-4077-8446-d81c8a31b1ef",
   "metadata": {},
   "outputs": [],
   "source": [
    "# run without any dirty output\n",
    "BACKTEST_VIEWER().widget"
   ]
  }
 ],
 "metadata": {
  "kernelspec": {
   "display_name": "Python 3",
   "language": "python",
   "name": "python3"
  },
  "language_info": {
   "codemirror_mode": {
    "name": "ipython",
    "version": 3
   },
   "file_extension": ".py",
   "mimetype": "text/x-python",
   "name": "python",
   "nbconvert_exporter": "python",
   "pygments_lexer": "ipython3",
   "version": "3.8.10"
  }
 },
 "nbformat": 4,
 "nbformat_minor": 5
}
