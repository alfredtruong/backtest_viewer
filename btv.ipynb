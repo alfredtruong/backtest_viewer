{
 "cells": [
  {
   "cell_type": "code",
   "execution_count": null,
   "id": "f08ad411-9b1f-4704-ba19-5aaf57c0e769",
   "metadata": {},
   "outputs": [],
   "source": [
    "'''\n",
    "####################################################################################################\n",
    "PROJECT LAYOUT\n",
    "####################################################################################################\n",
    "LOGGER.ipynb                             # logger spec\n",
    "\n",
    "-ANNOTATIONS.ipynb                       # project wide types\n",
    "-PATTERN_OBSERVER.ipynb                  # design pattern used by later components\n",
    "\n",
    "--SETTINGS.ipynb                         # gathers main control widgets\n",
    "--CHECKBOXES.ipynb                       # generic checkbox class\n",
    "--DATA_CONTAINER.ipynb                   # data handler\n",
    "\n",
    "--[DATAFRAME.ipynb]                      # for dev\n",
    "\n",
    "--VIEWING_TABS.ipynb                     # plot handler\n",
    "\n",
    "---VIEWING_TABS_EXTRADAY_ANALYSIS.ipynb  # specs for extraday analysis tabs\n",
    "---VIEWING_TABS_INTRADAY_ANALYSIS.ipynb  # specs for intraday analysis tabs\n",
    "---VIEWING_TABS_FACTOR_ANALYSIS.ipynb    # specs for factor analysis tabs\n",
    "\n",
    "----BACKTEST_VIEWER.ipynb                # orchestrator\n",
    "\n",
    "----btv.ipynb                            # clean version of orchestrator\n",
    "\n",
    "####################################################################################################\n",
    "PROJECT USAGE\n",
    "####################################################################################################\n",
    "run command from Anaconda prompt:\n",
    "`voila btv.ipynb`\n",
    "'''\n",
    "None"
   ]
  },
  {
   "cell_type": "code",
   "execution_count": null,
   "id": "0d6cb989-60bf-4398-bf2b-664ec678817b",
   "metadata": {},
   "outputs": [],
   "source": [
    "%run LOGGER.ipynb"
   ]
  },
  {
   "cell_type": "code",
   "execution_count": null,
   "id": "0dc2e5a6-7da3-4d49-acf2-20034e875b6d",
   "metadata": {},
   "outputs": [],
   "source": [
    "%run BACKTEST_VIEWER.ipynb"
   ]
  },
  {
   "cell_type": "code",
   "execution_count": null,
   "id": "cb66d38d-1e35-4077-8446-d81c8a31b1ef",
   "metadata": {},
   "outputs": [],
   "source": [
    "# run without any dirty output\n",
    "BACKTEST_VIEWER().widget"
   ]
  }
 ],
 "metadata": {
  "kernelspec": {
   "display_name": "Python 3",
   "language": "python",
   "name": "python3"
  },
  "language_info": {
   "codemirror_mode": {
    "name": "ipython",
    "version": 3
   },
   "file_extension": ".py",
   "mimetype": "text/x-python",
   "name": "python",
   "nbconvert_exporter": "python",
   "pygments_lexer": "ipython3",
   "version": "3.8.10"
  }
 },
 "nbformat": 4,
 "nbformat_minor": 5
}
