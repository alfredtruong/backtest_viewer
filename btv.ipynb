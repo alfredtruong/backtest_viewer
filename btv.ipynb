{
 "cells": [
  {
   "cell_type": "code",
   "execution_count": null,
   "id": "4dbc3f45-8974-4eaf-8e17-4ec847b667a6",
   "metadata": {},
   "outputs": [],
   "source": [
    "if globals().get('LOGGING_LEVEL') == None:\n",
    "    LOGGING_LEVEL = 0 # no logging\n",
    "    # LOGGING_LEVEL = 1 # function entry logging\n",
    "    # LOGGING_LEVEL = 2 # detailed logging"
   ]
  },
  {
   "cell_type": "code",
   "execution_count": null,
   "id": "6dd17cc0-b59a-424f-9be8-aa29fa3505f6",
   "metadata": {},
   "outputs": [],
   "source": [
    "%run BACKTEST_VIEWER.ipynb"
   ]
  },
  {
   "cell_type": "code",
   "execution_count": null,
   "id": "d8bef741-0721-4faa-a40f-8cc242798179",
   "metadata": {},
   "outputs": [],
   "source": [
    "# run without any dirty output\n",
    "BACKTEST_VIEWER().widget"
   ]
  },
  {
   "cell_type": "code",
   "execution_count": null,
   "id": "86de853e-7a50-4ba1-88d2-32ee6eb08288",
   "metadata": {},
   "outputs": [],
   "source": [
    "import ipywidgets as widgets"
   ]
  },
  {
   "cell_type": "code",
   "execution_count": null,
   "id": "e6973845-b94a-453b-b339-060945245a27",
   "metadata": {},
   "outputs": [],
   "source": [
    "debug_view = widgets.Output()"
   ]
  },
  {
   "cell_type": "code",
   "execution_count": null,
   "id": "c9f359f6-e315-4905-b50e-29b91c819feb",
   "metadata": {},
   "outputs": [],
   "source": [
    "@debug_view.capture()\n",
    "def bad_callback(event):\n",
    "    print('This is about to explode')\n",
    "    return 1.0 / 0.0"
   ]
  },
  {
   "cell_type": "code",
   "execution_count": null,
   "id": "f0d0bb57-1931-420a-8a10-af96ae8393d7",
   "metadata": {},
   "outputs": [],
   "source": [
    "button = widgets.Button(\n",
    "    description='click me to raise an exception',\n",
    "    layout={'width': '300px'}\n",
    ")\n",
    "button.on_click(bad_callback)"
   ]
  },
  {
   "cell_type": "code",
   "execution_count": null,
   "id": "7e67cba8-b8bc-497f-9654-0bccff44f291",
   "metadata": {},
   "outputs": [],
   "source": [
    "button"
   ]
  },
  {
   "cell_type": "code",
   "execution_count": null,
   "id": "93b3a2d2-1a38-4228-8682-6b9df70f8df3",
   "metadata": {},
   "outputs": [],
   "source": [
    "debug_view"
   ]
  }
 ],
 "metadata": {
  "kernelspec": {
   "display_name": "Python 3",
   "language": "python",
   "name": "python3"
  },
  "language_info": {
   "codemirror_mode": {
    "name": "ipython",
    "version": 3
   },
   "file_extension": ".py",
   "mimetype": "text/x-python",
   "name": "python",
   "nbconvert_exporter": "python",
   "pygments_lexer": "ipython3",
   "version": "3.8.10"
  }
 },
 "nbformat": 4,
 "nbformat_minor": 5
}
